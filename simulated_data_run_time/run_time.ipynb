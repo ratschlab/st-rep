{
 "cells": [
  {
   "cell_type": "code",
   "execution_count": null,
   "id": "b5390783-16f8-49ad-86c5-4e6f1fd5bc1a",
   "metadata": {},
   "outputs": [],
   "source": [
    "from aestetik.utils.utils_morphology import extract_morphology_embeddings\n",
    "from aestetik.utils.utils_transcriptomics import preprocess_adata\n",
    "from aestetik import AESTETIK\n",
    "AESTETIK.version()"
   ]
  },
  {
   "cell_type": "code",
   "execution_count": null,
   "id": "71686365-647c-4188-8009-97421e8aaf4c",
   "metadata": {},
   "outputs": [],
   "source": [
    "import plotnine as p9\n",
    "import squidpy as sq\n",
    "import time\n",
    "import scanpy as sc\n",
    "import pandas as pd\n",
    "import numpy as np\n",
    "import torch\n",
    "import json"
   ]
  },
  {
   "cell_type": "code",
   "execution_count": null,
   "id": "a930b498-42c3-4f65-9d58-b1cfc51d5ae4",
   "metadata": {},
   "outputs": [],
   "source": [
    "import logging\n",
    "# Configure the logging module\n",
    "logging.basicConfig(level=logging.INFO)  # Set the desired logging level\n",
    "logging.getLogger(\"pyvips\").setLevel(logging.CRITICAL)"
   ]
  },
  {
   "cell_type": "code",
   "execution_count": null,
   "id": "50b7eea9-fb8a-4476-875d-e8b8f02a823a",
   "metadata": {},
   "outputs": [],
   "source": [
    "json_path = f\"out_ablation/data/meta/B.json\"\n",
    "adata_in = f\"out_ablation/data/h5ad/B.h5ad\""
   ]
  },
  {
   "cell_type": "code",
   "execution_count": null,
   "id": "8c082110-f7ea-4a5f-8384-1e51968ed0a0",
   "metadata": {},
   "outputs": [],
   "source": [
    "n_components = 15\n",
    "spot_diameter_fullres = json.load(open(json_path))[\"spot_diameter_fullres\"]\n",
    "dot_size = json.load(open(json_path))[\"dot_size\"]\n",
    "spot_diameter_fullres, dot_size"
   ]
  },
  {
   "cell_type": "code",
   "execution_count": null,
   "id": "2511bed4-5e55-4c98-9f82-2bf51891a4ef",
   "metadata": {},
   "outputs": [],
   "source": [
    "adata = sc.read_h5ad(adata_in)\n",
    "#adata = adata[adata.obs.sample(50000).index,:] # to speed up, we only select 100 spots.\n",
    "#adata = preprocess_adata(adata)\n",
    "adata"
   ]
  },
  {
   "cell_type": "code",
   "execution_count": null,
   "id": "bff106d0-d38b-483e-9693-5ea28d7aaaf6",
   "metadata": {},
   "outputs": [],
   "source": [
    "# we set the transcriptomics modality\n",
    "adata.obsm[\"X_pca_transcriptomics\"] = adata.obsm[\"X_pca\"][:,0:n_components]\n",
    "adata.obsm[\"X_pca_transcriptomics\"].shape"
   ]
  },
  {
   "cell_type": "code",
   "execution_count": null,
   "id": "ada356ad-288a-404e-b2f6-2ae69393d28b",
   "metadata": {},
   "outputs": [],
   "source": [
    "# we set the morphology modality\n",
    "adata.obsm[\"X_pca_morphology\"] = adata.obsm[\"image\"][:,0:n_components]\n",
    "adata.obsm[\"X_pca_morphology\"].shape"
   ]
  },
  {
   "cell_type": "code",
   "execution_count": null,
   "id": "07b6b1bc-3f80-4155-be12-cfc1985b74b9",
   "metadata": {},
   "outputs": [],
   "source": [
    "import torch\n",
    "torch.device(\n",
    "            \"cuda\") if torch.cuda.is_available() else torch.device(\"cpu\")"
   ]
  },
  {
   "cell_type": "code",
   "execution_count": null,
   "id": "f4d55f85-35bb-42f6-a26a-a39d78a358c2",
   "metadata": {},
   "outputs": [],
   "source": [
    "import multiprocessing\n",
    "\n",
    "def run_time(adata):\n",
    "\n",
    "        \n",
    "        parameters = {'morphology_weight': 1.5,\n",
    "                     'refine_cluster': 0,\n",
    "                     'window_size': 3,\n",
    "                     'epochs': 10,\n",
    "                     'batch_size': 100_000,\n",
    "                     'clustering_method': \"kmeans\",\n",
    "                     'n_jobs': 1,\n",
    "                    }\n",
    "        \n",
    "        model = AESTETIK(adata, \n",
    "                     nCluster=adata.obs.ground_truth.unique().size,\n",
    "                     **parameters)\n",
    "        start_time = {}\n",
    "        end_time = {}\n",
    "        start_time[\"prepare_input_for_model\"] = time.perf_counter()\n",
    "        model.prepare_input_for_model()\n",
    "        end_time[\"prepare_input_for_model\"] = time.perf_counter()\n",
    "    \n",
    "        start_time[\"train\"] = time.perf_counter()\n",
    "        model.train()\n",
    "        end_time[\"train\"] = time.perf_counter()\n",
    "    \n",
    "        start_time[\"compute_spot_representations\"] = time.perf_counter()\n",
    "        model.compute_spot_representations(cluster=True)\n",
    "        end_time[\"compute_spot_representations\"] = time.perf_counter()\n",
    "    \n",
    "        time_prepare_input_for_model = end_time[\"prepare_input_for_model\"] - start_time[\"prepare_input_for_model\"]\n",
    "        time_train = end_time[\"train\"] - start_time[\"train\"]\n",
    "        time_compute_spot_representations = end_time[\"compute_spot_representations\"] - start_time[\"compute_spot_representations\"]\n",
    "        return time_prepare_input_for_model, time_train, time_compute_spot_representations"
   ]
  },
  {
   "cell_type": "code",
   "execution_count": null,
   "id": "cd259e9d-5bcf-4b8f-ad88-5c3dc57075ad",
   "metadata": {},
   "outputs": [],
   "source": [
    "def measure_time(adata, n_points):\n",
    "    adata = adata.copy()\n",
    "    if len(adata) > n_points:\n",
    "        adata_subsampled = adata[adata.obs.sample(n_points).index,:]\n",
    "    else:\n",
    "        adata_subsampled = adata\n",
    "    print(f\"Running with {len(adata_subsampled)} spots...\")\n",
    "    time_prepare_input_for_model, time_train, time_compute_spot_representations = run_time(adata_subsampled)\n",
    "    \n",
    "    return time_prepare_input_for_model, time_train, time_compute_spot_representations"
   ]
  },
  {
   "cell_type": "code",
   "execution_count": null,
   "id": "787dc2d1-fd98-400b-8831-16795944b7a9",
   "metadata": {},
   "outputs": [],
   "source": [
    "time_df = []\n",
    "for n_points in reversed([\n",
    "                 1_000,\n",
    "                 5_000,\n",
    "                 10_000, \n",
    "                 50_000,\n",
    "                 100_000,\n",
    "                 200_000,\n",
    "                 400_000,\n",
    "                 500_000,\n",
    "                 1_000_000,\n",
    "                 10_000_000,\n",
    "                ]):\n",
    "    \n",
    "    time_prepare_input_for_model, time_train, time_compute_spot_representations = measure_time(adata, n_points)\n",
    "    time_df.append([n_points, time_prepare_input_for_model, time_train, time_compute_spot_representations])\n",
    "\n",
    "time_df = pd.DataFrame(time_df, columns=[\"n_points\", \n",
    "                                         \"prepare_input_for_model\", \n",
    "                                         \"train\", \n",
    "                                         \"compute_spot_representations\"])\n",
    "time_df"
   ]
  },
  {
   "cell_type": "code",
   "execution_count": null,
   "id": "71e24f5f-6630-466c-826f-f41884de7a66",
   "metadata": {},
   "outputs": [],
   "source": [
    "time_df.to_csv(\"run_time.csv\", index=False)"
   ]
  },
  {
   "cell_type": "code",
   "execution_count": null,
   "id": "1d4ca938-faca-42b1-bd35-1b9b90fe7c6e",
   "metadata": {},
   "outputs": [],
   "source": [
    "to_plot = time_df.melt([\"n_points\"], var_name=\"function\", value_name=\"seconds\")\n",
    "(p9.ggplot(to_plot, p9.aes(\"n_points\", \"seconds\", color=\"function\", group=\"function\")) \n",
    " + p9.geom_point() \n",
    " + p9.geom_line(linetype=\"dashed\")\n",
    " + p9.theme_bw()\n",
    " + p9.scale_x_log10()\n",
    ")"
   ]
  },
  {
   "cell_type": "code",
   "execution_count": null,
   "id": "fee0113d-fca1-46a1-8209-ccdca554f395",
   "metadata": {},
   "outputs": [],
   "source": []
  }
 ],
 "metadata": {
  "kernelspec": {
   "display_name": "nonchev",
   "language": "python",
   "name": "nonchev"
  },
  "language_info": {
   "codemirror_mode": {
    "name": "ipython",
    "version": 3
   },
   "file_extension": ".py",
   "mimetype": "text/x-python",
   "name": "python",
   "nbconvert_exporter": "python",
   "pygments_lexer": "ipython3",
   "version": "3.9.16"
  }
 },
 "nbformat": 4,
 "nbformat_minor": 5
}
