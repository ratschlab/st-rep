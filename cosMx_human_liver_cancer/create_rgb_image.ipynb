{
 "cells": [
  {
   "cell_type": "code",
   "execution_count": 1,
   "id": "1e7a3c75-efd9-476f-a00b-69a2eb53bbeb",
   "metadata": {
    "execution": {
     "iopub.execute_input": "2023-07-05T09:09:47.131956Z",
     "iopub.status.busy": "2023-07-05T09:09:47.130902Z",
     "iopub.status.idle": "2023-07-05T09:09:51.506369Z",
     "shell.execute_reply": "2023-07-05T09:09:51.505076Z"
    },
    "papermill": {
     "duration": 4.393925,
     "end_time": "2023-07-05T09:09:51.510871",
     "exception": false,
     "start_time": "2023-07-05T09:09:47.116946",
     "status": "completed"
    },
    "tags": []
   },
   "outputs": [],
   "source": [
    "from PIL import Image, ImageSequence\n",
    "import numpy as np\n",
    "import glob\n",
    "import yaml\n",
    "from tqdm import tqdm\n",
    "import pandas as pd\n",
    "import matplotlib.pyplot as plt\n",
    "from sklearn.decomposition import PCA\n",
    "from sklearn.preprocessing import MinMaxScaler, RobustScaler"
   ]
  },
  {
   "cell_type": "code",
   "execution_count": 2,
   "id": "9c178935-779b-4d3b-847d-320cc532bb02",
   "metadata": {
    "execution": {
     "iopub.execute_input": "2023-07-05T09:09:51.536771Z",
     "iopub.status.busy": "2023-07-05T09:09:51.535433Z",
     "iopub.status.idle": "2023-07-05T09:09:51.546793Z",
     "shell.execute_reply": "2023-07-05T09:09:51.545767Z"
    },
    "papermill": {
     "duration": 0.025375,
     "end_time": "2023-07-05T09:09:51.549108",
     "exception": false,
     "start_time": "2023-07-05T09:09:51.523733",
     "status": "completed"
    },
    "tags": []
   },
   "outputs": [],
   "source": [
    "def load_image(img_path, sample):\n",
    "    # Open image and hunt down separate channels\n",
    "    with Image.open(img_path) as im:\n",
    "        channels = []\n",
    "        for ch in ImageSequence.Iterator(im):\n",
    "            ch = np.array(ch)\n",
    "            channels.append(ch)\n",
    "        \n",
    "    channels = np.stack(channels, axis=2)\n",
    "    dim = channels.shape\n",
    "    channels_pca_rbg = PCA(n_components=3).fit_transform(channels.reshape(-1, dim[-1]))\n",
    "    scaled_image = MinMaxScaler(feature_range=(0, 255)).fit_transform(channels_pca_rbg)\n",
    "    scaled_image = scaled_image.reshape(*dim[:2], 3)\n",
    "    \n",
    "    #scaled_image = ((channels_pca_rbg - channels_pca_rbg.min(axis=(0,1), keepdims=True)) / (channels_pca_rbg.max(axis=(0,1), keepdims=True) - channels_pca_rbg.min(axis=(0,1), keepdims=True))) * 255\n",
    "    scaled_image = scaled_image.astype(np.uint8)\n",
    "    scaled_image = Image.fromarray(scaled_image)\n",
    "    plt.imshow(scaled_image)\n",
    "    plt.show()\n",
    "    scaled_image.save(f\"data/{sample}_pca_rgb.jpg\")"
   ]
  },
  {
   "cell_type": "code",
   "execution_count": 3,
   "id": "03880ea7-73ed-4b6a-9cf3-2cf9257b1dab",
   "metadata": {
    "execution": {
     "iopub.execute_input": "2023-07-05T09:09:51.571290Z",
     "iopub.status.busy": "2023-07-05T09:09:51.570220Z",
     "iopub.status.idle": "2023-07-05T09:09:51.873943Z",
     "shell.execute_reply": "2023-07-05T09:09:51.872863Z"
    },
    "papermill": {
     "duration": 0.320645,
     "end_time": "2023-07-05T09:09:51.879042",
     "exception": false,
     "start_time": "2023-07-05T09:09:51.558397",
     "status": "completed"
    },
    "tags": []
   },
   "outputs": [
    {
     "data": {
      "text/plain": [
       "100"
      ]
     },
     "execution_count": 3,
     "metadata": {},
     "output_type": "execute_result"
    }
   ],
   "source": [
    "with open(\"info.yaml\", \"r\") as stream:\n",
    "    INFO = yaml.safe_load(stream)\n",
    "SAMPLES = INFO[\"SAMPLE\"]\n",
    "len(SAMPLES)"
   ]
  },
  {
   "cell_type": "code",
   "execution_count": null,
   "id": "86d9d409-ef95-4530-8dbf-190b48740c63",
   "metadata": {
    "papermill": {
     "duration": 0.343952,
     "end_time": "2023-07-05T09:53:12.460417",
     "exception": false,
     "start_time": "2023-07-05T09:53:12.116465",
     "status": "completed"
    },
    "tags": []
   },
   "outputs": [],
   "source": []
  },
  {
   "cell_type": "code",
   "execution_count": null,
   "id": "26c73459-2cb9-4461-aad3-a9918688f771",
   "metadata": {
    "papermill": {
     "duration": 0.343581,
     "end_time": "2023-07-05T09:53:13.150548",
     "exception": false,
     "start_time": "2023-07-05T09:53:12.806967",
     "status": "completed"
    },
    "tags": []
   },
   "outputs": [],
   "source": []
  }
 ],
 "metadata": {
  "kernelspec": {
   "display_name": "nonchev",
   "language": "python",
   "name": "nonchev"
  },
  "language_info": {
   "codemirror_mode": {
    "name": "ipython",
    "version": 3
   },
   "file_extension": ".py",
   "mimetype": "text/x-python",
   "name": "python",
   "nbconvert_exporter": "python",
   "pygments_lexer": "ipython3",
   "version": "3.9.16"
  },
  "papermill": {
   "default_parameters": {},
   "duration": 2611.463564,
   "end_time": "2023-07-05T09:53:14.226218",
   "environment_variables": {},
   "exception": null,
   "input_path": "create_rgb_image.ipynb",
   "output_path": "create_rgb_image.ipynb",
   "parameters": {},
   "start_time": "2023-07-05T09:09:42.762654",
   "version": "2.4.0"
  }
 },
 "nbformat": 4,
 "nbformat_minor": 5
}
