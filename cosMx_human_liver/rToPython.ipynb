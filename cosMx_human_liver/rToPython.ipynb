{
 "cells": [
  {
   "cell_type": "code",
   "execution_count": 1,
   "id": "777b051b-a372-4bc1-9481-974726f62054",
   "metadata": {
    "execution": {
     "iopub.execute_input": "2023-06-16T20:56:08.902163Z",
     "iopub.status.busy": "2023-06-16T20:56:08.901837Z",
     "iopub.status.idle": "2023-06-16T20:56:08.907157Z",
     "shell.execute_reply": "2023-06-16T20:56:08.906143Z"
    },
    "papermill": {
     "duration": 0.025247,
     "end_time": "2023-06-16T20:56:08.909381",
     "exception": false,
     "start_time": "2023-06-16T20:56:08.884134",
     "status": "completed"
    },
    "tags": []
   },
   "outputs": [],
   "source": [
    "# @https://github.com/LuckyMD/Code_snippets/blob/master/Seurat_to_anndata.ipynb"
   ]
  },
  {
   "cell_type": "code",
   "execution_count": 2,
   "id": "e521241a-12f8-471e-ba22-4fb868819aaf",
   "metadata": {
    "execution": {
     "iopub.execute_input": "2023-06-16T20:56:09.021257Z",
     "iopub.status.busy": "2023-06-16T20:56:09.020898Z",
     "iopub.status.idle": "2023-06-16T20:56:09.024941Z",
     "shell.execute_reply": "2023-06-16T20:56:09.024162Z"
    },
    "papermill": {
     "duration": 0.073236,
     "end_time": "2023-06-16T20:56:09.027308",
     "exception": false,
     "start_time": "2023-06-16T20:56:08.954072",
     "status": "completed"
    },
    "tags": []
   },
   "outputs": [],
   "source": [
    "#%load_ext rpy2.ipython"
   ]
  },
  {
   "cell_type": "code",
   "execution_count": 3,
   "id": "cefbfe67-cbad-4bc8-b018-7b71137d2aad",
   "metadata": {
    "execution": {
     "iopub.execute_input": "2023-06-16T20:56:09.075650Z",
     "iopub.status.busy": "2023-06-16T20:56:09.075330Z",
     "iopub.status.idle": "2023-06-16T20:56:09.133455Z",
     "shell.execute_reply": "2023-06-16T20:56:09.132621Z"
    },
    "papermill": {
     "duration": 0.092603,
     "end_time": "2023-06-16T20:56:09.135484",
     "exception": false,
     "start_time": "2023-06-16T20:56:09.042881",
     "status": "completed"
    },
    "tags": []
   },
   "outputs": [],
   "source": [
    "#%%R\n",
    "#library(Seurat)\n",
    "#library(SeuratData)\n",
    "#library(SeuratDisk)"
   ]
  },
  {
   "cell_type": "code",
   "execution_count": 4,
   "id": "dd6b6470-f06d-43c0-a19e-a169dc2cffaa",
   "metadata": {
    "execution": {
     "iopub.execute_input": "2023-06-16T20:56:09.176339Z",
     "iopub.status.busy": "2023-06-16T20:56:09.176021Z",
     "iopub.status.idle": "2023-06-16T20:56:09.203202Z",
     "shell.execute_reply": "2023-06-16T20:56:09.202370Z"
    },
    "papermill": {
     "duration": 0.0539,
     "end_time": "2023-06-16T20:56:09.205641",
     "exception": false,
     "start_time": "2023-06-16T20:56:09.151741",
     "status": "completed"
    },
    "tags": []
   },
   "outputs": [],
   "source": [
    "#%%R\n",
    "#scData <- readRDS(\"data/cosMx_human_liver/LiverDataReleaseSeurat_newUMAP.RDS\")\n",
    "#scData"
   ]
  },
  {
   "cell_type": "code",
   "execution_count": 5,
   "id": "03088e42-4a26-478d-a938-890c9963fe23",
   "metadata": {
    "execution": {
     "iopub.execute_input": "2023-06-16T20:56:09.270582Z",
     "iopub.status.busy": "2023-06-16T20:56:09.270290Z",
     "iopub.status.idle": "2023-06-16T20:56:09.273555Z",
     "shell.execute_reply": "2023-06-16T20:56:09.272907Z"
    },
    "papermill": {
     "duration": 0.028424,
     "end_time": "2023-06-16T20:56:09.275990",
     "exception": false,
     "start_time": "2023-06-16T20:56:09.247566",
     "status": "completed"
    },
    "tags": []
   },
   "outputs": [],
   "source": [
    "#%%R\n",
    "#scData"
   ]
  },
  {
   "cell_type": "code",
   "execution_count": 6,
   "id": "37a2fd44-d39a-454f-89b2-0e8f1fe9be31",
   "metadata": {
    "execution": {
     "iopub.execute_input": "2023-06-16T20:56:09.340271Z",
     "iopub.status.busy": "2023-06-16T20:56:09.339934Z",
     "iopub.status.idle": "2023-06-16T20:56:09.359628Z",
     "shell.execute_reply": "2023-06-16T20:56:09.358775Z"
    },
    "papermill": {
     "duration": 0.057347,
     "end_time": "2023-06-16T20:56:09.363151",
     "exception": false,
     "start_time": "2023-06-16T20:56:09.305804",
     "status": "completed"
    },
    "tags": []
   },
   "outputs": [],
   "source": [
    "#%%R\n",
    "#SaveH5Seurat(scData, filename = \"data/cosMx_human_liver/LiverDataReleaseSeurat_newUMAP.h5Seurat\")"
   ]
  },
  {
   "cell_type": "code",
   "execution_count": 7,
   "id": "7172cc54-58a8-4b0f-b41b-2df27f0ebeb5",
   "metadata": {
    "execution": {
     "iopub.execute_input": "2023-06-16T20:56:09.457403Z",
     "iopub.status.busy": "2023-06-16T20:56:09.456912Z",
     "iopub.status.idle": "2023-06-16T20:56:09.461256Z",
     "shell.execute_reply": "2023-06-16T20:56:09.460444Z"
    },
    "papermill": {
     "duration": 0.08101,
     "end_time": "2023-06-16T20:56:09.463776",
     "exception": false,
     "start_time": "2023-06-16T20:56:09.382766",
     "status": "completed"
    },
    "tags": []
   },
   "outputs": [],
   "source": [
    "#%%R\n",
    "#Convert(\"data/cosMx_human_liver/LiverDataReleaseSeurat_newUMAP.h5Seurat\", dest = \"h5ad\")"
   ]
  },
  {
   "cell_type": "code",
   "execution_count": 8,
   "id": "807e1d43-50fa-4bc8-8fdb-1bb91443adbd",
   "metadata": {
    "execution": {
     "iopub.execute_input": "2023-06-16T20:56:09.566858Z",
     "iopub.status.busy": "2023-06-16T20:56:09.566507Z",
     "iopub.status.idle": "2023-06-16T20:56:09.570793Z",
     "shell.execute_reply": "2023-06-16T20:56:09.569972Z"
    },
    "papermill": {
     "duration": 0.057855,
     "end_time": "2023-06-16T20:56:09.572837",
     "exception": false,
     "start_time": "2023-06-16T20:56:09.514982",
     "status": "completed"
    },
    "tags": []
   },
   "outputs": [],
   "source": [
    "#\"data/cosMx_human_liver/\""
   ]
  },
  {
   "cell_type": "code",
   "execution_count": 9,
   "id": "8c73ab10-81d8-433f-863b-292866c429ce",
   "metadata": {
    "execution": {
     "iopub.execute_input": "2023-06-16T20:56:09.619563Z",
     "iopub.status.busy": "2023-06-16T20:56:09.619242Z",
     "iopub.status.idle": "2023-06-16T20:56:40.450384Z",
     "shell.execute_reply": "2023-06-16T20:56:40.449255Z"
    },
    "papermill": {
     "duration": 30.87102,
     "end_time": "2023-06-16T20:56:40.453536",
     "exception": false,
     "start_time": "2023-06-16T20:56:09.582516",
     "status": "completed"
    },
    "tags": []
   },
   "outputs": [],
   "source": [
    "import scanpy as sc\n",
    "import numpy as np\n",
    "\n",
    "import anndata2ri"
   ]
  },
  {
   "cell_type": "code",
   "execution_count": 10,
   "id": "39b89971-4210-44bb-8db5-a5abbb866974",
   "metadata": {
    "execution": {
     "iopub.execute_input": "2023-06-16T20:56:40.517950Z",
     "iopub.status.busy": "2023-06-16T20:56:40.516771Z",
     "iopub.status.idle": "2023-06-16T20:56:44.157288Z",
     "shell.execute_reply": "2023-06-16T20:56:44.156680Z"
    },
    "papermill": {
     "duration": 3.693858,
     "end_time": "2023-06-16T20:56:44.159986",
     "exception": false,
     "start_time": "2023-06-16T20:56:40.466128",
     "status": "completed"
    },
    "tags": []
   },
   "outputs": [],
   "source": [
    "# Activate the anndata2ri conversion between SingleCellExperiment and AnnData\n",
    "anndata2ri.activate()\n",
    "\n",
    "#Loading the rpy2 extension enables cell magic to be used\n",
    "#This runs R code in jupyter notebook cells\n",
    "%load_ext rpy2.ipython"
   ]
  },
  {
   "cell_type": "code",
   "execution_count": 11,
   "id": "3bab403e-812b-4ff4-8969-99f15daa2f0e",
   "metadata": {
    "execution": {
     "iopub.execute_input": "2023-06-16T20:56:44.230340Z",
     "iopub.status.busy": "2023-06-16T20:56:44.230173Z",
     "iopub.status.idle": "2023-06-16T20:57:00.553741Z",
     "shell.execute_reply": "2023-06-16T20:57:00.553163Z"
    },
    "papermill": {
     "duration": 16.378517,
     "end_time": "2023-06-16T20:57:00.556242",
     "exception": false,
     "start_time": "2023-06-16T20:56:44.177725",
     "status": "completed"
    },
    "tags": []
   },
   "outputs": [
    {
     "name": "stdout",
     "output_type": "stream",
     "text": [
      "\n",
      "    WARNING: The R package \"reticulate\" only fixed recently\n",
      "    an issue that caused a segfault when used with rpy2:\n",
      "    https://github.com/rstudio/reticulate/pull/1188\n",
      "    Make sure that you use a version of that package that includes\n",
      "    the fix.\n",
      "    "
     ]
    },
    {
     "name": "stderr",
     "output_type": "stream",
     "text": [
      "R[write to console]: Attaching SeuratObject\n",
      "\n"
     ]
    },
    {
     "name": "stderr",
     "output_type": "stream",
     "text": [
      "R[write to console]: Using cached data manifest, last updated at 2023-04-21 01:15:29\n",
      "\n"
     ]
    },
    {
     "name": "stderr",
     "output_type": "stream",
     "text": [
      "R[write to console]: Registered S3 method overwritten by 'SeuratDisk':\n",
      "  method            from  \n",
      "  as.sparse.H5Group Seurat\n",
      "\n"
     ]
    }
   ],
   "source": [
    "%%R\n",
    "library(Seurat)\n",
    "library(SeuratData)\n",
    "library(SeuratDisk)"
   ]
  },
  {
   "cell_type": "code",
   "execution_count": 12,
   "id": "160fc147-26ec-4c2b-b861-9d386c04926c",
   "metadata": {
    "execution": {
     "iopub.execute_input": "2023-06-16T20:57:00.640959Z",
     "iopub.status.busy": "2023-06-16T20:57:00.640618Z",
     "iopub.status.idle": "2023-06-16T21:16:40.234242Z",
     "shell.execute_reply": "2023-06-16T21:16:40.233238Z"
    },
    "papermill": {
     "duration": 1179.661827,
     "end_time": "2023-06-16T21:16:40.235500",
     "exception": false,
     "start_time": "2023-06-16T20:57:00.573673",
     "status": "completed"
    },
    "tags": []
   },
   "outputs": [
    {
     "name": "stdout",
     "output_type": "stream",
     "text": [
      "An object of class"
     ]
    },
    {
     "name": "stdout",
     "output_type": "stream",
     "text": [
      " "
     ]
    },
    {
     "name": "stdout",
     "output_type": "stream",
     "text": [
      "Seurat"
     ]
    },
    {
     "name": "stdout",
     "output_type": "stream",
     "text": [
      " "
     ]
    },
    {
     "name": "stdout",
     "output_type": "stream",
     "text": [
      "\n"
     ]
    },
    {
     "name": "stdout",
     "output_type": "stream",
     "text": [
      "1197"
     ]
    },
    {
     "name": "stdout",
     "output_type": "stream",
     "text": [
      " "
     ]
    },
    {
     "name": "stdout",
     "output_type": "stream",
     "text": [
      "features across"
     ]
    },
    {
     "name": "stdout",
     "output_type": "stream",
     "text": [
      " "
     ]
    },
    {
     "name": "stdout",
     "output_type": "stream",
     "text": [
      "793318"
     ]
    },
    {
     "name": "stdout",
     "output_type": "stream",
     "text": [
      " "
     ]
    },
    {
     "name": "stdout",
     "output_type": "stream",
     "text": [
      "samples within"
     ]
    },
    {
     "name": "stdout",
     "output_type": "stream",
     "text": [
      " "
     ]
    },
    {
     "name": "stdout",
     "output_type": "stream",
     "text": [
      "3"
     ]
    },
    {
     "name": "stdout",
     "output_type": "stream",
     "text": [
      " "
     ]
    },
    {
     "name": "stdout",
     "output_type": "stream",
     "text": [
      "assays"
     ]
    },
    {
     "name": "stdout",
     "output_type": "stream",
     "text": [
      " "
     ]
    },
    {
     "name": "stdout",
     "output_type": "stream",
     "text": [
      "\n"
     ]
    },
    {
     "name": "stdout",
     "output_type": "stream",
     "text": [
      "Active assay:"
     ]
    },
    {
     "name": "stdout",
     "output_type": "stream",
     "text": [
      " "
     ]
    },
    {
     "name": "stdout",
     "output_type": "stream",
     "text": [
      "RNA"
     ]
    },
    {
     "name": "stdout",
     "output_type": "stream",
     "text": [
      " "
     ]
    },
    {
     "name": "stdout",
     "output_type": "stream",
     "text": [
      "(1000 features, 0 variable features)"
     ]
    },
    {
     "name": "stdout",
     "output_type": "stream",
     "text": [
      "\n"
     ]
    },
    {
     "name": "stdout",
     "output_type": "stream",
     "text": [
      " "
     ]
    },
    {
     "name": "stdout",
     "output_type": "stream",
     "text": [
      "2"
     ]
    },
    {
     "name": "stdout",
     "output_type": "stream",
     "text": [
      " "
     ]
    },
    {
     "name": "stdout",
     "output_type": "stream",
     "text": [
      "other"
     ]
    },
    {
     "name": "stdout",
     "output_type": "stream",
     "text": [
      " "
     ]
    },
    {
     "name": "stdout",
     "output_type": "stream",
     "text": [
      "assays"
     ]
    },
    {
     "name": "stdout",
     "output_type": "stream",
     "text": [
      " "
     ]
    },
    {
     "name": "stdout",
     "output_type": "stream",
     "text": [
      "present:"
     ]
    },
    {
     "name": "stdout",
     "output_type": "stream",
     "text": [
      " "
     ]
    },
    {
     "name": "stdout",
     "output_type": "stream",
     "text": [
      "falsecode, negprobes"
     ]
    },
    {
     "name": "stdout",
     "output_type": "stream",
     "text": [
      "\n"
     ]
    },
    {
     "name": "stdout",
     "output_type": "stream",
     "text": [
      " "
     ]
    },
    {
     "name": "stdout",
     "output_type": "stream",
     "text": [
      "3"
     ]
    },
    {
     "name": "stdout",
     "output_type": "stream",
     "text": [
      " "
     ]
    },
    {
     "name": "stdout",
     "output_type": "stream",
     "text": [
      "dimensional"
     ]
    },
    {
     "name": "stdout",
     "output_type": "stream",
     "text": [
      " "
     ]
    },
    {
     "name": "stdout",
     "output_type": "stream",
     "text": [
      "reductions"
     ]
    },
    {
     "name": "stdout",
     "output_type": "stream",
     "text": [
      " "
     ]
    },
    {
     "name": "stdout",
     "output_type": "stream",
     "text": [
      "calculated:"
     ]
    },
    {
     "name": "stdout",
     "output_type": "stream",
     "text": [
      " "
     ]
    },
    {
     "name": "stdout",
     "output_type": "stream",
     "text": [
      "pca, approximateumap, approximateUMAP_bySlide"
     ]
    },
    {
     "name": "stdout",
     "output_type": "stream",
     "text": [
      "\n"
     ]
    }
   ],
   "source": [
    "%%R\n",
    "scData <- readRDS(\"data/cosMx_human_liver/LiverDataReleaseSeurat_newUMAP.RDS\")\n",
    "scData"
   ]
  },
  {
   "cell_type": "code",
   "execution_count": 13,
   "id": "adced672-d476-439e-b8b8-db2f4fed0740",
   "metadata": {
    "execution": {
     "iopub.execute_input": "2023-06-16T21:16:40.300948Z",
     "iopub.status.busy": "2023-06-16T21:16:40.300591Z",
     "iopub.status.idle": "2023-06-16T21:16:40.312085Z",
     "shell.execute_reply": "2023-06-16T21:16:40.311259Z"
    },
    "papermill": {
     "duration": 0.053852,
     "end_time": "2023-06-16T21:16:40.314195",
     "exception": false,
     "start_time": "2023-06-16T21:16:40.260343",
     "status": "completed"
    },
    "tags": []
   },
   "outputs": [
    {
     "data": {
      "text/plain": [
       "1"
      ]
     },
     "execution_count": 13,
     "metadata": {},
     "output_type": "execute_result"
    }
   ],
   "source": [
    "1"
   ]
  },
  {
   "cell_type": "code",
   "execution_count": 14,
   "id": "9b22f1b5-5e8b-4ee1-9cfd-5397749f1c1f",
   "metadata": {
    "execution": {
     "iopub.execute_input": "2023-06-16T21:16:40.365138Z",
     "iopub.status.busy": "2023-06-16T21:16:40.364942Z",
     "iopub.status.idle": "2023-06-16T21:24:51.408058Z",
     "shell.execute_reply": "2023-06-16T21:24:51.406785Z"
    },
    "papermill": {
     "duration": 491.064365,
     "end_time": "2023-06-16T21:24:51.411159",
     "exception": false,
     "start_time": "2023-06-16T21:16:40.346794",
     "status": "completed"
    },
    "tags": []
   },
   "outputs": [
    {
     "name": "stdout",
     "output_type": "stream",
     "text": [
      "The history saving thread hit an unexpected error (OperationalError('disk I/O error')).History will not be written to the database.\n"
     ]
    },
    {
     "name": "stderr",
     "output_type": "stream",
     "text": [
      "/cluster/customapps/biomed/grlab/users/knonchev/miniconda3/envs/nonchev/lib/python3.9/site-packages/anndata2ri/r2py.py:106: FutureWarning: X.dtype being converted to np.float32 from float64. In the next version of anndata (0.9) conversion will not be automatic. Pass dtype explicitly to avoid this warning. Pass `AnnData(X, dtype=X.dtype, ...)` to get the future behavour.\n",
      "  return AnnData(exprs, obs, var, uns, obsm or None, layers=layers)\n"
     ]
    },
    {
     "name": "stdout",
     "output_type": "stream",
     "text": [
      "class:"
     ]
    },
    {
     "name": "stdout",
     "output_type": "stream",
     "text": [
      " "
     ]
    },
    {
     "name": "stdout",
     "output_type": "stream",
     "text": [
      "SingleCellExperiment"
     ]
    },
    {
     "name": "stdout",
     "output_type": "stream",
     "text": [
      " "
     ]
    },
    {
     "name": "stdout",
     "output_type": "stream",
     "text": [
      "\n"
     ]
    },
    {
     "name": "stdout",
     "output_type": "stream",
     "text": [
      "dim:"
     ]
    },
    {
     "name": "stdout",
     "output_type": "stream",
     "text": [
      " "
     ]
    },
    {
     "name": "stdout",
     "output_type": "stream",
     "text": [
      "1000"
     ]
    },
    {
     "name": "stdout",
     "output_type": "stream",
     "text": [
      " "
     ]
    },
    {
     "name": "stdout",
     "output_type": "stream",
     "text": [
      "793318"
     ]
    },
    {
     "name": "stdout",
     "output_type": "stream",
     "text": [
      " "
     ]
    },
    {
     "name": "stdout",
     "output_type": "stream",
     "text": [
      "\n"
     ]
    },
    {
     "name": "stdout",
     "output_type": "stream",
     "text": [
      "metadata(0):"
     ]
    },
    {
     "name": "stdout",
     "output_type": "stream",
     "text": [
      "\n"
     ]
    },
    {
     "name": "stdout",
     "output_type": "stream",
     "text": [
      "assays(2): X logcounts"
     ]
    },
    {
     "name": "stdout",
     "output_type": "stream",
     "text": [
      "\n"
     ]
    },
    {
     "name": "stdout",
     "output_type": "stream",
     "text": [
      "rownames(1000): AATK ABL1 ... ZBTB16 ZFP36"
     ]
    },
    {
     "name": "stdout",
     "output_type": "stream",
     "text": [
      "\n"
     ]
    },
    {
     "name": "stdout",
     "output_type": "stream",
     "text": [
      "rowData names(0):"
     ]
    },
    {
     "name": "stdout",
     "output_type": "stream",
     "text": [
      "\n"
     ]
    },
    {
     "name": "stdout",
     "output_type": "stream",
     "text": [
      "colnames(793318): c_1_100_10 c_1_100_1078 ... c_2_9_949 c_2_9_95"
     ]
    },
    {
     "name": "stdout",
     "output_type": "stream",
     "text": [
      "\n"
     ]
    },
    {
     "name": "stdout",
     "output_type": "stream",
     "text": [
      "colData names(64): RNA_pca_cluster_default RNA_pca_cluster_default.1"
     ]
    },
    {
     "name": "stdout",
     "output_type": "stream",
     "text": [
      "\n"
     ]
    },
    {
     "name": "stdout",
     "output_type": "stream",
     "text": [
      "  ... niche ident"
     ]
    },
    {
     "name": "stdout",
     "output_type": "stream",
     "text": [
      "\n"
     ]
    },
    {
     "name": "stdout",
     "output_type": "stream",
     "text": [
      "reducedDimNames(3): PCA APPROXIMATEUMAP APPROXIMATEUMAP_BYSLIDE"
     ]
    },
    {
     "name": "stdout",
     "output_type": "stream",
     "text": [
      "\n"
     ]
    },
    {
     "name": "stdout",
     "output_type": "stream",
     "text": [
      "mainExpName: NULL\n"
     ]
    },
    {
     "name": "stdout",
     "output_type": "stream",
     "text": [
      "altExpNames(0):"
     ]
    },
    {
     "name": "stdout",
     "output_type": "stream",
     "text": [
      "\n"
     ]
    },
    {
     "name": "stderr",
     "output_type": "stream",
     "text": [
      "/cluster/customapps/biomed/grlab/users/knonchev/miniconda3/envs/nonchev/lib/python3.9/site-packages/anndata2ri/r2py.py:106: FutureWarning: X.dtype being converted to np.float32 from float64. In the next version of anndata (0.9) conversion will not be automatic. Pass dtype explicitly to avoid this warning. Pass `AnnData(X, dtype=X.dtype, ...)` to get the future behavour.\n",
      "  return AnnData(exprs, obs, var, uns, obsm or None, layers=layers)\n"
     ]
    }
   ],
   "source": [
    "%%R -o adata\n",
    "#convert the Seurat object to a SingleCellExperiment object\n",
    "adata <- as.SingleCellExperiment(scData)\n",
    "\n",
    "adata"
   ]
  },
  {
   "cell_type": "code",
   "execution_count": 15,
   "id": "ef25b542-0be7-4d45-bd4b-eb0a0887b575",
   "metadata": {
    "execution": {
     "iopub.execute_input": "2023-06-16T21:24:51.565981Z",
     "iopub.status.busy": "2023-06-16T21:24:51.565594Z",
     "iopub.status.idle": "2023-06-16T21:24:51.574100Z",
     "shell.execute_reply": "2023-06-16T21:24:51.572715Z"
    },
    "papermill": {
     "duration": 0.141316,
     "end_time": "2023-06-16T21:24:51.576269",
     "exception": false,
     "start_time": "2023-06-16T21:24:51.434953",
     "status": "completed"
    },
    "tags": []
   },
   "outputs": [
    {
     "data": {
      "text/plain": [
       "AnnData object with n_obs × n_vars = 793318 × 1000\n",
       "    obs: 'RNA_pca_cluster_default', 'RNA_pca_cluster_default.1', 'orig.ident', 'nCount_RNA', 'nFeature_RNA', 'nCount_negprobes', 'nFeature_negprobes', 'nCount_falsecode', 'nFeature_falsecode', 'fov', 'Area', 'AspectRatio', 'Width', 'Height', 'Mean.PanCK', 'Max.PanCK', 'Mean.CK8.18', 'Max.CK8.18', 'Mean.Membrane', 'Max.Membrane', 'Mean.CD45', 'Max.CD45', 'Mean.DAPI', 'Max.DAPI', 'cell_id', 'assay_type', 'Run_name', 'slide_ID_numeric', 'Run_Tissue_name', 'Panel', 'Mean.Yellow', 'Max.Yellow', 'Mean.CD298_B2M', 'Max.CD298_B2M', 'cell_ID', 'x_FOV_px', 'y_FOV_px', 'x_slide_mm', 'y_slide_mm', 'propNegative', 'complexity', 'errorCtEstimate', 'percOfDataFromError', 'qcFlagsRNACounts', 'qcFlagsCellCounts', 'qcFlagsCellPropNeg', 'qcFlagsCellComplex', 'qcFlagsCellArea', 'median_negprobes', 'negprobes_quantile_0.9', 'median_RNA', 'RNA_quantile_0.9', 'nCell', 'nCount', 'nCountPerCell', 'nFeaturePerCell', 'propNegativeCellAvg', 'complexityCellAvg', 'errorCtPerCellEstimate', 'percOfDataFromErrorPerCell', 'qcFlagsFOV', 'cellType', 'niche', 'ident'\n",
       "    obsm: 'X_pca', 'APPROXIMATEUMAP', 'APPROXIMATEUMAP_BYSLIDE'\n",
       "    layers: 'logcounts'"
      ]
     },
     "execution_count": 15,
     "metadata": {},
     "output_type": "execute_result"
    }
   ],
   "source": [
    "adata"
   ]
  },
  {
   "cell_type": "code",
   "execution_count": 16,
   "id": "f36c5a54-433f-4037-a54b-ed36c0e62137",
   "metadata": {
    "execution": {
     "iopub.execute_input": "2023-06-16T21:24:51.626440Z",
     "iopub.status.busy": "2023-06-16T21:24:51.626262Z",
     "iopub.status.idle": "2023-06-16T21:25:03.309639Z",
     "shell.execute_reply": "2023-06-16T21:25:03.308541Z"
    },
    "papermill": {
     "duration": 11.71969,
     "end_time": "2023-06-16T21:25:03.312322",
     "exception": false,
     "start_time": "2023-06-16T21:24:51.592632",
     "status": "completed"
    },
    "tags": []
   },
   "outputs": [],
   "source": [
    "adata.write_h5ad(\"data/cosMx_human_liver/LiverDataReleaseSeurat_newUMAP.h5ad\")"
   ]
  }
 ],
 "metadata": {
  "kernelspec": {
   "display_name": "nonchev",
   "language": "python",
   "name": "nonchev"
  },
  "language_info": {
   "codemirror_mode": {
    "name": "ipython",
    "version": 3
   },
   "file_extension": ".py",
   "mimetype": "text/x-python",
   "name": "python",
   "nbconvert_exporter": "python",
   "pygments_lexer": "ipython3",
   "version": "3.9.16"
  },
  "papermill": {
   "default_parameters": {},
   "duration": 1751.693355,
   "end_time": "2023-06-16T21:25:10.615815",
   "environment_variables": {},
   "exception": null,
   "input_path": "rToPython.ipynb",
   "output_path": "rToPython.ipynb",
   "parameters": {},
   "start_time": "2023-06-16T20:55:58.922460",
   "version": "2.4.0"
  }
 },
 "nbformat": 4,
 "nbformat_minor": 5
}