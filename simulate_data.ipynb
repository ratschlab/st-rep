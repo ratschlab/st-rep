{
 "cells": [
  {
   "cell_type": "markdown",
   "id": "96b9fc62-07d5-46f7-9bc5-ebb9aa61a583",
   "metadata": {
    "tags": []
   },
   "source": [
    "### Simulated data generation\n",
    "\n",
    "We adapted the code for data simulation from https://github.com/AltschulerWu-Lab/MUSE/tree/master/simulation_tool and added spatial modality by sorting the spots in spatial space. You can find the adapted version [here](https://github.com/ratschlab/simulate_spatial_transcriptomics_tool). https://github.com/ratschlab/simulate_spatial_transcriptomics_tool"
   ]
  },
  {
   "cell_type": "code",
   "execution_count": null,
   "id": "c89a3056-4206-4f20-9475-92fd8b1cf145",
   "metadata": {
    "tags": []
   },
   "outputs": [],
   "source": [
    "from simulate_spatial_transcriptomics_tool.src.simulate_st_data import generate_samples\n",
    "import numpy as np\n",
    "import yaml"
   ]
  },
  {
   "cell_type": "code",
   "execution_count": null,
   "id": "f78683be-26c2-4c9d-a619-42972f33e5cc",
   "metadata": {
    "tags": []
   },
   "outputs": [],
   "source": [
    "def create_yaml_file(main_folder, YAML_TEXT):\n",
    "    with open(f\"{main_folder}/info.yaml\", 'w') as f:\n",
    "            f.write(YAML_TEXT)"
   ]
  },
  {
   "cell_type": "code",
   "execution_count": null,
   "id": "16e5d2b5-b0c6-435c-8df9-5e910264b481",
   "metadata": {
    "tags": []
   },
   "outputs": [],
   "source": [
    "np.random.seed(2023)"
   ]
  },
  {
   "cell_type": "code",
   "execution_count": null,
   "id": "0e54553a-04bd-4617-98a3-0f7e8c388a53",
   "metadata": {
    "tags": []
   },
   "outputs": [],
   "source": [
    "YAML_TEXT = \"\"\"\n",
    "SAMPLE:\n",
    "   - \"A\"\n",
    "   - \"B\" \n",
    "   - \"C\" \n",
    "   - \"D\" \n",
    "   - \"E\"\n",
    "   \n",
    "DATASET: \"simulated_data\"\n",
    "OUT_FOLDER: \"out_ablation\"\n",
    "\n",
    "CROSS_VALIDATION_SPLIT:    \n",
    "    - [[\"A\"], [\"B\", \"C\", \"D\", \"E\"]]\n",
    "    - [[\"B\"], [\"A\", \"C\", \"D\", \"E\"]]\n",
    "    - [[\"C\"], [\"B\", \"A\", \"D\", \"E\"]]\n",
    "    - [[\"D\"], [\"B\", \"C\", \"A\", \"E\"]]\n",
    "    - [[\"E\"], [\"B\", \"C\", \"D\", \"A\"]]\n",
    "\n",
    "MODEL_R:  \n",
    "\n",
    "MODEL_PYTHON:\n",
    "\n",
    "MODEL_FINE_TUNE:\n",
    "    - AESTETIK\n",
    "    - AESTETIK_window_size_1\n",
    "    - AESTETIK_window_size_3\n",
    "    - AESTETIK_window_size_5\n",
    "    - AESTETIK_window_size_7\n",
    "    - AESTETIK_window_size_9\n",
    "    - AESTETIK_window_size_11\n",
    "    - AESTETIK_morphology_weight_0\n",
    "    - AESTETIK_morphology_weight_1\n",
    "    - AESTETIK_morphology_weight_1.5\n",
    "    - AESTETIK_morphology_weight_2\n",
    "    - AESTETIK_morphology_weight_3\n",
    "    - AESTETIK_triplet_loss_off\n",
    "    - AESTETIK_triplet_loss_single\n",
    "    - AESTETIK_triplet_loss_multi\n",
    "    - AESTETIK_clustering_method_kmeans\n",
    "    - AESTETIK_clustering_method_bgm\n",
    "    - AESTETIK_refine_cluster_off\n",
    "    - AESTETIK_refine_cluster_on\n",
    "    - AESTETIK_train_size_0.01\n",
    "    - AESTETIK_train_size_0.1\n",
    "    - AESTETIK_train_size_0.25\n",
    "    - AESTETIK_train_size_0.5\n",
    "    - AESTETIK_train_size_0.75\n",
    "    - AESTETIK_train_size_all\n",
    "    - AESTETIK_rec_loss_off\n",
    "    - AESTETIK_rec_loss_on\n",
    "\n",
    "\n",
    "IMAGE_FEATURES:\n",
    "    - inception\n",
    "\n",
    "DOWNSAMPLE_FACTOR: 1\n",
    "IMAGE_FORMAT: \"png\"\n",
    "\"\"\"\n",
    "\n",
    "\n",
    "YAML_TEXT_TEST = \"\"\"\n",
    "SAMPLE:\n",
    "   - \"A\"\n",
    "   - \"B\"\n",
    "   \n",
    "DATASET: \"test_data\"\n",
    "OUT_FOLDER: \"out_benchmark\"\n",
    "\n",
    "CROSS_VALIDATION_SPLIT:    \n",
    "    - [[\"A\"], [\"B\"]]\n",
    "    - [[\"B\"], [\"A\"]]\n",
    "\n",
    "MODEL_R:\n",
    "\n",
    "MODEL_PYTHON: \n",
    "   \n",
    "\n",
    "MODEL_FINE_TUNE:\n",
    "    - AESTETIK\n",
    "    - GraphST\n",
    "\n",
    "IMAGE_FEATURES:\n",
    "    - inception\n",
    "\n",
    "DOWNSAMPLE_FACTOR: 1\n",
    "IMAGE_FORMAT: \"png\"\n",
    "\"\"\""
   ]
  },
  {
   "cell_type": "code",
   "execution_count": null,
   "id": "44b60d70-81ff-4849-ad7e-a1f099984d77",
   "metadata": {
    "tags": []
   },
   "outputs": [],
   "source": [
    "\"\"\"\n",
    "Parameters:\n",
    "      n_clusters:       number of ground truth clusters.\n",
    "      n:                number of cells to simulate.\n",
    "      d_1:              dimension of features for transcript modality.\n",
    "      d_2:              dimension of features for morphological modality.\n",
    "      k:                dimension of latent code to generate simulate data (for both modality)\n",
    "      sigma_1:          variance of gaussian noise for transcript modality.\n",
    "      sigma_2:          variance of gaussian noise for morphological modality.\n",
    "      decay_coef_1:     decay coefficient of dropout rate for transcript modality.\n",
    "      decay_coef_2:     decay coefficient of dropout rate for morphological modality.\n",
    "      merge_prob:       probability to merge neighbor clusters for the generation of modality-specific\n",
    "                        clusters (same for both modalities)\n",
    "\"\"\""
   ]
  },
  {
   "cell_type": "markdown",
   "id": "46aa4f40-1eac-47bf-aa53-63d148f96c13",
   "metadata": {
    "tags": []
   },
   "source": [
    "To ensure that everything is installed correctly, we will start by generating the spatial transcritpomics test data."
   ]
  },
  {
   "cell_type": "code",
   "execution_count": null,
   "id": "6a781dc4-724a-4d4a-8470-e276a8d1191c",
   "metadata": {},
   "outputs": [],
   "source": [
    "main_folder = \"test_data/out_benchmark\"\n",
    "sample_names = [\"A\", \"B\"]\n",
    "create_yaml_file(main_folder, YAML_TEXT_TEST)\n",
    "generate_samples(main_folder, sample_names, n_clusters=5, n_points=2500)"
   ]
  },
  {
   "cell_type": "markdown",
   "id": "1c4b2a85-c502-40fd-85b4-1e3dcbd93851",
   "metadata": {},
   "source": [
    "Next, we will generate three datasets, each containing five samples with 2500 spots per sample. The datasets will vary by the number of clusters: 5, 10, and 15."
   ]
  },
  {
   "cell_type": "code",
   "execution_count": null,
   "id": "ca72962e-9020-4a26-a0b1-58d0eefce4a1",
   "metadata": {},
   "outputs": [],
   "source": [
    "main_folder = \"simulated_data_5_clusters/out_ablation\"\n",
    "sample_names = [\"A\", \"B\", \"C\", \"D\", \"E\"]\n",
    "create_yaml_file(main_folder, YAML_TEXT)\n",
    "generate_samples(main_folder, sample_names, n_clusters=5, n_points=2500)"
   ]
  },
  {
   "cell_type": "code",
   "execution_count": null,
   "id": "1834cd76-a90d-4fb4-8631-49c51de63476",
   "metadata": {},
   "outputs": [],
   "source": [
    "main_folder = \"simulated_data_10_clusters/out_ablation\"\n",
    "sample_names = [\"A\", \"B\", \"C\", \"D\", \"E\"]\n",
    "create_yaml_file(main_folder, YAML_TEXT)\n",
    "generate_samples(main_folder, sample_names, n_clusters=10, n_points=2500)"
   ]
  },
  {
   "cell_type": "code",
   "execution_count": null,
   "id": "8f74c749-8d16-4ce4-8f13-ab3ea10ca138",
   "metadata": {},
   "outputs": [],
   "source": [
    "main_folder = \"simulated_data_15_clusters/out_ablation\"\n",
    "sample_names = [\"A\", \"B\", \"C\", \"D\", \"E\"]\n",
    "create_yaml_file(main_folder, YAML_TEXT)\n",
    "generate_samples(main_folder, sample_names, n_clusters=15, n_points=2500)"
   ]
  },
  {
   "cell_type": "markdown",
   "id": "17e1314b-1cd8-4746-bf57-a2f22f76cebf",
   "metadata": {},
   "source": [
    "Lastly, we generate one sample with 1 million spots to test the runtime of our algorithm."
   ]
  },
  {
   "cell_type": "code",
   "execution_count": null,
   "id": "0622ed55-d25f-45ef-a633-79f7c759c5b0",
   "metadata": {},
   "outputs": [],
   "source": [
    "main_folder = \"simulated_data_run_time/out_ablation\"\n",
    "sample_names = [\"A\"]\n",
    "generate_samples(main_folder, sample_names, n_clusters=5, n_points=1_000_000)"
   ]
  },
  {
   "cell_type": "code",
   "execution_count": null,
   "id": "1e988c10-b436-4ae6-a379-5cda11620c60",
   "metadata": {},
   "outputs": [],
   "source": [
    "main_folder = \"simulated_data_run_time/out_ablation\"\n",
    "sample_names = [\"B\"]\n",
    "generate_samples(main_folder, sample_names, n_clusters=5, n_points=10_000_000)"
   ]
  },
  {
   "cell_type": "code",
   "execution_count": null,
   "id": "644d64a5-448f-44b3-86b3-8e2e0ab41b93",
   "metadata": {},
   "outputs": [],
   "source": []
  }
 ],
 "metadata": {
  "kernelspec": {
   "display_name": "nonchev",
   "language": "python",
   "name": "nonchev"
  },
  "language_info": {
   "codemirror_mode": {
    "name": "ipython",
    "version": 3
   },
   "file_extension": ".py",
   "mimetype": "text/x-python",
   "name": "python",
   "nbconvert_exporter": "python",
   "pygments_lexer": "ipython3",
   "version": "3.9.16"
  }
 },
 "nbformat": 4,
 "nbformat_minor": 5
}
