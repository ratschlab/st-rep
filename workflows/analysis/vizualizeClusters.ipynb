{
 "cells": [
  {
   "cell_type": "code",
   "execution_count": null,
   "id": "4a70b025-48d2-44f6-9c2f-8f912479c1b7",
   "metadata": {
    "tags": []
   },
   "outputs": [],
   "source": [
    "import os\n",
    "#os.chdir('../../10x_tupro/')\n",
    "#os.chdir('../../maynard_human_brain_analysis/')\n",
    "#os.chdir('../../her2_positive_breast_tumors/')"
   ]
  },
  {
   "cell_type": "code",
   "execution_count": null,
   "id": "65183f44-29db-46ec-a84a-89936ea708cf",
   "metadata": {
    "tags": []
   },
   "outputs": [],
   "source": [
    "from sklearn.metrics.cluster import adjusted_rand_score\n",
    "import squidpy as sq\n",
    "import scanpy as sc\n",
    "import pandas as pd\n",
    "import numpy as np \n",
    "import glob\n",
    "import json\n",
    "import yaml"
   ]
  },
  {
   "cell_type": "code",
   "execution_count": null,
   "id": "838cf8a3-cb4e-4722-b0c3-018296014b29",
   "metadata": {
    "tags": []
   },
   "outputs": [],
   "source": [
    "from time import gmtime, strftime\n",
    "strftime(\"%Y-%m-%d %H:%M:%S\", gmtime())"
   ]
  },
  {
   "cell_type": "code",
   "execution_count": null,
   "id": "a0c56cb1-c5fa-4305-8544-d923994f7794",
   "metadata": {
    "tags": []
   },
   "outputs": [],
   "source": [
    "with open(\"info.yaml\", \"r\") as stream:\n",
    "    INFO = yaml.safe_load(stream)\n",
    "\n",
    "MODEL_R = INFO[\"MODEL_R\"] if INFO[\"MODEL_R\"] else list()\n",
    "MODEL_PYTHON = INFO[\"MODEL_PYTHON\"] if INFO[\"MODEL_PYTHON\"] else list()\n",
    "MODEL_FINE_TUNE = INFO[\"MODEL_FINE_TUNE\"] if INFO[\"MODEL_FINE_TUNE\"] else list()\n",
    "\n",
    "MODELS = [*MODEL_R, *MODEL_PYTHON, *MODEL_FINE_TUNE]\n",
    "MODELS"
   ]
  },
  {
   "cell_type": "code",
   "execution_count": null,
   "id": "fe70e375-2700-4fdf-b92c-4e86e1ad2b0f",
   "metadata": {
    "tags": [
     "parameters"
    ]
   },
   "outputs": [],
   "source": [
    "sample = \"151673\"\n",
    "out_folder = \"out_benchmark\""
   ]
  },
  {
   "cell_type": "code",
   "execution_count": null,
   "id": "ab7d4da1-c917-4824-b798-53f25c6c08fb",
   "metadata": {
    "tags": []
   },
   "outputs": [],
   "source": [
    "adata_in = f\"{out_folder}/data/h5ad/{sample}.h5ad\"\n",
    "json_path = f\"{out_folder}/data/meta/{sample}.json\"\n",
    "dot_size = float(json.load(open(json_path))[\"dot_size\"])\n",
    "dot_size"
   ]
  },
  {
   "cell_type": "code",
   "execution_count": null,
   "id": "0724c7b1-30f9-48d6-8644-44cd36d7132f",
   "metadata": {
    "tags": []
   },
   "outputs": [],
   "source": [
    "best_split_sample = pd.read_csv(f\"{out_folder}/summary/summary_best_split_sample.csv\")\n",
    "best_split_sample[\"sample\"] = best_split_sample[\"sample\"].astype(str)\n",
    "best_split_sample = best_split_sample[best_split_sample.model.isin(MODELS)]\n",
    "best_split_sample = best_split_sample.query(f\"sample == '{sample}'\")\n",
    "best_split_sample = best_split_sample.sort_values(\"ari\")\n",
    "best_split_sample"
   ]
  },
  {
   "cell_type": "code",
   "execution_count": null,
   "id": "be706cb4-c7b8-4452-8197-1b68c10cdfc7",
   "metadata": {
    "tags": []
   },
   "outputs": [],
   "source": [
    "cluster_paths = best_split_sample.path.values\n",
    "cluster_paths"
   ]
  },
  {
   "cell_type": "code",
   "execution_count": null,
   "id": "84eeeb7c-07da-475c-b06e-811f22e793eb",
   "metadata": {
    "tags": []
   },
   "outputs": [],
   "source": [
    "adata = sc.read(adata_in)\n",
    "adata.obs[\"Barcode\"] = adata.obs.index\n",
    "adata"
   ]
  },
  {
   "cell_type": "code",
   "execution_count": null,
   "id": "051dc579-5e5a-4a52-b8fc-6f4b9f5f2c13",
   "metadata": {
    "tags": []
   },
   "outputs": [],
   "source": [
    "def add_model_cluster(cluster_path):\n",
    "    df = pd.read_csv(cluster_path)\n",
    "    cluster_label_dict = pd.Series(df[df.columns[1]].values, index=df[df.columns[0]].values).to_dict()\n",
    "    adata.obs[cluster_path.split(\"/\")[2].replace(\"_evaluate\", \"\")] = adata.obs.Barcode.apply(lambda x: cluster_label_dict[x]).astype(str)"
   ]
  },
  {
   "cell_type": "code",
   "execution_count": null,
   "id": "c22774f1-7f4c-42f4-9082-f09690db677c",
   "metadata": {
    "tags": []
   },
   "outputs": [],
   "source": [
    "for cluster_path in cluster_paths:\n",
    "    add_model_cluster(cluster_path)"
   ]
  },
  {
   "cell_type": "code",
   "execution_count": null,
   "id": "271b292b-d3af-4d80-b76d-58eaa61d5060",
   "metadata": {
    "tags": []
   },
   "outputs": [],
   "source": [
    "adata.obs"
   ]
  },
  {
   "cell_type": "code",
   "execution_count": null,
   "id": "3a711fb1-f814-4c43-ac35-4898725f195a",
   "metadata": {
    "tags": []
   },
   "outputs": [],
   "source": [
    "color = [\"ground_truth\", *best_split_sample.model]"
   ]
  },
  {
   "cell_type": "code",
   "execution_count": null,
   "id": "0e0c2699-76e1-4bc5-8ec8-f64387b63d1e",
   "metadata": {
    "tags": []
   },
   "outputs": [],
   "source": [
    "title = [\"ground_truth\", *[f\"{model} ARI: {adjusted_rand_score(adata.obs['ground_truth'].values, adata.obs[model].values):.2f}\" for model in best_split_sample.model]]"
   ]
  },
  {
   "cell_type": "code",
   "execution_count": null,
   "id": "d42fb5e9-44ff-4a79-91d4-98ec52a58db3",
   "metadata": {
    "tags": []
   },
   "outputs": [],
   "source": [
    "sq.pl.spatial_scatter(adata, img_alpha=0.8, color=color, \n",
    "                      size=dot_size, ncols=6, title=title,\n",
    "                      frameon=False, wspace=0, dpi=300)"
   ]
  },
  {
   "cell_type": "code",
   "execution_count": null,
   "id": "ba13ecf0-2cf4-451d-85b0-1ad8d1cc0c93",
   "metadata": {},
   "outputs": [],
   "source": []
  }
 ],
 "metadata": {
  "kernelspec": {
   "display_name": "nonchev",
   "language": "python",
   "name": "nonchev"
  },
  "language_info": {
   "codemirror_mode": {
    "name": "ipython",
    "version": 3
   },
   "file_extension": ".py",
   "mimetype": "text/x-python",
   "name": "python",
   "nbconvert_exporter": "python",
   "pygments_lexer": "ipython3",
   "version": "3.9.16"
  }
 },
 "nbformat": 4,
 "nbformat_minor": 5
}
