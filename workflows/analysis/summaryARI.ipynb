{
 "cells": [
  {
   "cell_type": "code",
   "execution_count": null,
   "id": "9b7f671d-83de-4fb3-9d17-03664ae47cf9",
   "metadata": {
    "tags": []
   },
   "outputs": [],
   "source": [
    "import os\n",
    "#os.chdir('../../10x_tupro/')\n",
    "#os.chdir('../../maynard_human_brain_analysis/')\n",
    "#os.chdir('../../her2_positive_breast_tumors/')\n",
    "#os.chdir('../../human_breast_cancers/')\n",
    "#os.chdir('../../cosMx_human_liver_cancer/')\n",
    "#os.chdir('../../cosMx_human_liver_normal/')"
   ]
  },
  {
   "cell_type": "code",
   "execution_count": null,
   "id": "3a37d628-ead6-4fbe-93c9-ef1bfc5a8797",
   "metadata": {
    "tags": []
   },
   "outputs": [],
   "source": [
    "import sys\n",
    "sys.path.append('../')\n",
    "from src.utils import bootstrapping"
   ]
  },
  {
   "cell_type": "code",
   "execution_count": null,
   "id": "7bc93f20-6daa-4069-8fdf-b6d816b137b9",
   "metadata": {
    "tags": []
   },
   "outputs": [],
   "source": [
    "from sklearn.metrics.cluster import adjusted_rand_score\n",
    "from plotnine_prism import *\n",
    "from tqdm import tqdm\n",
    "import plotnine as p9\n",
    "import scanpy as sc\n",
    "import pandas as pd\n",
    "import shutil\n",
    "import glob\n",
    "import yaml"
   ]
  },
  {
   "cell_type": "code",
   "execution_count": null,
   "id": "15221078-ca86-4371-80bd-15fd9e85dd8e",
   "metadata": {
    "tags": []
   },
   "outputs": [],
   "source": [
    "from time import gmtime, strftime\n",
    "strftime(\"%Y-%m-%d %H:%M:%S\", gmtime())"
   ]
  },
  {
   "cell_type": "code",
   "execution_count": null,
   "id": "5aa1784d-67c5-4161-886d-46eb6f452bf7",
   "metadata": {
    "tags": []
   },
   "outputs": [],
   "source": [
    "with open(\"../model_and_dataset_info.yaml\", \"r\") as stream:\n",
    "    model_and_dataset_info = yaml.safe_load(stream)\n",
    "model_and_dataset_info"
   ]
  },
  {
   "cell_type": "code",
   "execution_count": null,
   "id": "5ce7baa5-7779-484c-a0e4-f18eafa63e02",
   "metadata": {
    "tags": [
     "parameters"
    ]
   },
   "outputs": [],
   "source": [
    "out_folder = \"out_benchmark\""
   ]
  },
  {
   "cell_type": "code",
   "execution_count": null,
   "id": "c09fb7ba-8d55-4217-82d4-d5d473d5e820",
   "metadata": {
    "tags": []
   },
   "outputs": [],
   "source": [
    "cluster_paths = glob.glob(f\"{out_folder}/*/*_evaluate/clusters*/*\")\n",
    "print(len(cluster_paths))\n",
    "cluster_paths[:2]"
   ]
  },
  {
   "cell_type": "code",
   "execution_count": null,
   "id": "7175c983-f740-4ae5-8a2d-cfeb9b143116",
   "metadata": {
    "tags": []
   },
   "outputs": [],
   "source": [
    "sorted_cluster_paths = {}\n",
    "for cluster_path in tqdm(cluster_paths):\n",
    "    sample = cluster_path.split(\"model-\")[1].replace(\"-best_param.csv\", \"\")\n",
    "    \n",
    "    if sample in sorted_cluster_paths:\n",
    "        sorted_cluster_paths[sample] = [cluster_path, *sorted_cluster_paths[sample]]\n",
    "    else:\n",
    "        sorted_cluster_paths[sample] = [cluster_path]"
   ]
  },
  {
   "cell_type": "code",
   "execution_count": null,
   "id": "42887bed-1da2-49fa-985e-ac35b0458c98",
   "metadata": {
    "tags": []
   },
   "outputs": [],
   "source": [
    "ari_result = []\n",
    "for sample in tqdm(sorted_cluster_paths.keys()):\n",
    "    adata = sc.read(f\"{out_folder}/data/h5ad/{sample}.h5ad\")\n",
    "    for cluster_path in sorted_cluster_paths[sample]:\n",
    "        split = cluster_path.split(\"/\")[1].split(\"/\")[0]\n",
    "        model = cluster_path.split(\"_evaluate\")[0].split(\"/\")[-1]\n",
    "        adata.obs[\"Barcode\"] = adata.obs.index.values\n",
    "        df = pd.read_csv(cluster_path)\n",
    "        cluster_label_dict = pd.Series(df[df.columns[1]].values, index=df[df.columns[0]].values).to_dict()\n",
    "        adata.obs[model] = adata.obs.Barcode.apply(lambda x: cluster_label_dict[x]).astype(str)\n",
    "        ari = adjusted_rand_score(adata.obs.ground_truth, adata.obs[model])\n",
    "        ari_result.append([split, model, sample, ari])\n",
    "    \n",
    "ari_result = pd.DataFrame(ari_result, columns=[\"split\", \"model\", \"sample\", \"ari\"])\n",
    "ari_result.head()"
   ]
  },
  {
   "cell_type": "code",
   "execution_count": null,
   "id": "7c20cb19-9b7c-44db-ba1d-949c34525b8a",
   "metadata": {
    "tags": []
   },
   "outputs": [],
   "source": [
    "ari_result.groupby(\"model\").ari.agg(\"median\").sort_values(ascending=False).reset_index()\n",
    "ari_result"
   ]
  },
  {
   "cell_type": "code",
   "execution_count": null,
   "id": "be1c5caf-f78a-4c20-bbfc-0f062457982d",
   "metadata": {
    "tags": []
   },
   "outputs": [],
   "source": [
    "tab = ari_result.groupby([\"model\", \"split\"]).ari.agg(\"median\").reset_index()\n",
    "tab[\"fine_tune\"] = tab[\"split\"].apply(lambda x: x.split(\"_test\")[0])\n",
    "tab.model = tab.model.astype(str)\n",
    "tab.model = pd.Categorical(tab.model, tab.groupby(\"model\").ari.agg(\"median\").sort_values(ascending=True).index)\n",
    "tab[\"modality\"] = tab.model.apply(lambda x: model_and_dataset_info[\"model_modality\"][x.split(\"_\")[0]])\n",
    "tab"
   ]
  },
  {
   "cell_type": "code",
   "execution_count": null,
   "id": "a4ff6ab3-665f-4dbd-9a06-d9d29131b9ef",
   "metadata": {
    "tags": []
   },
   "outputs": [],
   "source": [
    "current_path = !pwd\n",
    "dataset = model_and_dataset_info[\"dataset\"][current_path[0].split(\"/\")[-1]]\n",
    "dataset"
   ]
  },
  {
   "cell_type": "code",
   "execution_count": null,
   "id": "c8204c06-7ccf-4d2d-8107-f50b30d56445",
   "metadata": {
    "tags": []
   },
   "outputs": [],
   "source": [
    "g = (p9.ggplot(tab, p9.aes(\"model\", \"ari\")) \n",
    "     + p9.geom_boxplot(p9.aes(fill=\"modality\"), alpha=0.6)\n",
    "     + p9.theme_bw()\n",
    "     + p9.coord_flip()\n",
    "     + scale_fill_prism(palette = \"colors\")\n",
    "     + p9.ylab(\"ARI\")\n",
    "     + p9.xlab(\"Model\")\n",
    "     + p9.ggtitle(dataset)\n",
    "     #+ p9.theme(legend_position=(.5, 0))\n",
    "    )\n",
    "\n",
    "if tab.fine_tune.unique().size < 13:\n",
    "    print(g\n",
    "         + p9.geom_jitter(p9.aes(shape=\"fine_tune\"), position = p9.position_dodge(width=0.75), size=2, alpha=0.5, show_legend=False))\n",
    "else:\n",
    "    print(g\n",
    "         + p9.geom_jitter(alpha=0.3, size=0.5))"
   ]
  },
  {
   "cell_type": "code",
   "execution_count": null,
   "id": "19c4211f-525a-43da-8f13-876b26dbf521",
   "metadata": {
    "tags": []
   },
   "outputs": [],
   "source": [
    "tab[\"dataset\"] = dataset\n",
    "tab.to_csv(f\"{out_folder}/summary/model_performance_full.csv\", index=False)"
   ]
  },
  {
   "cell_type": "code",
   "execution_count": null,
   "id": "43ddf329-cf57-4158-a38a-ed2705fa51ca",
   "metadata": {
    "tags": []
   },
   "outputs": [],
   "source": [
    "tab = tab.groupby(\"model\").ari.apply(lambda x: bootstrapping(x)).reset_index()\n",
    "tab = pd.DataFrame(tab[\"ari\"].to_list(), columns=['ARI_median', 'ARI_std'], index=tab.model).reset_index()\n",
    "tab[\"modality\"] = tab.model.apply(lambda x: model_and_dataset_info[\"model_modality\"][x.split(\"_\")[0]])\n",
    "tab[\"dataset\"] = dataset\n",
    "tab"
   ]
  },
  {
   "cell_type": "code",
   "execution_count": null,
   "id": "4470aa55-a33d-4ba3-a569-41195592b009",
   "metadata": {
    "tags": []
   },
   "outputs": [],
   "source": [
    "tab.to_csv(f\"{out_folder}/summary/model_performance_bootstrapping.csv\", index=False)"
   ]
  },
  {
   "cell_type": "code",
   "execution_count": null,
   "id": "188c6969-573d-41ce-95af-711e6a438b85",
   "metadata": {
    "tags": []
   },
   "outputs": [],
   "source": [
    "tab.model = tab.model.astype(str)\n",
    "tab.model = pd.Categorical(tab.model, tab.sort_values(\"ARI_median\", ascending=True).model)\n",
    "g = (p9.ggplot(tab, p9.aes(\"model\", \"ARI_median\")) \n",
    " + p9.geom_point(p9.aes(color=\"modality\"), shape=\"D\", size=3)\n",
    " + p9.theme_bw()\n",
    " + p9.coord_flip()\n",
    " + scale_fill_prism(palette = \"colors\")\n",
    " + p9.ylab(\"ARI\")\n",
    " + p9.xlab(\"Model\")\n",
    " + p9.ggtitle(dataset)\n",
    " + p9.geom_errorbar(p9.aes(x=\"model\", ymin=\"ARI_median-ARI_std\",ymax=\"ARI_median+ARI_std\", color=\"modality\"), \n",
    "                    alpha=1, size=1, width=0.001)\n",
    " + scale_color_prism(palette = \"colors\")\n",
    ")\n",
    "g"
   ]
  },
  {
   "cell_type": "code",
   "execution_count": null,
   "id": "b9905026-7cfe-4fa2-927f-5fd71a978eb9",
   "metadata": {
    "tags": []
   },
   "outputs": [],
   "source": [
    "g.save(filename = f\"{out_folder}/summary/{dataset.replace(' ', '_')}_bootstrap_benchmark.png\", dpi=300)"
   ]
  },
  {
   "cell_type": "code",
   "execution_count": null,
   "id": "b5be1e84-4cab-42c9-9843-4d08d35ec451",
   "metadata": {},
   "outputs": [],
   "source": [
    "for split in ari_result.split.unique():\n",
    "    tab = ari_result.query(f\"split == '{split}'\").copy()\n",
    "    color = [\"#990000\" if m == \"AESTETIK\" else \"#FFFFFF\" for m in tab.model]\n",
    "    tab.model = tab.model.astype(str)\n",
    "    tab.model = pd.Categorical(tab.model, tab.groupby(\"model\").ari.agg(\"median\").sort_values(ascending=True).index)\n",
    "    print(p9.ggplot(tab, p9.aes(\"model\", \"ari\")) \n",
    "             + p9.geom_boxplot(p9.aes(fill=color), show_legend=False, alpha=.8)\n",
    "             + p9.geom_jitter(p9.aes(color=\"sample\"), position = p9.position_dodge(width=0.75))\n",
    "             + p9.theme_bw()\n",
    "             + p9.coord_flip()\n",
    "             + p9.scale_fill_manual(values=[\"#990000\", \"#FFFFFF\"])\n",
    "             + p9.ggtitle(split)\n",
    "             + scale_color_prism(palette = \"colors\")\n",
    "        )\n",
    "    "
   ]
  },
  {
   "cell_type": "code",
   "execution_count": null,
   "id": "1923b11e-3748-4463-bdee-766435667683",
   "metadata": {},
   "outputs": [],
   "source": [
    "best_parameters = glob.glob(f\"{out_folder}/*/*_fine_tune/parameters/best_param.yaml\")\n",
    "data = []\n",
    "for parameter_path in best_parameters:\n",
    "    split = parameter_path.split(\"/\")[1] # .split(\"split_train_\")[1]\n",
    "    model = parameter_path.split(\"_fine_tune\")[0].split(\"/\")[-1]\n",
    "    with open(parameter_path, \"r\") as stream:\n",
    "        parameters = yaml.safe_load(stream)\n",
    "    parameters = str(parameters)\n",
    "    data.append([split, model, parameters])\n",
    "data = pd.DataFrame(data, columns=[\"split\", \"model\", \"parameters\"])\n",
    "data.sort_values(\"model\", inplace=True)\n",
    "data"
   ]
  },
  {
   "cell_type": "code",
   "execution_count": null,
   "id": "e4bda89a-b242-4abf-91dc-a6a03007f9bd",
   "metadata": {},
   "outputs": [],
   "source": [
    "for _, row in data.iterrows():\n",
    "    print(row[\"split\"].split(\"_\")[0], row.model, row.parameters)"
   ]
  },
  {
   "cell_type": "code",
   "execution_count": null,
   "id": "f99c4e3c-eaa8-4316-b776-1f0ef2105aab",
   "metadata": {
    "tags": []
   },
   "outputs": [],
   "source": [
    "def get_cluster_path(split, model, sample):\n",
    "    path = glob.glob(f\"{out_folder}/{split}/{model}_evaluate/clusters*/model-{sample}-best_param.csv\")\n",
    "    assert len(path) == 1, f\"{path}; {sample}\"\n",
    "    return path[0]\n",
    "\n",
    "\n",
    "best_split_sample = ari_result.groupby([\"sample\", \"model\"]).ari.agg(\"max\").reset_index()\n",
    "best_split_sample = best_split_sample.merge(ari_result)\n",
    "\n",
    "best_split_sample[\"path\"] = best_split_sample.apply(lambda x: get_cluster_path(x[\"split\"], x.model, x[\"sample\"]),axis=1)\n",
    "best_split_sample = best_split_sample[[\"sample\", \"model\", \"path\", \"ari\"]]\n",
    "best_split_sample = best_split_sample[~best_split_sample[[\"sample\", \"model\"]].duplicated()]\n",
    "best_split_sample[best_split_sample.model == \"AESTETIK\"]"
   ]
  },
  {
   "cell_type": "code",
   "execution_count": null,
   "id": "227e9852-92c4-4666-8e0c-d6622d454d01",
   "metadata": {
    "tags": []
   },
   "outputs": [],
   "source": [
    "best_split_sample.to_csv(f\"{out_folder}/summary/summary_best_split_sample.csv\", index=False)"
   ]
  }
 ],
 "metadata": {
  "kernelspec": {
   "display_name": "nonchev",
   "language": "python",
   "name": "nonchev"
  },
  "language_info": {
   "codemirror_mode": {
    "name": "ipython",
    "version": 3
   },
   "file_extension": ".py",
   "mimetype": "text/x-python",
   "name": "python",
   "nbconvert_exporter": "python",
   "pygments_lexer": "ipython3",
   "version": "3.9.16"
  }
 },
 "nbformat": 4,
 "nbformat_minor": 5
}
