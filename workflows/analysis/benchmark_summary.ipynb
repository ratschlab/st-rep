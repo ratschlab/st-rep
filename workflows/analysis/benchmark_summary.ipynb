{
 "cells": [
  {
   "cell_type": "code",
   "execution_count": null,
   "id": "2f27d3b1-8737-4881-857f-d8ab02daccf8",
   "metadata": {
    "tags": []
   },
   "outputs": [],
   "source": [
    "import os\n",
    "#os.chdir('../../10x_tupro/')\n",
    "#os.chdir('../../maynard_human_brain_analysis/')\n",
    "#os.chdir('../../her2_positive_breast_tumors/')"
   ]
  },
  {
   "cell_type": "code",
   "execution_count": null,
   "id": "162e45d3-9c80-46fe-849f-3b9ef96ba16b",
   "metadata": {
    "tags": []
   },
   "outputs": [],
   "source": [
    "from plotnine_prism import *\n",
    "import plotnine as p9\n",
    "from tqdm import tqdm\n",
    "import pandas as pd\n",
    "import numpy as np\n",
    "import glob\n",
    "import yaml"
   ]
  },
  {
   "cell_type": "code",
   "execution_count": null,
   "id": "ae678101-6943-4c9a-9ee2-f7528aedf5ad",
   "metadata": {
    "tags": []
   },
   "outputs": [],
   "source": [
    "with open(\"../model_and_dataset_info.yaml\", \"r\") as stream:\n",
    "    model_and_dataset_info = yaml.safe_load(stream)\n",
    "model_and_dataset_info"
   ]
  },
  {
   "cell_type": "code",
   "execution_count": null,
   "id": "040070dd-12d1-4760-a4a8-88440d09e20d",
   "metadata": {
    "tags": [
     "parameters"
    ]
   },
   "outputs": [],
   "source": [
    "out_folder = \"out_benchmark\""
   ]
  },
  {
   "cell_type": "code",
   "execution_count": null,
   "id": "bea06449-853b-4056-8103-006ed6453e46",
   "metadata": {
    "tags": []
   },
   "outputs": [],
   "source": [
    "with open(\"info.yaml\", \"r\") as stream:\n",
    "    INFO = yaml.safe_load(stream)\n",
    "MODEL_R = INFO[\"MODEL_R\"] if INFO[\"MODEL_R\"] else list()\n",
    "MODEL_PYTHON = INFO[\"MODEL_PYTHON\"] if INFO[\"MODEL_PYTHON\"] else list()\n",
    "MODEL_FINE_TUNE = INFO[\"MODEL_FINE_TUNE\"] if INFO[\"MODEL_FINE_TUNE\"] else list()\n",
    "\n",
    "MODELS = [*MODEL_R, *MODEL_PYTHON, *MODEL_FINE_TUNE]\n",
    "MODELS"
   ]
  },
  {
   "cell_type": "code",
   "execution_count": null,
   "id": "87d4e638-f928-461d-9ec1-243343ff84f7",
   "metadata": {
    "tags": []
   },
   "outputs": [],
   "source": [
    "benchmark_files = glob.glob(f\"{out_folder}/benchmarks/**/*.log\", recursive=True)\n",
    "benchmark_files[:2]"
   ]
  },
  {
   "cell_type": "code",
   "execution_count": null,
   "id": "6aa1a77c-5ece-4d44-a35b-db34dabd4b99",
   "metadata": {
    "tags": []
   },
   "outputs": [],
   "source": [
    "data = []\n",
    "for file in tqdm(benchmark_files):\n",
    "    rule = file.split(\"/\")[2].split(\".log\")[0]\n",
    "    df = pd.read_csv(file, sep=\"\\t\")\n",
    "    df[\"rule\"] = rule\n",
    "    data.append(df)\n",
    "data = pd.concat(data)\n",
    "data"
   ]
  },
  {
   "cell_type": "code",
   "execution_count": null,
   "id": "a44f4f5e-da77-4e3f-9b15-91502272b71a",
   "metadata": {
    "tags": []
   },
   "outputs": [],
   "source": [
    "data[\"time_min\"] = data.s / 60"
   ]
  },
  {
   "cell_type": "code",
   "execution_count": null,
   "id": "a63b32f1-5f70-48b0-b405-7fbaa700988c",
   "metadata": {
    "tags": []
   },
   "outputs": [],
   "source": [
    "measurements = [\"time_min\", \"max_rss\", \"max_vms\", \"max_uss\", \"max_pss\",\"io_in\", \"io_out\", \"mean_load\", \"cpu_time\"]"
   ]
  },
  {
   "cell_type": "code",
   "execution_count": null,
   "id": "46871cb1-07b7-488b-bc58-e915b619898c",
   "metadata": {
    "tags": []
   },
   "outputs": [],
   "source": [
    "tab = data.query(\"rule in @MODELS\")\n",
    "tab[\"model\"] = pd.Categorical(tab[\"rule\"], tab.groupby(\"rule\")[\"time_min\"].agg(\"median\").sort_values().index)\n",
    "tab[\"modality\"] = tab.model.apply(lambda x: model_and_dataset_info[\"model_modality\"][x.split(\"_\")[0]])"
   ]
  },
  {
   "cell_type": "code",
   "execution_count": null,
   "id": "dbfd5746-6460-4741-9a08-0afd75cb782e",
   "metadata": {
    "tags": []
   },
   "outputs": [],
   "source": [
    "current_path = !pwd\n",
    "dataset = model_and_dataset_info[\"dataset\"][current_path[0].split(\"/\")[-1]]\n",
    "dataset"
   ]
  },
  {
   "cell_type": "code",
   "execution_count": null,
   "id": "5cb9876b-0b23-407f-9253-255532b26bcc",
   "metadata": {
    "tags": []
   },
   "outputs": [],
   "source": [
    "print(p9.ggplot(tab, p9.aes(\"model\", \"time_min\")) \n",
    " + p9.geom_boxplot(p9.aes(fill=\"modality\"), alpha=0.8)\n",
    " + p9.theme_bw()\n",
    " + p9.coord_flip()\n",
    " + scale_fill_prism(palette = \"colors\")\n",
    " + p9.ylab(\"Min\")\n",
    " + p9.xlab(\"Model\")\n",
    " + p9.ggtitle(f\"Runtime on\\n{dataset}\")\n",
    ")"
   ]
  },
  {
   "cell_type": "code",
   "execution_count": null,
   "id": "547e6e81-27ca-414e-8bde-4cf666675420",
   "metadata": {
    "tags": []
   },
   "outputs": [],
   "source": [
    "for measurement in measurements: \n",
    "    data[\"rule\"] = data[\"rule\"].astype(str)\n",
    "    data[\"rule\"] = pd.Categorical(data[\"rule\"], data.groupby(\"rule\")[measurement].agg(\"median\").sort_values().index)\n",
    "    print(p9.ggplot(data, p9.aes(\"rule\", measurement))\n",
    "             + p9.geom_boxplot()\n",
    "             + p9.theme_bw()\n",
    "             + p9.coord_flip()\n",
    "            )\n",
    "    "
   ]
  },
  {
   "cell_type": "code",
   "execution_count": null,
   "id": "40246908-d2fd-4609-85d9-ffb6f192b992",
   "metadata": {},
   "outputs": [],
   "source": [
    "data.groupby(\"rule\").agg(\"max\")"
   ]
  },
  {
   "cell_type": "code",
   "execution_count": null,
   "id": "5bb43532-69e8-4753-a5a4-de8621aa7b22",
   "metadata": {},
   "outputs": [],
   "source": [
    "os.chdir(f'{out_folder}/logs/')"
   ]
  },
  {
   "cell_type": "code",
   "execution_count": null,
   "id": "688b1f05-f2fb-4f4e-aa21-8be7442f9fea",
   "metadata": {
    "tags": []
   },
   "outputs": [],
   "source": [
    "info = !reportseff --format \"+ReqMem%30,AllocCPUS,jobname\"\n",
    "info[:2]"
   ]
  },
  {
   "cell_type": "code",
   "execution_count": null,
   "id": "f0f95311-88e2-4bea-9c25-df2f8a060721",
   "metadata": {
    "tags": []
   },
   "outputs": [],
   "source": [
    "columns = info[0].split(\" \")\n",
    "columns = [l for l in columns if len(l)>0]\n",
    "columns"
   ]
  },
  {
   "cell_type": "code",
   "execution_count": null,
   "id": "d20edced-29bb-4010-af77-c443a78707fc",
   "metadata": {
    "tags": []
   },
   "outputs": [],
   "source": [
    "summary = []\n",
    "for line in info[1:]:\n",
    "    if \"--\" not in line:\n",
    "        line = line.split(\" \")\n",
    "        line = [l for l in line if len(l)>0]\n",
    "        JobID = line[0]\n",
    "        State = line[1]\n",
    "        Elapsed = line[2]\n",
    "        TimeEff = float(line[3].replace(\"%\", \"\"))\n",
    "        CPUEff = float(line[4].replace(\"%\", \"\"))\n",
    "        MemEff = float(line[5].replace(\"%\", \"\"))\n",
    "        ReqMem = line[6]\n",
    "        ReqMem_G = float(ReqMem.split(\"G\")[0]) if \"G\" in ReqMem else float(ReqMem.split(\"M\")[0]) * 0.001\n",
    "        AllocCPUS = int(line[7])\n",
    "        jobname = line[8]\n",
    "    \n",
    "    summary.append([JobID, State, Elapsed, TimeEff, CPUEff, MemEff, ReqMem_G, AllocCPUS, jobname])\n",
    "summary = pd.DataFrame(summary, columns=columns)\n",
    "summary"
   ]
  },
  {
   "cell_type": "code",
   "execution_count": null,
   "id": "6b1a6eee-c7e6-4ee4-b4e0-89a4309255c9",
   "metadata": {
    "tags": []
   },
   "outputs": [],
   "source": [
    "summary.State.value_counts()"
   ]
  },
  {
   "cell_type": "code",
   "execution_count": null,
   "id": "3a5aeec8-0d00-4458-9aa8-f34b19cb7cac",
   "metadata": {
    "tags": []
   },
   "outputs": [],
   "source": [
    "summary[[\"State\", \"JobName\"]].value_counts()"
   ]
  },
  {
   "cell_type": "code",
   "execution_count": null,
   "id": "a8fc589d-e1f1-45a7-bcc5-bd58b539d845",
   "metadata": {
    "tags": []
   },
   "outputs": [],
   "source": [
    "summary = summary.query(\"State == 'COMPLETED'\").copy()\n",
    "summary[\"utilised_mem_in_G\"] = summary.apply(lambda x: ((x.MemEff) / 100) * x.ReqMem, axis=1)\n",
    "summary[\"utilised_CPUS\"] = summary.apply(lambda x: ((x.CPUEff) / 100) * x.AllocCPUS, axis=1)\n",
    "summary"
   ]
  },
  {
   "cell_type": "code",
   "execution_count": null,
   "id": "65244f71-0872-4e89-a46b-55a58bdfe220",
   "metadata": {
    "tags": []
   },
   "outputs": [],
   "source": [
    "for col in summary.columns[3:]:\n",
    "    if col != \"JobName\":\n",
    "        tab = summary.copy()\n",
    "        tab.JobName = pd.Categorical(tab.JobName, tab.groupby(\"JobName\")[col].agg(\"median\").sort_values().index)\n",
    "        print(p9.ggplot(tab, p9.aes(\"JobName\", col)) \n",
    "         + p9.geom_boxplot()\n",
    "         + p9.theme_bw()\n",
    "         + p9.coord_flip()\n",
    "        )"
   ]
  },
  {
   "cell_type": "code",
   "execution_count": null,
   "id": "c2d5ed49-ff99-488c-809e-0ba566bf711d",
   "metadata": {},
   "outputs": [],
   "source": []
  }
 ],
 "metadata": {
  "kernelspec": {
   "display_name": "nonchev",
   "language": "python",
   "name": "nonchev"
  },
  "language_info": {
   "codemirror_mode": {
    "name": "ipython",
    "version": 3
   },
   "file_extension": ".py",
   "mimetype": "text/x-python",
   "name": "python",
   "nbconvert_exporter": "python",
   "pygments_lexer": "ipython3",
   "version": "3.9.16"
  }
 },
 "nbformat": 4,
 "nbformat_minor": 5
}
