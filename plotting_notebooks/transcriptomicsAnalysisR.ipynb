{
 "cells": [
  {
   "cell_type": "code",
   "execution_count": 1,
   "id": "21c8538b-9608-44cb-95f3-8b15662dac5c",
   "metadata": {
    "tags": []
   },
   "outputs": [
    {
     "data": {
      "text/plain": [
       "2"
      ]
     },
     "execution_count": 1,
     "metadata": {},
     "output_type": "execute_result"
    }
   ],
   "source": [
    "1+1"
   ]
  },
  {
   "cell_type": "code",
   "execution_count": 2,
   "id": "e2bc1dc2-18d4-4095-998e-302d01040a5a",
   "metadata": {
    "tags": []
   },
   "outputs": [],
   "source": [
    "#Loading the rpy2 extension enables cell magic to be used\n",
    "#This runs R code in jupyter notebook cells\n",
    "%load_ext rpy2.ipython"
   ]
  },
  {
   "cell_type": "code",
   "execution_count": 67,
   "id": "af4452bd-683b-487b-8b96-f67db35b2e73",
   "metadata": {
    "tags": []
   },
   "outputs": [],
   "source": [
    "%%R\n",
    "library(Seurat)\n",
    "library(dplyr)\n",
    "library(SingleR)\n",
    "library(celldex)\n",
    "library(BiocParallel)\n",
    "library(pheatmap)\n",
    "library(data.table)\n",
    "library(ggplot2)\n",
    "library(biomaRt)\n",
    "library(Seurat)\n",
    "library(dplyr)\n",
    "library(SingleR)\n",
    "library(celldex)\n",
    "library(BiocParallel)\n",
    "library(pheatmap)\n",
    "library(data.table)\n",
    "library(ggplot2)\n",
    "library(SingleCellExperiment)\n",
    "library(biomaRt)\n",
    "library(viridis)\n",
    "library(enrichR)\n",
    "library(decoupleR)\n",
    "library(OmnipathR)\n",
    "library(stringr)\n",
    "library(SCpubr)\n",
    "library(ComplexHeatmap)\n",
    "library(CellChat)"
   ]
  },
  {
   "cell_type": "code",
   "execution_count": 58,
   "id": "64a025cb-3bea-491a-b490-7c63ef57854c",
   "metadata": {
    "tags": []
   },
   "outputs": [],
   "source": [
    "%%R\n",
    "filename <- paste0(\"10x_tupro/out_benchmark/data/rds/MACEGEJ-2-r12.rds\") #paste0(\"out/data/rds/\", sample, \".rds\")\n",
    "scDataOld <- readRDS(filename)"
   ]
  },
  {
   "cell_type": "code",
   "execution_count": 59,
   "id": "35f40cb2-8ca8-47bd-8526-700115039a82",
   "metadata": {
    "tags": []
   },
   "outputs": [],
   "source": [
    "%%R\n",
    "clusters <- read.csv(\"10x_tupro/out_benchmark/MAHEFOG-r1_MAHEFOG-r2_test_MANOFYB-r1_MANOFYB-r2_MACEGEJ-r1_MACEGEJ-r2_MAJOFIJ-2-r1_MAJOFIJ-2-r2_MELIPIT-r1_MELIPIT-r2_MAKIGIW-r1_MAKIGIW-r2_MIDEKOG-r1_MIDEKOG-r2_MACEGEJ-2-r1_MACEGEJ-2-r12_MAJOFIJ-r1_MAJOFIJ-r2/AESTETIK_evaluate/clusters/model-MACEGEJ-2-r12-best_param.csv\")\n",
    "clusters <- data.frame(clusters)\n",
    "rownames(clusters) <- clusters$spot_barcode\n",
    "# ADD CLUSTERS\n",
    "scDataOld$AESTETIK_cluster <- clusters[colnames(scDataOld), ]$best_param"
   ]
  },
  {
   "cell_type": "code",
   "execution_count": 60,
   "id": "8b2c76a8-a873-47e1-b334-9e78a53ab0b9",
   "metadata": {
    "tags": []
   },
   "outputs": [],
   "source": [
    "%%R\n",
    "loadGenes <- function(genes){\n",
    "    out <- tryCatch({\n",
    "        mart <- useDataset(\"hsapiens_gene_ensembl\", useMart(\"ensembl\"))\n",
    "        G_list <- getBM(filters= \"ensembl_gene_id\", attributes= c(\"ensembl_gene_id\",\"hgnc_symbol\"),values=genes, mart= mart)\n",
    "        G_list <- G_list[G_list$ensembl_gene_id != \"\" & G_list$hgnc_symbol != \"\", ]\n",
    "        G_list <- G_list[!duplicated(G_list$ensembl_gene_id), ]\n",
    "        G_list <- G_list[!duplicated(G_list$hgnc_symbol), ]\n",
    "        return(G_list)\n",
    "    },error=function(cond) {\n",
    "            print(cond)\n",
    "            return(data.frame())\n",
    "        }\n",
    "        )\n",
    "    return(out)\n",
    "}\n",
    "genes <- rownames(scDataOld)\n",
    "G_list <- loadGenes(genes)\n",
    "rownames(G_list) <- G_list$ensembl_gene_id"
   ]
  },
  {
   "cell_type": "code",
   "execution_count": 7,
   "id": "89219e9a-3a8e-4f67-b6e7-5d4cc494c8e3",
   "metadata": {
    "tags": []
   },
   "outputs": [],
   "source": [
    "%%R\n",
    "scDataOld <- scDataOld[rownames(scDataOld) %in% G_list$ensembl_gene_id]\n",
    "rownames(G_list) <- G_list$ensembl_gene_id\n",
    "counts <- GetAssayData(scDataOld, \"counts\")\n",
    "rownames(counts) <- G_list[rownames(counts), ]$hgnc_symbol"
   ]
  },
  {
   "cell_type": "code",
   "execution_count": 8,
   "id": "7dc6ed03-db75-47e3-9d34-20f4fe678595",
   "metadata": {
    "tags": []
   },
   "outputs": [],
   "source": [
    "%%R\n",
    "scData <- CreateSeuratObject(counts=counts, meta.data = scDataOld@meta.data)\n",
    "#scData$AE_cluster <- clusters[colnames(scData), ]$best_param\n",
    "#scData$ground_truth <- clusters[colnames(scData), ]$ground_truth\n",
    "Idents(scData) <- scData$AESTETIK_cluster"
   ]
  },
  {
   "cell_type": "code",
   "execution_count": 9,
   "id": "d6bb9200-078f-41cf-8e4f-1e4280901e3d",
   "metadata": {
    "tags": []
   },
   "outputs": [
    {
     "name": "stdout",
     "output_type": "stream",
     "text": [
      "[1] 17864  4557\n"
     ]
    }
   ],
   "source": [
    "%%R\n",
    "scData <- NormalizeData(scData, normalization.method = \"LogNormalize\", scale.factor = 10000, verbose = FALSE)\n",
    "scData <- FindVariableFeatures(scData, selection.method = \"vst\", verbose = FALSE, nfeatures = 3000)\n",
    "scData <- ScaleData(scData, vars.to.regress = NULL, verbose = FALSE, do.scale = FALSE, features = rownames(scData))\n",
    "dim(scData)"
   ]
  },
  {
   "cell_type": "code",
   "execution_count": 10,
   "id": "5f8b3a01-61eb-4dda-af52-9256efa15903",
   "metadata": {
    "tags": []
   },
   "outputs": [
    {
     "name": "stderr",
     "output_type": "stream",
     "text": [
      "R[write to console]: Calculating cluster 2\n",
      "\n"
     ]
    },
    {
     "name": "stdout",
     "output_type": "stream",
     "text": [
      "  |                                                  | 0 % ~calculating   |+                                                 | 2 % ~02s           |++                                                | 3 % ~02s           |+++                                               | 5 % ~02s           |++++                                              | 6 % ~02s           |++++                                              | 8 % ~02s           |+++++                                             | 9 % ~02s           |++++++                                            | 11% ~02s           |+++++++                                           | 12% ~02s           |+++++++                                           | 14% ~02s           |++++++++                                          | 15% ~02s           |+++++++++                                         | 17% ~02s           |++++++++++                                        | 18% ~02s           |++++++++++                                        | 20% ~02s           |+++++++++++                                       | 21% ~02s           |++++++++++++                                      | 23% ~02s           |+++++++++++++                                     | 24% ~02s           |+++++++++++++                                     | 26% ~02s           |++++++++++++++                                    | 27% ~02s           |+++++++++++++++                                   | 29% ~02s           |++++++++++++++++                                  | 30% ~02s           |++++++++++++++++                                  | 32% ~02s           |+++++++++++++++++                                 | 33% ~02s           |++++++++++++++++++                                | 35% ~02s           |+++++++++++++++++++                               | 36% ~02s           |+++++++++++++++++++                               | 38% ~02s           |++++++++++++++++++++                              | 39% ~02s           |+++++++++++++++++++++                             | 41% ~01s           |++++++++++++++++++++++                            | 42% ~01s           |++++++++++++++++++++++                            | 44% ~01s           |+++++++++++++++++++++++                           | 45% ~01s           |++++++++++++++++++++++++                          | 47% ~01s           |+++++++++++++++++++++++++                         | 48% ~01s           |+++++++++++++++++++++++++                         | 50% ~01s           |++++++++++++++++++++++++++                        | 52% ~01s           |+++++++++++++++++++++++++++                       | 53% ~01s           |++++++++++++++++++++++++++++                      | 55% ~01s           |+++++++++++++++++++++++++++++                     | 56% ~01s           |+++++++++++++++++++++++++++++                     | 58% ~01s           |++++++++++++++++++++++++++++++                    | 59% ~01s           |+++++++++++++++++++++++++++++++                   | 61% ~01s           |++++++++++++++++++++++++++++++++                  | 62% ~01s           |++++++++++++++++++++++++++++++++                  | 64% ~01s           |+++++++++++++++++++++++++++++++++                 | 65% ~01s           |++++++++++++++++++++++++++++++++++                | 67% ~01s           |+++++++++++++++++++++++++++++++++++               | 68% ~01s           |+++++++++++++++++++++++++++++++++++               | 70% ~01s           |++++++++++++++++++++++++++++++++++++              | 71% ~01s           |+++++++++++++++++++++++++++++++++++++             | 73% ~01s           |++++++++++++++++++++++++++++++++++++++            | 74% ~01s           |++++++++++++++++++++++++++++++++++++++            | 76% ~01s           |+++++++++++++++++++++++++++++++++++++++           | 77% ~01s           |++++++++++++++++++++++++++++++++++++++++          | 79% ~01s           |+++++++++++++++++++++++++++++++++++++++++         | 80% ~00s           |+++++++++++++++++++++++++++++++++++++++++         | 82% ~00s           |++++++++++++++++++++++++++++++++++++++++++        | 83% ~00s           |+++++++++++++++++++++++++++++++++++++++++++       | 85% ~00s           |++++++++++++++++++++++++++++++++++++++++++++      | 86% ~00s           |++++++++++++++++++++++++++++++++++++++++++++      | 88% ~00s           |+++++++++++++++++++++++++++++++++++++++++++++     | 89% ~00s           |++++++++++++++++++++++++++++++++++++++++++++++    | 91% ~00s           |+++++++++++++++++++++++++++++++++++++++++++++++   | 92% ~00s           |+++++++++++++++++++++++++++++++++++++++++++++++   | 94% ~00s           |++++++++++++++++++++++++++++++++++++++++++++++++  | 95% ~00s           |+++++++++++++++++++++++++++++++++++++++++++++++++ | 97% ~00s           |++++++++++++++++++++++++++++++++++++++++++++++++++| 98% ~00s           |++++++++++++++++++++++++++++++++++++++++++++++++++| 100% elapsed=02s  \n"
     ]
    },
    {
     "name": "stderr",
     "output_type": "stream",
     "text": [
      "R[write to console]: Calculating cluster 1\n",
      "\n"
     ]
    },
    {
     "name": "stdout",
     "output_type": "stream",
     "text": [
      "  |                                                  | 0 % ~calculating   |++                                                | 2 % ~01s           |+++                                               | 4 % ~01s           |++++                                              | 6 % ~01s           |+++++                                             | 9 % ~01s           |++++++                                            | 11% ~01s           |+++++++                                           | 13% ~01s           |++++++++                                          | 15% ~01s           |+++++++++                                         | 17% ~01s           |++++++++++                                        | 19% ~01s           |+++++++++++                                       | 21% ~01s           |++++++++++++                                      | 23% ~01s           |+++++++++++++                                     | 26% ~01s           |++++++++++++++                                    | 28% ~01s           |+++++++++++++++                                   | 30% ~01s           |++++++++++++++++                                  | 32% ~01s           |++++++++++++++++++                                | 34% ~01s           |+++++++++++++++++++                               | 36% ~01s           |++++++++++++++++++++                              | 38% ~01s           |+++++++++++++++++++++                             | 40% ~01s           |++++++++++++++++++++++                            | 43% ~01s           |+++++++++++++++++++++++                           | 45% ~01s           |++++++++++++++++++++++++                          | 47% ~00s           |+++++++++++++++++++++++++                         | 49% ~00s           |++++++++++++++++++++++++++                        | 51% ~00s           |+++++++++++++++++++++++++++                       | 53% ~00s           |++++++++++++++++++++++++++++                      | 55% ~00s           |+++++++++++++++++++++++++++++                     | 57% ~00s           |++++++++++++++++++++++++++++++                    | 60% ~00s           |+++++++++++++++++++++++++++++++                   | 62% ~00s           |++++++++++++++++++++++++++++++++                  | 64% ~00s           |+++++++++++++++++++++++++++++++++                 | 66% ~00s           |+++++++++++++++++++++++++++++++++++               | 68% ~00s           |++++++++++++++++++++++++++++++++++++              | 70% ~00s           |+++++++++++++++++++++++++++++++++++++             | 72% ~00s           |++++++++++++++++++++++++++++++++++++++            | 74% ~00s           |+++++++++++++++++++++++++++++++++++++++           | 77% ~00s           |++++++++++++++++++++++++++++++++++++++++          | 79% ~00s           |+++++++++++++++++++++++++++++++++++++++++         | 81% ~00s           |++++++++++++++++++++++++++++++++++++++++++        | 83% ~00s           |+++++++++++++++++++++++++++++++++++++++++++       | 85% ~00s           |++++++++++++++++++++++++++++++++++++++++++++      | 87% ~00s           |+++++++++++++++++++++++++++++++++++++++++++++     | 89% ~00s           |++++++++++++++++++++++++++++++++++++++++++++++    | 91% ~00s           |+++++++++++++++++++++++++++++++++++++++++++++++   | 94% ~00s           |++++++++++++++++++++++++++++++++++++++++++++++++  | 96% ~00s           |+++++++++++++++++++++++++++++++++++++++++++++++++ | 98% ~00s           |++++++++++++++++++++++++++++++++++++++++++++++++++| 100% elapsed=01s  \n"
     ]
    },
    {
     "name": "stderr",
     "output_type": "stream",
     "text": [
      "R[write to console]: Calculating cluster 3\n",
      "\n"
     ]
    },
    {
     "name": "stdout",
     "output_type": "stream",
     "text": [
      "  |                                                  | 0 % ~calculating   |+                                                 | 2 % ~02s           |++                                                | 3 % ~02s           |+++                                               | 5 % ~02s           |++++                                              | 6 % ~02s           |++++                                              | 8 % ~02s           |+++++                                             | 9 % ~02s           |++++++                                            | 11% ~02s           |+++++++                                           | 12% ~02s           |++++++++                                          | 14% ~02s           |++++++++                                          | 16% ~02s           |+++++++++                                         | 17% ~02s           |++++++++++                                        | 19% ~02s           |+++++++++++                                       | 20% ~02s           |+++++++++++                                       | 22% ~02s           |++++++++++++                                      | 23% ~02s           |+++++++++++++                                     | 25% ~02s           |++++++++++++++                                    | 27% ~02s           |+++++++++++++++                                   | 28% ~01s           |+++++++++++++++                                   | 30% ~01s           |++++++++++++++++                                  | 31% ~01s           |+++++++++++++++++                                 | 33% ~01s           |++++++++++++++++++                                | 34% ~01s           |++++++++++++++++++                                | 36% ~01s           |+++++++++++++++++++                               | 38% ~01s           |++++++++++++++++++++                              | 39% ~01s           |+++++++++++++++++++++                             | 41% ~01s           |++++++++++++++++++++++                            | 42% ~01s           |++++++++++++++++++++++                            | 44% ~01s           |+++++++++++++++++++++++                           | 45% ~01s           |++++++++++++++++++++++++                          | 47% ~01s           |+++++++++++++++++++++++++                         | 48% ~01s           |+++++++++++++++++++++++++                         | 50% ~01s           |++++++++++++++++++++++++++                        | 52% ~01s           |+++++++++++++++++++++++++++                       | 53% ~01s           |++++++++++++++++++++++++++++                      | 55% ~01s           |+++++++++++++++++++++++++++++                     | 56% ~01s           |+++++++++++++++++++++++++++++                     | 58% ~01s           |++++++++++++++++++++++++++++++                    | 59% ~01s           |+++++++++++++++++++++++++++++++                   | 61% ~01s           |++++++++++++++++++++++++++++++++                  | 62% ~01s           |+++++++++++++++++++++++++++++++++                 | 64% ~01s           |+++++++++++++++++++++++++++++++++                 | 66% ~01s           |++++++++++++++++++++++++++++++++++                | 67% ~01s           |+++++++++++++++++++++++++++++++++++               | 69% ~01s           |++++++++++++++++++++++++++++++++++++              | 70% ~01s           |++++++++++++++++++++++++++++++++++++              | 72% ~01s           |+++++++++++++++++++++++++++++++++++++             | 73% ~01s           |++++++++++++++++++++++++++++++++++++++            | 75% ~00s           |+++++++++++++++++++++++++++++++++++++++           | 77% ~00s           |++++++++++++++++++++++++++++++++++++++++          | 78% ~00s           |++++++++++++++++++++++++++++++++++++++++          | 80% ~00s           |+++++++++++++++++++++++++++++++++++++++++         | 81% ~00s           |++++++++++++++++++++++++++++++++++++++++++        | 83% ~00s           |+++++++++++++++++++++++++++++++++++++++++++       | 84% ~00s           |+++++++++++++++++++++++++++++++++++++++++++       | 86% ~00s           |++++++++++++++++++++++++++++++++++++++++++++      | 88% ~00s           |+++++++++++++++++++++++++++++++++++++++++++++     | 89% ~00s           |++++++++++++++++++++++++++++++++++++++++++++++    | 91% ~00s           |+++++++++++++++++++++++++++++++++++++++++++++++   | 92% ~00s           |+++++++++++++++++++++++++++++++++++++++++++++++   | 94% ~00s           |++++++++++++++++++++++++++++++++++++++++++++++++  | 95% ~00s           |+++++++++++++++++++++++++++++++++++++++++++++++++ | 97% ~00s           |++++++++++++++++++++++++++++++++++++++++++++++++++| 98% ~00s           |++++++++++++++++++++++++++++++++++++++++++++++++++| 100% elapsed=02s  \n"
     ]
    },
    {
     "name": "stderr",
     "output_type": "stream",
     "text": [
      "R[write to console]: Calculating cluster 4\n",
      "\n"
     ]
    },
    {
     "name": "stdout",
     "output_type": "stream",
     "text": [
      "  |                                                  | 0 % ~calculating   |+                                                 | 1 % ~02s           |++                                                | 2 % ~02s           |++                                                | 3 % ~02s           |+++                                               | 4 % ~02s           |+++                                               | 6 % ~02s           |++++                                              | 7 % ~01s           |++++                                              | 8 % ~01s           |+++++                                             | 9 % ~01s           |+++++                                             | 10% ~01s           |++++++                                            | 11% ~01s           |+++++++                                           | 12% ~01s           |+++++++                                           | 13% ~01s           |++++++++                                          | 14% ~01s           |++++++++                                          | 16% ~01s           |+++++++++                                         | 17% ~01s           |+++++++++                                         | 18% ~01s           |++++++++++                                        | 19% ~01s           |++++++++++                                        | 20% ~01s           |+++++++++++                                       | 21% ~01s           |++++++++++++                                      | 22% ~01s           |++++++++++++                                      | 23% ~01s           |+++++++++++++                                     | 24% ~01s           |+++++++++++++                                     | 26% ~01s           |++++++++++++++                                    | 27% ~01s           |++++++++++++++                                    | 28% ~01s           |+++++++++++++++                                   | 29% ~01s           |+++++++++++++++                                   | 30% ~01s           |++++++++++++++++                                  | 31% ~01s           |+++++++++++++++++                                 | 32% ~01s           |+++++++++++++++++                                 | 33% ~01s           |++++++++++++++++++                                | 34% ~01s           |++++++++++++++++++                                | 36% ~01s           |+++++++++++++++++++                               | 37% ~01s           |+++++++++++++++++++                               | 38% ~01s           |++++++++++++++++++++                              | 39% ~01s           |++++++++++++++++++++                              | 40% ~01s           |+++++++++++++++++++++                             | 41% ~01s           |++++++++++++++++++++++                            | 42% ~01s           |++++++++++++++++++++++                            | 43% ~01s           |+++++++++++++++++++++++                           | 44% ~01s           |+++++++++++++++++++++++                           | 46% ~01s           |++++++++++++++++++++++++                          | 47% ~01s           |++++++++++++++++++++++++                          | 48% ~01s           |+++++++++++++++++++++++++                         | 49% ~01s           |+++++++++++++++++++++++++                         | 50% ~01s           |++++++++++++++++++++++++++                        | 51% ~01s           |+++++++++++++++++++++++++++                       | 52% ~01s           |+++++++++++++++++++++++++++                       | 53% ~01s           |++++++++++++++++++++++++++++                      | 54% ~01s           |++++++++++++++++++++++++++++                      | 56% ~01s           |+++++++++++++++++++++++++++++                     | 57% ~01s           |+++++++++++++++++++++++++++++                     | 58% ~01s           |++++++++++++++++++++++++++++++                    | 59% ~01s           |++++++++++++++++++++++++++++++                    | 60% ~01s           |+++++++++++++++++++++++++++++++                   | 61% ~01s           |++++++++++++++++++++++++++++++++                  | 62% ~01s           |++++++++++++++++++++++++++++++++                  | 63% ~01s           |+++++++++++++++++++++++++++++++++                 | 64% ~01s           |+++++++++++++++++++++++++++++++++                 | 66% ~01s           |++++++++++++++++++++++++++++++++++                | 67% ~01s           |++++++++++++++++++++++++++++++++++                | 68% ~01s           |+++++++++++++++++++++++++++++++++++               | 69% ~01s           |+++++++++++++++++++++++++++++++++++               | 70% ~00s           |++++++++++++++++++++++++++++++++++++              | 71% ~00s           |+++++++++++++++++++++++++++++++++++++             | 72% ~00s           |+++++++++++++++++++++++++++++++++++++             | 73% ~00s           |++++++++++++++++++++++++++++++++++++++            | 74% ~00s           |++++++++++++++++++++++++++++++++++++++            | 76% ~00s           |+++++++++++++++++++++++++++++++++++++++           | 77% ~00s           |+++++++++++++++++++++++++++++++++++++++           | 78% ~00s           |++++++++++++++++++++++++++++++++++++++++          | 79% ~00s           |++++++++++++++++++++++++++++++++++++++++          | 80% ~00s           |+++++++++++++++++++++++++++++++++++++++++         | 81% ~00s           |++++++++++++++++++++++++++++++++++++++++++        | 82% ~00s           |++++++++++++++++++++++++++++++++++++++++++        | 83% ~00s           |+++++++++++++++++++++++++++++++++++++++++++       | 84% ~00s           |+++++++++++++++++++++++++++++++++++++++++++       | 86% ~00s           |++++++++++++++++++++++++++++++++++++++++++++      | 87% ~00s           |++++++++++++++++++++++++++++++++++++++++++++      | 88% ~00s           |+++++++++++++++++++++++++++++++++++++++++++++     | 89% ~00s           |+++++++++++++++++++++++++++++++++++++++++++++     | 90% ~00s           |++++++++++++++++++++++++++++++++++++++++++++++    | 91% ~00s           |+++++++++++++++++++++++++++++++++++++++++++++++   | 92% ~00s           |+++++++++++++++++++++++++++++++++++++++++++++++   | 93% ~00s           |++++++++++++++++++++++++++++++++++++++++++++++++  | 94% ~00s           |++++++++++++++++++++++++++++++++++++++++++++++++  | 96% ~00s           |+++++++++++++++++++++++++++++++++++++++++++++++++ | 97% ~00s           |+++++++++++++++++++++++++++++++++++++++++++++++++ | 98% ~00s           |++++++++++++++++++++++++++++++++++++++++++++++++++| 99% ~00s           |++++++++++++++++++++++++++++++++++++++++++++++++++| 100% elapsed=02s  \n"
     ]
    }
   ],
   "source": [
    "%%R\n",
    "scData$AESTETIK_cluster <- scData$AESTETIK_cluster + 1\n",
    "Idents(scData) <- scData$AESTETIK_cluster\n",
    "markers <- FindAllMarkers(object = scData, test.use = \"wilcox\", only.pos = TRUE)\n",
    "## Significant markers\n",
    "markers <- markers[, c(\"gene\", \"cluster\", \"pct.1\", \"pct.2\", \"avg_log2FC\", \"p_val_adj\")]\n",
    "markers <- markers[markers$p_val_adj < 0.05, ]\n",
    "markers$cluster <- as.factor(markers$cluster)\n",
    "markers$diff_pct <- abs(markers$pct.1 - markers$pct.2)\n",
    "markers <- markers[order(markers$diff_pct, decreasing = TRUE), ]"
   ]
  },
  {
   "cell_type": "code",
   "execution_count": null,
   "id": "2b74cced-4495-4e49-ae4a-cbdcbcc02510",
   "metadata": {
    "tags": []
   },
   "outputs": [],
   "source": [
    "%%R -w 6 -h 10 -u in\n",
    "topN <- markers %>% group_by(cluster)\n",
    "topN <- slice_max(topN, n = 15, order_by = avg_log2FC)\n",
    "genesToPlot <- unique(as.character(topN$gene))\n",
    "DoHeatmap(scData, features = genesToPlot) + ggtitle(\"Top 20 marker genes\")"
   ]
  },
  {
   "cell_type": "code",
   "execution_count": null,
   "id": "4f5aa7bc-8fd7-417a-a2d9-37cea0baff0e",
   "metadata": {
    "tags": []
   },
   "outputs": [],
   "source": [
    "%%R\n",
    "topN$cluster"
   ]
  },
  {
   "cell_type": "code",
   "execution_count": null,
   "id": "508551ac-bf9f-417c-b016-f2c3acc759f3",
   "metadata": {
    "tags": []
   },
   "outputs": [],
   "source": [
    "%%R\n",
    "topN[topN$cluster == 2, ]$gene"
   ]
  },
  {
   "cell_type": "code",
   "execution_count": null,
   "id": "910a6116-9155-4044-a031-13826614cd2d",
   "metadata": {
    "tags": []
   },
   "outputs": [],
   "source": [
    "%%R\n",
    "library(enrichR)\n",
    "dbs <- c(\"Cancer_Cell_Line_Encyclopedia\",\n",
    "         \"GO_Cellular_Component_2023\",\n",
    "         \"GO_Biological_Process_2023\", \n",
    "         \"GO_Molecular_Function_2023\", \n",
    "         \"Reactome_2022\", \n",
    "         \"ChEA_2022\", \n",
    "         \"GeneSigDB\",\n",
    "         \"Human_Phenotype_Ontology\")\n",
    "enriched <- enrichr(topN[topN$cluster == 2, ]$gene, dbs)"
   ]
  },
  {
   "cell_type": "code",
   "execution_count": null,
   "id": "c95e0cd2-9e56-4569-95d5-3b02604c29d1",
   "metadata": {
    "tags": []
   },
   "outputs": [],
   "source": [
    "%%R\n",
    "plotEnrich(enriched[[2]], showTerms = 20, numChar = 40, y = \"Count\", orderBy = \"P.value\")"
   ]
  },
  {
   "cell_type": "code",
   "execution_count": null,
   "id": "245b7aa2-85e5-47de-8647-75961d7481c5",
   "metadata": {
    "tags": []
   },
   "outputs": [],
   "source": [
    "%%R\n",
    "Idents(scData) <- colnames(scData)#a$AESTETIK_cluster\n",
    "data.input = Seurat::GetAssayData(scData, slot = \"data\") # normalized data matrix\n",
    "colnames(data.input) <- colnames(data.input)\n",
    "labels <- paste0(\"C_\", scData$AESTETIK_cluster)\n",
    "meta = data.frame(labels = labels, slices = \"A1\") # manually create a dataframe consisting of the cell labels\n",
    "rownames(meta) <- colnames(data.input)\n",
    "\n",
    "# a factor level should be defined for the `meta$labels` and `meta$slices`\n",
    "meta$labels <- factor(meta$labels, levels = levels(factor(labels)))\n",
    "meta$slices <- factor(meta$slices, levels = c(\"A1\"))\n",
    "unique(meta$labels) # check the cell labels\n",
    "\n",
    "spatial.locs <- data.frame(imagerow=scData@meta.data$spot_X, imagecol=scData@meta.data$spot_Y)\n",
    "rownames(spatial.locs) <- colnames(data.input)\n",
    "\n",
    "scalefactors = jsonlite::fromJSON(txt = file.path(\"10x_tupro/out_benchmark/data/meta/MACEGEJ-r1.json\"))\n",
    "spot.size = 65 # the theoretical spot size (um) in 10X Visium\n",
    "conversion.factor = spot.size/scalefactors$spot_diameter_fullres\n",
    "spatial.factors = data.frame(ratio = conversion.factor, tol = spot.size/2)"
   ]
  },
  {
   "cell_type": "code",
   "execution_count": null,
   "id": "eee441ec-386f-414a-9212-1ea3d034094b",
   "metadata": {
    "tags": []
   },
   "outputs": [],
   "source": [
    "%%R\n",
    "cellchat <- createCellChat(object = data.input, meta = meta, group.by = \"labels\",\n",
    "                           datatype = \"spatial\", coordinates = spatial.locs, spatial.factors = spatial.factors)"
   ]
  },
  {
   "cell_type": "code",
   "execution_count": null,
   "id": "818c12e7-1a22-4bfd-8abd-d078e8c9e2da",
   "metadata": {
    "tags": []
   },
   "outputs": [],
   "source": [
    "%%R\n",
    "CellChatDB <- CellChatDB.human\n",
    "\n",
    "# use a subset of CellChatDB for cell-cell communication analysis\n",
    "CellChatDB.use <- subsetDB(CellChatDB, search = \"Secreted Signaling\", key = \"annotation\") # use Secreted Signaling\n",
    "\n",
    "# set the used database in the object\n",
    "cellchat@DB <- CellChatDB.use\n",
    "cellchat <- subsetData(cellchat) # This step is necessary even if using the whole database\n"
   ]
  },
  {
   "cell_type": "code",
   "execution_count": null,
   "id": "707899c9-fc35-4f8b-903b-b9d12a516ed9",
   "metadata": {
    "tags": []
   },
   "outputs": [],
   "source": [
    "%%R\n",
    "dim(cellchat@data.signaling)"
   ]
  },
  {
   "cell_type": "code",
   "execution_count": null,
   "id": "e83e54ff-c09d-427b-be8f-3a9f823dbd40",
   "metadata": {
    "tags": []
   },
   "outputs": [],
   "source": [
    "%%R\n",
    "future::plan(\"multisession\", workers = 2) \n",
    "cellchat <- identifyOverExpressedGenes(cellchat)\n",
    "cellchat <- identifyOverExpressedInteractions(cellchat)"
   ]
  },
  {
   "cell_type": "code",
   "execution_count": null,
   "id": "0104eff1-b674-4ff1-b04e-10720600ac1e",
   "metadata": {
    "tags": []
   },
   "outputs": [],
   "source": [
    "%%R\n",
    "cellchat <- computeCommunProb(cellchat, type = \"truncatedMean\", trim = 0.1, \n",
    "                              distance.use = TRUE, interaction.range = 250, scale.distance = 71,\n",
    "                              contact.dependent = TRUE, contact.range = 100)\n",
    "# Filter out the cell-cell communication if there are only few number of cells in certain cell groups\n",
    "cellchat <- filterCommunication(cellchat, min.cells = 10)"
   ]
  },
  {
   "cell_type": "code",
   "execution_count": null,
   "id": "ab7d309a-6906-4983-a711-4e11d9dce389",
   "metadata": {
    "tags": []
   },
   "outputs": [],
   "source": [
    "%%R\n",
    "cellchat <- computeCommunProbPathway(cellchat)"
   ]
  },
  {
   "cell_type": "code",
   "execution_count": null,
   "id": "c6a0694b-3394-4cb8-a4a4-2222323ad4bd",
   "metadata": {
    "tags": []
   },
   "outputs": [],
   "source": [
    "%%R\n",
    "cellchat <- aggregateNet(cellchat)"
   ]
  },
  {
   "cell_type": "code",
   "execution_count": null,
   "id": "3355027a-9f7c-46b7-bf61-4c3500e25268",
   "metadata": {
    "tags": []
   },
   "outputs": [],
   "source": [
    "%%R\n",
    "cellchat <- updateClusterLabels(cellchat, c(\"C_1\", \"C_2\", \"C_3\", \"C_4\"), c(1,2,3,4))"
   ]
  },
  {
   "cell_type": "code",
   "execution_count": null,
   "id": "96d02a68-ca7f-4d78-970d-059f61aa565d",
   "metadata": {
    "tags": []
   },
   "outputs": [],
   "source": [
    "%%R\n",
    "groupSize <- as.numeric(table(cellchat@idents))\n",
    "par(mfrow = c(1,2), xpd=TRUE)\n",
    "netVisual_circle(cellchat@net$count, vertex.weight = rowSums(cellchat@net$count), weight.scale = T, label.edge= F, title.name = \"Number of interactions\")\n",
    "netVisual_circle(cellchat@net$weight, vertex.weight = rowSums(cellchat@net$weight), weight.scale = T, label.edge= F, title.name = \"Interaction weights/strength\")"
   ]
  },
  {
   "cell_type": "code",
   "execution_count": null,
   "id": "9e45c502-ef0b-4649-9911-aa75d9a175ea",
   "metadata": {
    "tags": []
   },
   "outputs": [],
   "source": [
    "%%R\n",
    "netVisual_heatmap(cellchat, measure = \"count\", color.heatmap = \"Blues\")"
   ]
  },
  {
   "cell_type": "code",
   "execution_count": null,
   "id": "a927dbab-5a8d-46f3-89d9-b26dec998b88",
   "metadata": {
    "tags": []
   },
   "outputs": [],
   "source": [
    "%%R\n",
    "netVisual_heatmap(cellchat, measure = \"weight\", color.heatmap = \"Blues\")"
   ]
  },
  {
   "cell_type": "code",
   "execution_count": null,
   "id": "94128973-eac3-4601-b475-2a9683f8155e",
   "metadata": {
    "tags": []
   },
   "outputs": [],
   "source": [
    "%%R\n",
    "cellchat@netP$pathways\n",
    "# \"MIF\"        \"SPP1\" CXCL PERIOSTIN ANNEXIN"
   ]
  },
  {
   "cell_type": "code",
   "execution_count": null,
   "id": "770f12be-296a-4652-95c0-87f6cb519f3c",
   "metadata": {
    "tags": []
   },
   "outputs": [],
   "source": [
    "%%R\n",
    "pathways.show <- c(\"PDGF\") \n",
    "# Circle plot\n",
    "par(mfrow=c(1,1))\n",
    "netVisual_aggregate(cellchat, signaling = pathways.show, layout = \"circle\")"
   ]
  },
  {
   "cell_type": "code",
   "execution_count": null,
   "id": "83c58071-22d3-400b-8041-c24b05c4845e",
   "metadata": {
    "tags": []
   },
   "outputs": [],
   "source": [
    "%%R\n",
    "colors <- c(\"#ff7f0eff\", \"#1f77b4ff\", \"#2ca02cff\", \"#d62728ff\")\n",
    "names(colors) <- levels(cellchat@idents)\n",
    "# Spatial plot\n",
    "par(mfrow=c(1,1))\n",
    "netVisual_aggregate(cellchat, \n",
    "                    signaling = (\"WNT\"),\n",
    "                    color.use = colors,\n",
    "                    layout = \"chord\", edge.width.max = 3,\n",
    "                    vertex.size.max = 1, \n",
    "                    alpha.image = 0.3, \n",
    "                    vertex.label.cex = 3)"
   ]
  },
  {
   "cell_type": "code",
   "execution_count": null,
   "id": "18ca16f0-42fa-4854-aa0b-21799e63d538",
   "metadata": {
    "tags": []
   },
   "outputs": [],
   "source": [
    "%%R\n",
    "colors <- c(\"#ff7f0eff\", \"#1f77b4ff\", \"#2ca02cff\", \"#d62728ff\")\n",
    "names(colors) <- levels(cellchat@idents)\n",
    "# Spatial plot\n",
    "par(mfrow=c(1,1))\n",
    "netVisual_aggregate(cellchat, \n",
    "                    signaling = (\"WNT\"),\n",
    "                    color.use = colors,\n",
    "                    layout = \"spatial\", edge.width.max = 3,\n",
    "                    vertex.size.max = 1, \n",
    "                    alpha.image = 0.3, \n",
    "                    vertex.label.cex = 5.5)"
   ]
  },
  {
   "cell_type": "code",
   "execution_count": null,
   "id": "40cb5b20-efa3-4d1f-9e8c-04e9ace1c3e2",
   "metadata": {
    "tags": []
   },
   "outputs": [],
   "source": [
    "%%R\n",
    "colors <- c(\"#ff7f0eff\", \"#1f77b4ff\", \"#2ca02cff\", \"#d62728ff\")\n",
    "names(colors) <- levels(cellchat@idents)\n",
    "# Spatial plot\n",
    "par(mfrow=c(1,1))\n",
    "netVisual_aggregate(cellchat, \n",
    "                    signaling = (\"MIF\"),\n",
    "                    color.use = colors,\n",
    "                    layout = \"chord\", edge.width.max = 3,\n",
    "                    vertex.size.max = 1, \n",
    "                    alpha.image = 0.3, \n",
    "                    vertex.label.cex = 5.5)"
   ]
  },
  {
   "cell_type": "code",
   "execution_count": null,
   "id": "7d6f26f3-92b3-40b3-b81a-a920d490d789",
   "metadata": {
    "tags": []
   },
   "outputs": [],
   "source": [
    "%%R\n",
    "# {'2': '#1f77b4ff', '1': '#ff7f0eff', '3': '#2ca02cff', '4': '#d62728ff'}\n",
    "# Spatial plot\n",
    "par(mfrow=c(1,1))\n",
    "netVisual_aggregate(cellchat, \n",
    "                    signaling = pathways.show,\n",
    "                    color.use = c(\"#ff7f0eff\", \"#1f77b4ff\", \"#2ca02cff\", \"#d62728ff\"),\n",
    "                    layout = \"chord\", edge.width.max = 3,\n",
    "                    vertex.size.max = 1, \n",
    "                    alpha.image = 0.3, \n",
    "                    vertex.label.cex = 5.5)"
   ]
  },
  {
   "cell_type": "code",
   "execution_count": null,
   "id": "43135605-c703-4cb6-9ceb-c2e471dcb990",
   "metadata": {
    "tags": []
   },
   "outputs": [],
   "source": [
    "%%R\n",
    "netAnalysis_contribution(cellchat, signaling = (\"WNT\"))"
   ]
  },
  {
   "cell_type": "code",
   "execution_count": null,
   "id": "5e1d77d3-aa1a-48ee-a762-4056746eedc8",
   "metadata": {
    "tags": []
   },
   "outputs": [],
   "source": [
    "%%R\n",
    "# Compute the network centrality scores\n",
    "cellchat <- netAnalysis_computeCentrality(cellchat, slot.name = \"netP\") # the slot 'netP' means the inferred intercellular communication network of signaling pathways\n",
    "# Visualize the computed centrality scores using heatmap, allowing ready identification of major signaling roles of cell groups\n",
    "par(mfrow=c(1,1))\n",
    "netAnalysis_signalingRole_network(cellchat, signaling = pathways.show, width = 8, height = 2.5, font.size = 10)"
   ]
  },
  {
   "cell_type": "code",
   "execution_count": null,
   "id": "59cf1851-5d67-43dc-a14c-811d6f5cdfe4",
   "metadata": {
    "tags": []
   },
   "outputs": [],
   "source": [
    "%%R -w 20 -h 8 -u in\n",
    "# Take an input of a few genes\n",
    "spatialFeaturePlot(cellchat, features = c(\"CD74\", \"CXCR4\"), point.size = 5, color.heatmap = \"Reds\", direction = 1)"
   ]
  },
  {
   "cell_type": "code",
   "execution_count": null,
   "id": "f591a962-ab76-4e1e-8e50-7579c0ea0c87",
   "metadata": {
    "tags": []
   },
   "outputs": [],
   "source": [
    "%%R\n",
    "Idents(scData) <- scData$AESTETIK_cluster\n",
    "markers <- FindAllMarkers(object = scData, test.use = \"wilcox\", only.pos = TRUE)\n",
    "## Significant markers\n",
    "markers <- markers[, c(\"gene\", \"cluster\", \"pct.1\", \"pct.2\", \"avg_log2FC\", \"p_val_adj\")]\n",
    "markers <- markers[markers$p_val_adj < 0.05, ]\n",
    "markers$cluster <- as.factor(markers$cluster)\n",
    "markers$diff_pct <- abs(markers$pct.1 - markers$pct.2)\n",
    "markers <- markers[order(markers$diff_pct, decreasing = TRUE), ]\n",
    "\n",
    "topN <- markers %>% group_by(cluster)\n",
    "topN <- slice_max(topN, n = 10, order_by = avg_log2FC)\n",
    "genesToPlot <- unique(as.character(topN$gene))\n",
    "DoHeatmap(scData, features = genesToPlot) + ggtitle(\"Top 15 marker genes\")"
   ]
  },
  {
   "cell_type": "code",
   "execution_count": 11,
   "id": "28b833ee-30fe-4714-966c-93fdc373afeb",
   "metadata": {
    "tags": []
   },
   "outputs": [],
   "source": [
    "%%R\n",
    "computeTFActivityAnalysis <- function(cells, species){\n",
    "  species <- tolower(species)\n",
    "  # Retrieve prior knowledge network.\n",
    "  network <- decoupleR::get_dorothea(organism = species,\n",
    "                                     levels = c(\"A\", \"B\", \"C\", \"D\"))\n",
    "  \n",
    "  # Run weighted means algorithm.\n",
    "  activities <- decoupleR::run_wmean(mat = as.matrix(sample@assays[[assay]]@data),\n",
    "                                   network = network,\n",
    "                                   .source = \"source\",\n",
    "                                   .targe = \"target\",\n",
    "                                   .mor = \"mor\",\n",
    "                                   times = 100,\n",
    "                                   minsize = 5)\n",
    "  \n",
    "  return(activities)\n",
    "}\n",
    "\n",
    "\n",
    "computePathwayActivityAnalysis <- function(cells, species){\n",
    "  species <- tolower(species)\n",
    "  # Retrieve prior knowledge network.\n",
    "  network <- decoupleR::get_progeny(organism = species)\n",
    "  \n",
    "  # Run weighted means algorithm.\n",
    "  activities <- decoupleR::run_wmean(mat = as.matrix(GetAssayData(cells)),\n",
    "                                     network = network,\n",
    "                                     .source = \"source\",\n",
    "                                     .targe = \"target\",\n",
    "                                     .mor = \"weight\",\n",
    "                                     times = 100,\n",
    "                                     minsize = 5)\n",
    "  \n",
    "  return(activities)\n",
    "}"
   ]
  },
  {
   "cell_type": "code",
   "execution_count": 44,
   "id": "1e844c8d-e8bb-461c-97fd-866209fd49d8",
   "metadata": {
    "tags": []
   },
   "outputs": [
    {
     "name": "stdout",
     "output_type": "stream",
     "text": [
      "    AESTETIK_cluster           ground_truth    N\n",
      " 1:                1 Normal lymphoid tissue  444\n",
      " 2:                1                 Stroma  347\n",
      " 3:                1                  Tumor  238\n",
      " 4:                1     Blood and necrosis   14\n",
      " 5:                2                  Tumor 2211\n",
      " 6:                2 Normal lymphoid tissue   11\n",
      " 7:                2                 Stroma    4\n",
      " 8:                2     Blood and necrosis    1\n",
      " 9:                3     Blood and necrosis  447\n",
      "10:                3                  Tumor  216\n",
      "11:                3                 Stroma  114\n",
      "12:                3 Normal lymphoid tissue   83\n",
      "13:                4                 Stroma  407\n",
      "14:                4     Blood and necrosis   14\n",
      "15:                4                  Tumor    4\n",
      "16:                4 Normal lymphoid tissue    2\n"
     ]
    }
   ],
   "source": [
    "%%R\n",
    "group = data.table(scData@meta.data[, c(\"ground_truth\", \"AESTETIK_cluster\")])[, .N, by=c(\"AESTETIK_cluster\", \"ground_truth\")]\n",
    "group = group[order(group$AESTETIK_cluster, -group$N)]\n",
    "group"
   ]
  },
  {
   "cell_type": "code",
   "execution_count": 47,
   "id": "9f51fc26-4055-4912-a050-3fee1e874793",
   "metadata": {
    "tags": []
   },
   "outputs": [
    {
     "name": "stdout",
     "output_type": "stream",
     "text": [
      "    AESTETIK_cluster           ground_truth    N new_cluster\n",
      " 1:                1 Normal lymphoid tissue  444           1\n",
      " 2:                1                 Stroma  347           1\n",
      " 3:                1                  Tumor  238           1\n",
      " 4:                1     Blood and necrosis   14           1\n",
      " 5:                2                  Tumor 2211           4\n",
      " 6:                2 Normal lymphoid tissue   11           4\n",
      " 7:                2                 Stroma    4           4\n",
      " 8:                2     Blood and necrosis    1           4\n",
      " 9:                3     Blood and necrosis  447           2\n",
      "10:                3                  Tumor  216           2\n",
      "11:                3                 Stroma  114           2\n",
      "12:                3 Normal lymphoid tissue   83           2\n",
      "13:                4                 Stroma  407           3\n",
      "14:                4     Blood and necrosis   14           3\n",
      "15:                4                  Tumor    4           3\n",
      "16:                4 Normal lymphoid tissue    2           3\n"
     ]
    }
   ],
   "source": [
    "%%R\n",
    "mapping_func = c(1,4,2,3)\n",
    "names(mapping_func) <- c(1,2,3,4)\n",
    "group$new_cluster = mapping_func[group$AESTETIK_cluster]\n",
    "group"
   ]
  },
  {
   "cell_type": "code",
   "execution_count": 54,
   "id": "c5145c2a-7e99-473d-87f6-fb08ed04dc42",
   "metadata": {
    "tags": []
   },
   "outputs": [
    {
     "name": "stdout",
     "output_type": "stream",
     "text": [
      "An object of class Seurat \n",
      "17864 features across 3697 samples within 1 assay \n",
      "Active assay: RNA (17864 features, 3000 variable features)\n"
     ]
    }
   ],
   "source": [
    "%%R\n",
    "scData[, Idents(scData) != 2] # remove blood"
   ]
  },
  {
   "cell_type": "code",
   "execution_count": 55,
   "id": "2b632986-d6fa-477a-b977-1daa0c02b6e6",
   "metadata": {
    "tags": []
   },
   "outputs": [
    {
     "name": "stderr",
     "output_type": "stream",
     "text": [
      "R[write to console]: [2024-01-22 12:52:50] [SUCCESS] [OmnipathR] Loaded 700239 annotation records from cache.\n",
      "R[write to console]: \n",
      "\n"
     ]
    }
   ],
   "source": [
    "%%R\n",
    "species <- \"human\"\n",
    "Idents(scData) <- mapping_func[scData$AESTETIK_cluster]\n",
    "pathwayActivity <- computePathwayActivityAnalysis(cells = scData, species = species)\n",
    "#TFActivity <- computeTFActivityAnalysis(cells = scData, species = species)"
   ]
  },
  {
   "cell_type": "code",
   "execution_count": 57,
   "id": "3293e7ef-a65f-42b3-bfce-7c114afc44c9",
   "metadata": {
    "tags": []
   },
   "outputs": [
    {
     "data": {
      "image/png": "[encoded data removed]",
      "text/plain": [
       "<IPython.core.display.Image object>"
      ]
     },
     "metadata": {},
     "output_type": "display_data"
    }
   ],
   "source": [
    "%%R -w 8 -h 5 -u in\n",
    "g <- SCpubr::do_PathwayActivityPlot(sample = scData, return_object = T,\n",
    "                               activities = pathwayActivity, legend.position = \"right\", legend.type=\"normal\")\n",
    "\n",
    "g1 <- g$Heatmap + theme(legend.title= element_blank(), \n",
    "                        axis.text.x = element_text(size = 15),\n",
    "                        axis.text.y = element_text(size = 16)) + ylab(\"Cluster\")\n",
    "g1\n",
    "#ggsave(\"test.png\", g1, dpi=300)"
   ]
  },
  {
   "cell_type": "code",
   "execution_count": null,
   "id": "d5638cf9-946b-4cc0-8736-24f52509f093",
   "metadata": {
    "tags": []
   },
   "outputs": [],
   "source": [
    "%%R"
   ]
  },
  {
   "cell_type": "code",
   "execution_count": 15,
   "id": "b78096df-dbcf-4ae6-8f2d-2994c9d9b1d7",
   "metadata": {},
   "outputs": [
    {
     "name": "stdout",
     "output_type": "stream",
     "text": [
      "AAACAACGAATAGTTC AAACAAGTATCTCCCA AAACAATCTACTAGCA \n",
      "               2                1                2 \n",
      "Levels: 2 1 3 4\n"
     ]
    }
   ],
   "source": [
    "%%R\n",
    "Idents(scData) <- scData$AESTETIK_cluster + 1\n",
    "Idents(scData)[1:3]"
   ]
  },
  {
   "cell_type": "code",
   "execution_count": null,
   "id": "b92292a2-1094-45b8-8457-cf065ad46609",
   "metadata": {},
   "outputs": [],
   "source": []
  }
 ],
 "metadata": {
  "kernelspec": {
   "display_name": "nonchev",
   "language": "python",
   "name": "nonchev"
  },
  "language_info": {
   "codemirror_mode": {
    "name": "ipython",
    "version": 3
   },
   "file_extension": ".py",
   "mimetype": "text/x-python",
   "name": "python",
   "nbconvert_exporter": "python",
   "pygments_lexer": "ipython3",
   "version": "3.9.16"
  }
 },
 "nbformat": 4,
 "nbformat_minor": 5
}
