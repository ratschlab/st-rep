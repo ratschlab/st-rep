{
 "cells": [
  {
   "cell_type": "code",
   "execution_count": null,
   "id": "a8c3a513-c3a9-4489-a8b2-bcfed185d680",
   "metadata": {
    "tags": []
   },
   "outputs": [],
   "source": [
    "import matplotlib as mpl\n",
    "mpl.rcParams['figure.dpi'] = 300\n",
    "import matplotlib.pyplot as plt\n",
    "from plotnine_prism import *\n",
    "import plotnine as p9\n",
    "import pandas as pd\n",
    "import numpy as np\n",
    "import glob\n",
    "import yaml\n",
    "import sys\n",
    "sys.path.append(\"../\")\n",
    "from src.utils import bootstrapping, normalize"
   ]
  },
  {
   "cell_type": "code",
   "execution_count": null,
   "id": "c29c2b28-067e-4d74-bc13-b903b48969d1",
   "metadata": {
    "tags": []
   },
   "outputs": [],
   "source": [
    "with open(\"../model_and_dataset_info.yaml\", \"r\") as stream:\n",
    "    model_and_dataset_info = yaml.safe_load(stream)\n",
    "model_and_dataset_info"
   ]
  },
  {
   "cell_type": "code",
   "execution_count": null,
   "id": "4266aa89-3f91-4cc7-bcfb-0e8ed9ecabc4",
   "metadata": {
    "tags": []
   },
   "outputs": [],
   "source": [
    "target_dataset = { \n",
    "                  '10x_TuPro_v2': 'Tumor Profiler (~4)',\n",
    "                  \"simulated_data_5_clusters\": \"Simulated Data (5)\",\n",
    "                  'maynard_human_brain_analysis': 'LIBD Human DLPFC (~6)',\n",
    "                  \"simulated_data_10_clusters\": \"Simulated Data (10)\", \n",
    "                  \"simulated_data_15_clusters\": \"Simulated Data (15)\", \n",
    "}      "
   ]
  },
  {
   "cell_type": "code",
   "execution_count": null,
   "id": "7f014a0d-bdea-44f7-b4e8-4e2d77583560",
   "metadata": {
    "tags": []
   },
   "outputs": [],
   "source": [
    "loss_paths = glob.glob(\"../*/out_ablation/*/AESTETIK_triplet_loss_multi_evaluate/loss/*\")\n",
    "loss_paths = [dataset for dataset in loss_paths if dataset.split(\"/\")[1] in model_and_dataset_info[\"dataset\"].keys()]\n",
    "len(loss_paths)"
   ]
  },
  {
   "cell_type": "code",
   "execution_count": null,
   "id": "5d8e0551-6d96-4869-8d92-48908ba8d11c",
   "metadata": {
    "tags": []
   },
   "outputs": [],
   "source": [
    "loss_pairs = []\n",
    "for loss_path_on in loss_paths:\n",
    "    loss_path_off = loss_path_on.replace(\"AESTETIK_triplet_loss_multi_evaluate\", \"AESTETIK_triplet_loss_single_evaluate\")\n",
    "    loss_pairs.append([loss_path_on, loss_path_off])\n",
    "loss_pairs[1]"
   ]
  },
  {
   "cell_type": "code",
   "execution_count": null,
   "id": "dc3e8fd7-780b-4421-936b-df4379f77df8",
   "metadata": {
    "tags": []
   },
   "outputs": [],
   "source": [
    "compare = []\n",
    "max_std = -100\n",
    "for multi_on, multi_off in loss_pairs:\n",
    "    sample = multi_on.split(\"/\")[-1].replace(\"model-\", \"\").replace(\"-best_param.npy\", \"\")\n",
    "    dataset = multi_on.split(\"/\")[1]\n",
    "    dataset = target_dataset[dataset]\n",
    "    train_split = multi_on.split(\"/\")[3]\n",
    "    multi_on = np.load(multi_on)\n",
    "    multi_off = np.load(multi_off)\n",
    "    multi_on_std, multi_off_std = np.diff(multi_on).std(), np.diff(multi_off).std()\n",
    "    compare.append([sample, train_split, dataset, multi_on_std, multi_off_std])\n",
    "    \n",
    "    if max_std < (multi_on_std / multi_off_std) and multi_on[20:50].min() < multi_off[20:50].min():\n",
    "        print(\"found\")\n",
    "        max_std = multi_on_std / multi_off_std\n",
    "        multi_on_plot, multi_off_plot = multi_on, multi_off\n",
    "    \n",
    "compare_df = pd.DataFrame(compare, columns=[\"sample\", \"train_split\", \"dataset\", \"multi_on_std\", \"multi_off_std\"])\n",
    "compare_df.dataset = pd.Categorical(compare_df.dataset, target_dataset.values())\n",
    "compare_df"
   ]
  },
  {
   "cell_type": "code",
   "execution_count": null,
   "id": "f8bb8511-9e66-4135-a724-eeef62fb599d",
   "metadata": {
    "tags": []
   },
   "outputs": [],
   "source": [
    "tab = compare_df.groupby([\"train_split\", \"dataset\"]).agg(\"mean\").reset_index().melt(id_vars=[\"train_split\", \"dataset\"])\n",
    "tab = tab[~tab.value.isna()]\n",
    "tab.head()"
   ]
  },
  {
   "cell_type": "code",
   "execution_count": null,
   "id": "f5e3628f-d1dc-4200-b8e1-d5c43457ff46",
   "metadata": {
    "tags": []
   },
   "outputs": [],
   "source": [
    "#tab[\"value\"] = tab.groupby([\"dataset\"]).value.transform(lambda x: normalize(x))"
   ]
  },
  {
   "cell_type": "code",
   "execution_count": null,
   "id": "b8934548-702d-4858-b4a2-0726923cb2a5",
   "metadata": {
    "tags": []
   },
   "outputs": [],
   "source": [
    "tab[\"Triplet loss\"] = tab.variable.apply(lambda x: \"multi\" if \"on\" in x else \"single\")\n",
    "tab[\"Triplet loss\"] = pd.Categorical(tab[\"Triplet loss\"], [\"single\", \"multi\"])\n",
    "tab = tab.groupby([\"dataset\", \"Triplet loss\"]).value.apply(lambda x: bootstrapping(x)).reset_index()\n",
    "tab.loc[tab.value.isna(), \"value\"] = tab.loc[tab.value.isna(), \"value\"].apply(lambda x: [np.nan,np.nan])\n",
    "tab = pd.DataFrame(tab[\"value\"].to_list(), columns=['value_median', 'value_std'], index=[tab[\"dataset\"], tab[\"Triplet loss\"]]).reset_index()\n",
    "tab"
   ]
  },
  {
   "cell_type": "code",
   "execution_count": null,
   "id": "d17b41ba-952f-441f-a69d-ea1fc5743b71",
   "metadata": {
    "tags": []
   },
   "outputs": [],
   "source": [
    "#tab[\"value_median\"] = tab.groupby(\"dataset\").value_median.transform(lambda x: (x - x.mean()))"
   ]
  },
  {
   "cell_type": "code",
   "execution_count": null,
   "id": "96461199-a916-4860-9738-2cf332644d30",
   "metadata": {
    "tags": []
   },
   "outputs": [],
   "source": [
    "position_dodge_width = 0.5\n",
    "p = (p9.ggplot(tab, p9.aes(\"dataset\", \"value_median\")) \n",
    " + p9.geom_point(p9.aes(color=\"Triplet loss\"), shape=\"D\", size=3, position=p9.position_dodge(width=position_dodge_width))\n",
    " + p9.theme_bw()\n",
    " + scale_color_prism(palette = \"colors\")\n",
    " + p9.ylab(\"Loss diviation\")\n",
    " + p9.xlab(\"\")\n",
    " + p9.geom_errorbar(p9.aes(x=\"dataset\", ymin=\"value_median-value_std\",ymax=\"value_median+value_std\", color=\"Triplet loss\"), \n",
    "                    width=0.001, alpha=1, size=1,\n",
    "                   position=p9.position_dodge(width=position_dodge_width))\n",
    " + p9.theme(subplots_adjust={'wspace': 0.0}, figure_size=(6, 5), axis_text_x = p9.element_text(angle = 15, hjust=0.5))\n",
    " + p9.theme(text=p9.element_text(size=15),\n",
    "            strip_text=p9.element_text(size=17),\n",
    "            legend_title=p9.element_text(size=17),\n",
    "            legend_text=p9.element_text(size=16))\n",
    ")\n",
    "p.save(filename = \"figures/loss_ablation.png\", dpi=300)\n",
    "p"
   ]
  },
  {
   "cell_type": "code",
   "execution_count": null,
   "id": "135b6281-5c3d-41d8-86ed-f43030f16cd9",
   "metadata": {
    "tags": []
   },
   "outputs": [],
   "source": [
    "#df = pd.DataFrame(zip(multi_on, multi_off), columns=[\"multi\", \"single\"]).melt(var_name=\"Triplet loss\", value_name=\"Loss\")\n",
    "#df[\"Iteration\"] = [*list(range(0,100)), *list(range(0,100))]\n",
    "#df[\"Triplet loss\"] = pd.Categorical(df[\"Triplet loss\"], [\"single\", \"multi\"])\n",
    "#\n",
    "#p = (p9.ggplot(df, p9.aes(\"Iteration\", \"Loss\", color=\"Triplet loss\")) \n",
    "# + p9.geom_line(size=1)\n",
    "# + p9.theme_bw()\n",
    "# + scale_color_prism(palette = \"colors\")\n",
    "# + p9.theme(subplots_adjust={'wspace': 0.0}, figure_size=(8, 5))\n",
    "# + p9.theme(\n",
    "#            text=p9.element_text(size=15),\n",
    "#            strip_text=p9.element_text(size=17),\n",
    "#            legend_title=p9.element_text(size=17),\n",
    "#            legend_text=p9.element_text(size=16))\n",
    "#)\n",
    "#p.save(filename = \"figures/loss_example.png\", dpi=300)\n",
    "#p"
   ]
  },
  {
   "cell_type": "code",
   "execution_count": null,
   "id": "f11d1a85-b007-4923-892a-c31d40f3cacb",
   "metadata": {},
   "outputs": [],
   "source": []
  },
  {
   "cell_type": "code",
   "execution_count": null,
   "id": "70a06dde-9aef-4d10-903c-102d42dd2992",
   "metadata": {},
   "outputs": [],
   "source": []
  }
 ],
 "metadata": {
  "kernelspec": {
   "display_name": "nonchev",
   "language": "python",
   "name": "nonchev"
  },
  "language_info": {
   "codemirror_mode": {
    "name": "ipython",
    "version": 3
   },
   "file_extension": ".py",
   "mimetype": "text/x-python",
   "name": "python",
   "nbconvert_exporter": "python",
   "pygments_lexer": "ipython3",
   "version": "3.9.16"
  }
 },
 "nbformat": 4,
 "nbformat_minor": 5
}
