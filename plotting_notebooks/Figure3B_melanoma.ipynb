{
 "cells": [
  {
   "cell_type": "code",
   "execution_count": null,
   "id": "8b0cf97a-b34a-4669-972e-1de4bf9bc538",
   "metadata": {},
   "outputs": [],
   "source": [
    "import matplotlib.pyplot as plt\n",
    "import matplotlib as mpl\n",
    "mpl.rcParams['figure.dpi'] = 300\n",
    "plt.rcParams.update({'font.size': 11})\n",
    "import sys\n",
    "sys.path.append(\"../\")\n",
    "from src.custom_plotting_functions import *"
   ]
  },
  {
   "cell_type": "code",
   "execution_count": null,
   "id": "b9542a5f-f07a-4a04-851e-4dd34097d731",
   "metadata": {
    "tags": []
   },
   "outputs": [],
   "source": [
    "import matplotlib.pyplot as plt\n",
    "dataset_path = \"10x_TuPro_v2\"\n",
    "sample = \"MACEGEJ-2-2\"\n",
    "models = ['MUSE', 'stLearn', 'AESTETIK']\n",
    "grount_truth_ordered = {\"Normal lymphoid tissue\": \"Normal\\nlymphoid\",\n",
    "                        \"Blood and necrosis\": \"Blood/\\nnecrosis\",\n",
    "                        \"Stroma\": \"Stroma\",\n",
    "                        \"Tumor\": \"Tumor\",\n",
    "                        }\n",
    "get_st_plot(dataset_path, sample, models, ground_truth=False, dot_size=4, grount_truth_ordered=grount_truth_ordered,\n",
    "            out_path=True, pad=20, ncols=len(models), legend_loc=None, figsize=(4,5), wspace=0.05)"
   ]
  },
  {
   "cell_type": "code",
   "execution_count": null,
   "id": "2c9c92d2-e642-44a9-8e1a-94604aa06a6c",
   "metadata": {},
   "outputs": [],
   "source": []
  }
 ],
 "metadata": {
  "kernelspec": {
   "display_name": "nonchev",
   "language": "python",
   "name": "nonchev"
  },
  "language_info": {
   "codemirror_mode": {
    "name": "ipython",
    "version": 3
   },
   "file_extension": ".py",
   "mimetype": "text/x-python",
   "name": "python",
   "nbconvert_exporter": "python",
   "pygments_lexer": "ipython3",
   "version": "3.9.16"
  }
 },
 "nbformat": 4,
 "nbformat_minor": 5
}
