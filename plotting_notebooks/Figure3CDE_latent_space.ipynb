{
 "cells": [
  {
   "cell_type": "code",
   "execution_count": null,
   "id": "fed43498-ef0f-4cde-82e4-8acd6b8423f1",
   "metadata": {
    "tags": []
   },
   "outputs": [],
   "source": [
    "import matplotlib as mpl\n",
    "mpl.rcParams['figure.dpi'] = 300"
   ]
  },
  {
   "cell_type": "code",
   "execution_count": null,
   "id": "e2641761-0903-4dea-ab57-4763bdab3639",
   "metadata": {
    "tags": []
   },
   "outputs": [],
   "source": [
    "import logging\n",
    "# Configure the logging module\n",
    "logging.basicConfig(level=logging.INFO)  # Set the desired logging level\n",
    "logging.getLogger(\"pyvips\").setLevel(logging.CRITICAL)"
   ]
  },
  {
   "cell_type": "code",
   "execution_count": null,
   "id": "e3a20a0b-905f-4b58-acc5-020328e8c77a",
   "metadata": {
    "tags": []
   },
   "outputs": [],
   "source": [
    "from matplotlib.offsetbox import OffsetImage, AnnotationBbox\n",
    "from sklearn.decomposition import PCA\n",
    "import matplotlib.pyplot as plt\n",
    "import matplotlib as mpl\n",
    "import plotnine as p9\n",
    "import squidpy as sq\n",
    "import pandas as pd\n",
    "import scanpy as sc\n",
    "import numpy as np\n",
    "import pyvips\n",
    "import umap\n",
    "import json\n",
    "import os"
   ]
  },
  {
   "cell_type": "code",
   "execution_count": null,
   "id": "1f422a89-24a3-4b04-bf44-9a667bb64fea",
   "metadata": {
    "tags": []
   },
   "outputs": [],
   "source": [
    "from aestetik.utils.utils_morphology import extract_morphology_embeddings\n",
    "from aestetik.utils.utils_transcriptomics import preprocess_adata\n",
    "from aestetik.utils.utils_vizualization import get_spot\n",
    "from aestetik import AESTETIK\n",
    "AESTETIK.version()"
   ]
  },
  {
   "cell_type": "code",
   "execution_count": null,
   "id": "673e7019-f7dc-4d13-a454-89163f36c03c",
   "metadata": {
    "tags": []
   },
   "outputs": [],
   "source": [
    "dataset = \"10x_TuPro_v2\"\n",
    "sample = \"MACEGEJ-2-2\"\n",
    "training_split = \"MAJOFIJ-2-1_MAJOFIJ-2-2_test_MANOFYB-1-1_MANOFYB-1-2_MELIPIT-1-1_MELIPIT-1-2_MACEGEJ-1-1_MACEGEJ-1-2_MAKYGIW-1-1_MAKYGIW-1-2_MAHEFOG-1-1_MAHEFOG-1-2_MIDEKOG-1-1_MIDEKOG-1-2_MACEGEJ-2-1_MACEGEJ-2-2_MAJOFIJ-1-1_MAJOFIJ-1-2\"\n",
    "n_components = 15"
   ]
  },
  {
   "cell_type": "code",
   "execution_count": null,
   "id": "c0890bd7-8282-4292-bb84-c2a662c6e224",
   "metadata": {
    "tags": []
   },
   "outputs": [],
   "source": [
    "out_folder = \"out_benchmark\"\n",
    "img_path = f\"../{dataset}/{out_folder}/data/image/{sample}.tif\"\n",
    "\n",
    "json_path = f\"../{dataset}/{out_folder}/data/meta/{sample}.json\"\n",
    "adata_in = f\"../{dataset}/{out_folder}/data/h5ad/{sample}.h5ad\"\n",
    "latent_path = f\"../{dataset}/{out_folder}/{training_split}/AESTETIK_evaluate/latent/model-{sample}-best_param.csv\"\n",
    "cluster_path = f\"../{dataset}/{out_folder}/{training_split}/AESTETIK_evaluate/clusters/model-{sample}-best_param.csv\"\n",
    "img_features_path = f\"../{dataset}/{out_folder}/data/image_features/{sample}_inception.npy\""
   ]
  },
  {
   "cell_type": "code",
   "execution_count": null,
   "id": "caf39bcb-d095-440e-9502-416293b86cb8",
   "metadata": {
    "tags": []
   },
   "outputs": [],
   "source": [
    "spot_diameter_fullres = json.load(open(json_path))[\"spot_diameter_fullres\"]\n",
    "dot_size = float(json.load(open(json_path))[\"dot_size\"])\n",
    "spot_diameter_fullres, dot_size"
   ]
  },
  {
   "cell_type": "code",
   "execution_count": null,
   "id": "91252f08-03f1-4ff0-b0dd-942ffb422fc4",
   "metadata": {
    "tags": []
   },
   "outputs": [],
   "source": [
    "adata = sc.read(adata_in)\n",
    "adata = preprocess_adata(adata)"
   ]
  },
  {
   "cell_type": "code",
   "execution_count": null,
   "id": "7df390e9-6175-4ec1-8a09-0ac4659563ad",
   "metadata": {},
   "outputs": [],
   "source": [
    "adata.obsm[\"X_pca_transcriptomics\"] = adata.obsm[\"X_pca\"][:,0:n_components]\n",
    "img_features = np.load(img_features_path)\n",
    "adata.obsm[\"X_pca_morphology\"] = img_features[:,0:n_components]"
   ]
  },
  {
   "cell_type": "code",
   "execution_count": null,
   "id": "b0d83574-6734-4c22-aae2-2b34cd395534",
   "metadata": {},
   "outputs": [],
   "source": [
    "model = AESTETIK(adata, \n",
    "                 nCluster=adata.obs.ground_truth.unique().size,\n",
    "                 img_path=img_path,\n",
    "                 morphology_weight=0,\n",
    "                 spot_diameter_fullres=spot_diameter_fullres)"
   ]
  },
  {
   "cell_type": "code",
   "execution_count": null,
   "id": "ee396147-8e5c-4f0a-93f2-13ebde47d992",
   "metadata": {},
   "outputs": [],
   "source": [
    "latent = pd.read_csv(latent_path, index_col=0)\n",
    "cluster = pd.read_csv(cluster_path)\n",
    "model.adata.obsm[\"AESTETIK\"] = latent.values\n",
    "model.adata.obs[\"AESTETIK_cluster\"] = cluster.best_param.values + 1\n",
    "model.adata.obs[\"AESTETIK_cluster\"] = model.adata.obs[\"AESTETIK_cluster\"].astype(str)"
   ]
  },
  {
   "cell_type": "code",
   "execution_count": null,
   "id": "d303d584-9866-452a-86d6-5c461ebd67ca",
   "metadata": {
    "tags": []
   },
   "outputs": [],
   "source": [
    "grount_truth_ordered = {\"Normal lymphoid tissue\": \"Normal\\nlymphoid\",\n",
    "                \"Blood and necrosis\": \"Blood/\\nnecrosis\",\n",
    "                \"Stroma\": \"Stroma\",\n",
    "                \"Tumor\": \"Tumor\",\n",
    "                }\n",
    "adata.obs[\"ground_truth\"] = adata.obs[\"ground_truth\"].apply(lambda x: grount_truth_ordered[x])\n",
    "grount_truth_ordered = list(grount_truth_ordered.values())\n",
    "adata.obs[\"ground_truth\"] = pd.Categorical(adata.obs[\"ground_truth\"], grount_truth_ordered)\n",
    "sq.pl._color_utils._maybe_set_colors(adata, adata, \"ground_truth\")\n",
    "model_str = \"AESTETIK_cluster\"\n",
    "result_df = adata.obs[[\"ground_truth\",model_str]].groupby(\"ground_truth\")[model_str].apply(lambda x: x.mode().iloc[0]).reset_index()\n",
    "result_df.set_index(\"ground_truth\", inplace=True)\n",
    "result_df = result_df.loc[grount_truth_ordered]\n",
    "result_df = result_df[~result_df[model_str].duplicated()]\n",
    "\n",
    "model_ordered = list(result_df[model_str].values)\n",
    "\n",
    "for label in adata.obs[model_str].unique():\n",
    "    if label not in model_ordered:\n",
    "        model_ordered.append(label)\n",
    "\n",
    "model_ordered_dict = dict(zip(model_ordered, range(1, len(model_ordered) + 1)))\n",
    "\n",
    "adata.obs[model_str] = adata.obs[model_str].apply(lambda x: model_ordered_dict[x])\n",
    "adata.obs[model_str] = pd.Categorical(adata.obs[model_str], model_ordered_dict.values())\n",
    "adata.uns[f\"{model_str}_colors\"] = adata.uns[f\"ground_truth_colors\"][:len(model_ordered)]"
   ]
  },
  {
   "cell_type": "code",
   "execution_count": null,
   "id": "2d0a92dd-1280-4bb5-9888-38e93e824f51",
   "metadata": {
    "tags": []
   },
   "outputs": [],
   "source": [
    "model.vizualize(plot_clusters=True, plot_centroid=True)"
   ]
  },
  {
   "cell_type": "code",
   "execution_count": null,
   "id": "d01604fe-b3da-4fd4-880c-2d70a0000581",
   "metadata": {
    "tags": []
   },
   "outputs": [],
   "source": [
    "def get_umap2(emb):\n",
    "    reducer = umap.UMAP()\n",
    "    umap_emb = reducer.fit_transform(emb)\n",
    "    return umap_emb"
   ]
  },
  {
   "cell_type": "code",
   "execution_count": null,
   "id": "3598dd2c-ccc3-403f-82d0-9c84094657dd",
   "metadata": {
    "tags": []
   },
   "outputs": [],
   "source": [
    "transcriptomics_umap = get_umap2(adata.obsm[\"X_pca_transcriptomics\"])\n",
    "morphology_umap = get_umap2(adata.obsm[\"X_pca_morphology\"])\n",
    "aestetik_umap = get_umap2(adata.obsm[\"AESTETIK\"])"
   ]
  },
  {
   "cell_type": "code",
   "execution_count": null,
   "id": "a0977285-2195-4660-b32d-712cc8bb7160",
   "metadata": {
    "tags": []
   },
   "outputs": [],
   "source": [
    "df = pd.DataFrame(np.concatenate((transcriptomics_umap, morphology_umap, aestetik_umap), axis=1), \n",
    "             columns=[\"Transcriptomics_1\", \"Transcriptomics_2\",\n",
    "                      \"Morphology_1\", \"Morphology_2\",\n",
    "                      \"AESTETIK_1\", \"AESTETIK_2\",\n",
    "                     ]\n",
    "            )\n",
    "df[\"ground_truth\"] = adata.obs.AESTETIK_cluster.values\n",
    "df[\"barcode\"] = df.index\n",
    "df = df.melt([\"ground_truth\", \"barcode\"])\n",
    "df[\"space\"] = df[\"variable\"].apply(lambda x: x.split(\"_\")[0])\n",
    "df[\"dim\"] = df[\"variable\"].apply(lambda x: f'UMAP_{x.split(\"_\")[1]}')\n",
    "df.drop({\"variable\"}, axis=1, inplace=True)\n",
    "df = df.pivot_table(index=['ground_truth', 'barcode', 'space'], columns='dim', values='value').reset_index()\n",
    "df"
   ]
  },
  {
   "cell_type": "code",
   "execution_count": null,
   "id": "ac7e512b-556e-469e-bc77-0de50db85bbd",
   "metadata": {
    "tags": []
   },
   "outputs": [],
   "source": [
    "cols = sq.pl._color_utils._get_palette(adata, \"AESTETIK_cluster\", adata.obs.AESTETIK_cluster.unique())\n",
    "df.space = pd.Categorical(df.space, [\"Transcriptomics\", \"Morphology\", \"AESTETIK\"])\n",
    "p = (p9.ggplot(df, p9.aes(\"UMAP_1\", \"UMAP_2\", color=\"ground_truth\")) \n",
    "    + p9.geom_point()\n",
    "    + p9.facet_wrap(\"~space\", nrow=3, scales=\"free\")\n",
    "    + p9.theme_bw()\n",
    "    + p9.theme(subplots_adjust={'wspace': 0.0}, figure_size=(8, 12),\n",
    "            axis_text_x = p9.element_blank(),\n",
    "            axis_text_y = p9.element_blank(),\n",
    "            text=p9.element_text(size=15),\n",
    "            strip_text=p9.element_text(size=17),\n",
    "            legend_title=p9.element_text(size=17),\n",
    "            legend_text=p9.element_text(size=16))\n",
    "    + p9.scale_color_manual(values=adata.uns[\"ground_truth_colors\"], guide=False)\n",
    ")\n",
    "p.save(f\"figures/{sample}_{dataset}_st_m_aestetik_latent.png\", dpi=300)\n",
    "p"
   ]
  },
  {
   "cell_type": "code",
   "execution_count": null,
   "id": "30ee5952-451a-4d55-893e-b2b016ccfe65",
   "metadata": {
    "tags": []
   },
   "outputs": [],
   "source": [
    "format_to_dtype = {\n",
    "    'uchar': np.uint8,\n",
    "    'char': np.int8,\n",
    "    'ushort': np.uint16,\n",
    "    'short': np.int16,\n",
    "    'uint': np.uint32,\n",
    "    'int': np.int32,\n",
    "    'float': np.float32,\n",
    "    'double': np.float64,\n",
    "    'complex': np.complex64,\n",
    "    'dpcomplex': np.complex128,\n",
    "}\n",
    "\n",
    "def get_spot(image, x, y, spot_diameter_fullres):\n",
    "    x = x - int(spot_diameter_fullres // 2)\n",
    "    y = y - int(spot_diameter_fullres // 2)\n",
    "    spot = image.crop(x, y, spot_diameter_fullres // 1.3, spot_diameter_fullres)\n",
    "    spot_array = np.ndarray(buffer=spot.write_to_memory(),\n",
    "                            dtype=format_to_dtype[spot.format],\n",
    "                            shape=[spot.height, spot.width, spot.bands])\n",
    "    return spot_array\n",
    "\n",
    "def create_pc_qcut(pc1, labels, n=10):\n",
    "    pc1 = np.array(pc1)\n",
    "    labels = np.array(labels)\n",
    "    \n",
    "    pc_q = np.empty(len(labels)).astype(str)\n",
    "    \n",
    "    labels_unique = np.unique(labels)\n",
    "    \n",
    "    for label in labels_unique:\n",
    "        values = np.array([f\"{i}_{label}\" for i in pd.qcut(pc1[label == labels], n, labels=False)])\n",
    "        pc_q[label == labels] = values\n",
    "    \n",
    "    return pc_q\n",
    "    \n",
    "\n",
    "def select_idx(pc1, labels, n=4):\n",
    "    import itertools\n",
    "    \n",
    "    pc_q = create_pc_qcut(pc1, labels)\n",
    "    \n",
    "    labels = np.array(labels)\n",
    "    \n",
    "    pc_q_unique = np.unique(pc_q)\n",
    "    pc_q_unique = [qc for qc in pc_q_unique if int(qc.split(\"_\")[0]) in [1,5,8]]\n",
    "    print(pc_q_unique)\n",
    "    labels_unique = np.unique(labels)\n",
    "    \n",
    "    indxs = []    \n",
    "    for pc_q_group, label_group in itertools.product(pc_q_unique, labels_unique):\n",
    "        indx_pass = np.logical_and(pc_q == pc_q_group, labels == label_group)\n",
    "        if sum(indx_pass) > 0:\n",
    "            size_n = min(n, sum(indx_pass) - 1)\n",
    "            indx = np.random.choice(np.where(indx_pass)[0], size_n, replace=False)\n",
    "            indxs.extend(indx)\n",
    "    return np.array(indxs)\n",
    "\n",
    "def getImage(spot, zoom=1):\n",
    "    return OffsetImage(spot, zoom=zoom)"
   ]
  },
  {
   "cell_type": "code",
   "execution_count": null,
   "id": "d5c1faaa-d082-4644-bc42-380a27a49cc0",
   "metadata": {
    "tags": []
   },
   "outputs": [],
   "source": [
    "dict(zip(model_ordered_dict.values(), adata.uns[\"AESTETIK_cluster_colors\"]))"
   ]
  },
  {
   "cell_type": "code",
   "execution_count": null,
   "id": "04a57d00-f2eb-4ec5-818c-d09cb4a554f9",
   "metadata": {
    "tags": []
   },
   "outputs": [],
   "source": [
    "labels = model.adata.obs[\"AESTETIK_cluster\"]\n",
    "# Randomly select 10 points for each label using NumPy and get the indices\n",
    "selected_indices = [np.random.choice(np.where(labels == label)[0], 8, replace=False) for label in np.unique(labels)]\n",
    "# Concatenate the indices from all labels into a single list\n",
    "selected_indices = np.concatenate(selected_indices)\n",
    "\n",
    "\n",
    "image = pyvips.Image.new_from_file(img_path)\n",
    "reducer = umap.UMAP()\n",
    "emb = reducer.fit_transform(model.adata.obsm[\"AESTETIK\"])\n",
    "# Randomly select 10 points for each label using NumPy and get the indices\n",
    "indeces_to_plot = select_idx(emb[:,0], labels)\n",
    "# Concatenate the indices from all labels into a single list\n",
    "tab = adata.obs.iloc[indeces_to_plot]\n",
    "x, y = emb[indeces_to_plot][:,0], emb[indeces_to_plot][:,1]\n",
    "colormap = dict(zip(model_ordered_dict.values(), adata.uns[\"AESTETIK_cluster_colors\"]))\n",
    "\n",
    "n_labels = np.unique(labels).size\n",
    "fig, ax = plt.subplots()\n",
    "ax.scatter(emb[:,0], emb[:,1], c=[colormap[labels[i]] for i in range(len(labels))], alpha=1, s=5)\n",
    "labels = tab[\"AESTETIK_cluster\"]\n",
    "for i in range(len(tab)):\n",
    "    row = tab.iloc[i]\n",
    "    img = get_spot(image, row.y_pixel, row.x_pixel, spot_diameter_fullres)\n",
    "    bbox_props = dict(boxstyle=\"square,pad=0.02\", fc=\"none\", ec=colormap[labels[i]], lw=3)\n",
    "    ab = AnnotationBbox(getImage(img, zoom=0.2), (x[i], y[i]), frameon=True, bboxprops=bbox_props)\n",
    "    ax.add_artist(ab)\n",
    "\n",
    "    legend_patches = []\n",
    "for l in np.unique(labels):\n",
    "    legend_patches.append(mpl.patches.Patch(color=colormap[l], label=f\"{l}\"))\n",
    "# Display the legend\n",
    "ax.legend(handles=legend_patches)\n",
    "ax.set_xlabel(f\"UMAP_1\")\n",
    "ax.set_ylabel(f\"UMAP_2\")\n",
    "plt.savefig(f\"figures/{sample}_{dataset}_spots_in_latent_space.png\", dpi=300)\n",
    "plt.show()"
   ]
  },
  {
   "cell_type": "code",
   "execution_count": null,
   "id": "3480fbc7-0d9f-407b-a964-359288b68c3f",
   "metadata": {
    "tags": []
   },
   "outputs": [],
   "source": [
    "import plotnine as p9\n",
    "from sklearn.decomposition import PCA\n",
    "import pandas as pd\n",
    "from plotnine_prism import *\n",
    "import squidpy as sq\n",
    "cols = sq.pl._color_utils._get_palette(adata, \"AESTETIK_cluster\", adata.obs.AESTETIK_cluster.unique())\n",
    "cols"
   ]
  },
  {
   "cell_type": "code",
   "execution_count": null,
   "id": "e9aacabc-b2db-4d37-aaa4-ab23cb73923f",
   "metadata": {},
   "outputs": [],
   "source": [
    "adata.obs[\"Tumor_distance\"] = pd.qcut(adata.obs[\"dist_from_4\"], \n",
    "                                      [0, 0.1, 0.25, 0.5, 0.75, 0.9, 1],\n",
    "                                      labels=[\"[0-0.1]\", \"(0.1-0.25]\", \"(0.25-0.5]\", \n",
    "                                              \"(0.5-0.75]\", \"(0.75-0.9]\", \"(0.9-1]\"])\n",
    "adata.obs[\"Tumor_distance\"].value_counts()"
   ]
  },
  {
   "cell_type": "code",
   "execution_count": null,
   "id": "13543598-3c84-4e13-9890-390082708083",
   "metadata": {},
   "outputs": [],
   "source": [
    "genes = [\"Tumor_distance\"]\n",
    "plt.rcParams.update({'font.size': 11})\n",
    "pad=20\n",
    "bounds = (adata.obsm[\"spatial\"][:,0].min() - pad, \n",
    "              adata.obsm[\"spatial\"][:,1].min() - pad,\n",
    "               adata.obsm[\"spatial\"][:,0].max() + pad,\n",
    "               adata.obsm[\"spatial\"][:,1].max() + pad)\n",
    "\n",
    "sq.pl.spatial_scatter(\n",
    "            adata,\n",
    "            crop_coord=bounds,\n",
    "            title=\"Tumor distance\",\n",
    "            img_alpha=0.8,\n",
    "            color=genes,\n",
    "            size=4,\n",
    "            use_raw=False,\n",
    "            ncols=3, wspace=0, dpi=300, frameon=False, figsize=(6,5),\n",
    "            palette = 'YlOrRd',\n",
    "            legend_fontweight=\"semibold\",\n",
    "            save=f\"{sample}_{'_'.join(genes)}.png\"\n",
    ")"
   ]
  },
  {
   "cell_type": "code",
   "execution_count": null,
   "id": "2e996855-691b-4267-87c1-4f4d1243f75e",
   "metadata": {},
   "outputs": [],
   "source": []
  }
 ],
 "metadata": {
  "kernelspec": {
   "display_name": "nonchev",
   "language": "python",
   "name": "nonchev"
  },
  "language_info": {
   "codemirror_mode": {
    "name": "ipython",
    "version": 3
   },
   "file_extension": ".py",
   "mimetype": "text/x-python",
   "name": "python",
   "nbconvert_exporter": "python",
   "pygments_lexer": "ipython3",
   "version": "3.9.16"
  }
 },
 "nbformat": 4,
 "nbformat_minor": 5
}
