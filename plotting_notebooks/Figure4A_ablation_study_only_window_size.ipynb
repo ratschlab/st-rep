{
 "cells": [
  {
   "cell_type": "code",
   "execution_count": null,
   "id": "44a475ee-0a78-45c5-8296-6ec7b8dab9e2",
   "metadata": {
    "tags": []
   },
   "outputs": [],
   "source": [
    "import matplotlib as mpl\n",
    "mpl.rcParams['figure.dpi'] = 300"
   ]
  },
  {
   "cell_type": "code",
   "execution_count": null,
   "id": "2f6e638f-3787-4eff-92c7-c7c9c0fd67fd",
   "metadata": {
    "tags": []
   },
   "outputs": [],
   "source": [
    "import sys\n",
    "sys.path.append(\"../\")"
   ]
  },
  {
   "cell_type": "code",
   "execution_count": null,
   "id": "d424752c-6acb-4bd9-a59b-64178b4307a0",
   "metadata": {
    "tags": []
   },
   "outputs": [],
   "source": [
    "from src.utils import bootstrapping, normalize\n",
    "from matplotlib import pyplot as plt\n",
    "from plotnine_prism import *\n",
    "import patchworklib as pw\n",
    "import plotnine as p9\n",
    "import numpy as np\n",
    "import pandas as pd\n",
    "import numpy as np\n",
    "import yaml\n",
    "import glob"
   ]
  },
  {
   "cell_type": "code",
   "execution_count": null,
   "id": "61cd92ff-7730-41d5-9816-101c0c01a6cb",
   "metadata": {},
   "outputs": [],
   "source": [
    "perf_report_files = glob.glob(\"../*/out_ablation/summary/model_performance_full.csv\")\n",
    "print(len(perf_report_files))\n",
    "perf_report_files"
   ]
  },
  {
   "cell_type": "code",
   "execution_count": null,
   "id": "7b65be41-26da-4956-9340-6ae20d6576e4",
   "metadata": {
    "tags": []
   },
   "outputs": [],
   "source": [
    "with open(\"../model_and_dataset_info.yaml\", \"r\") as stream:\n",
    "    model_and_dataset_info = yaml.safe_load(stream)\n",
    "\n",
    "model_modality = model_and_dataset_info[\"model_modality\"]\n",
    "dataset_name = model_and_dataset_info[\"dataset\"]"
   ]
  },
  {
   "cell_type": "code",
   "execution_count": null,
   "id": "9b78d11f-1af5-40ef-9f27-9b51aa54eb5f",
   "metadata": {
    "tags": []
   },
   "outputs": [],
   "source": [
    "data = []\n",
    "for file in perf_report_files:\n",
    "    df = pd.read_csv(file)\n",
    "    dataset = file.split(\"/\")[1]\n",
    "    dataset = dataset_name[dataset]\n",
    "    df[\"dataset\"] = dataset\n",
    "    data.append(df)\n",
    "data = pd.concat(data)\n",
    "data.dataset = pd.Categorical(data.dataset, [d for d in dataset_name.values() if d in data.dataset.unique()])\n",
    "data"
   ]
  },
  {
   "cell_type": "code",
   "execution_count": null,
   "id": "8344a5f3-0874-4bba-a059-129042e98c22",
   "metadata": {},
   "outputs": [],
   "source": [
    "data.dataset.unique()"
   ]
  },
  {
   "cell_type": "code",
   "execution_count": null,
   "id": "d891d933-a0a4-4ad2-a47f-5e1459c1b294",
   "metadata": {},
   "outputs": [],
   "source": []
  },
  {
   "cell_type": "code",
   "execution_count": null,
   "id": "86193b3c-30b4-44e6-bd26-15c960409899",
   "metadata": {},
   "outputs": [],
   "source": [
    "data[\"hparam\"] = data.model.apply(lambda x: \"\\n\".join(x.split(\"_\")[1:-1]) if len(x.split(\"_\")) > 1 else x)\n",
    "data[\"hparam_values\"] = data.model.apply(lambda x: int(x.split(\"_\")[-1]) if x.split(\"_\")[-1].isnumeric() or x.split(\"_\")[-1] == \"-1\" else \"full\" if len(x.split(\"_\")) == 1 else x.split(\"_\")[-1])"
   ]
  },
  {
   "cell_type": "code",
   "execution_count": null,
   "id": "ed24e448-0d35-4680-9b1d-ff0672772a4c",
   "metadata": {},
   "outputs": [],
   "source": [
    "data.hparam.unique()"
   ]
  },
  {
   "cell_type": "code",
   "execution_count": null,
   "id": "faf608fd-02a1-4dc2-bef0-69370c24a730",
   "metadata": {},
   "outputs": [],
   "source": [
    "def transform_num(x):\n",
    "    value = x.model.split(\"_\")[-1]\n",
    "    \n",
    "    hparam = x.hparam\n",
    "    \n",
    "    if value.isnumeric():\n",
    "        value = int(value)\n",
    "    elif \".\" in value:\n",
    "        value = float(value)\n",
    "    else:\n",
    "        pass\n",
    "    \n",
    "    return value\n",
    "        \n",
    "        "
   ]
  },
  {
   "cell_type": "code",
   "execution_count": null,
   "id": "508d3c06-710f-473b-a176-e0d656d0082e",
   "metadata": {},
   "outputs": [],
   "source": [
    "tab = data.copy().query(\"model != 'AESTETIK'\")\n",
    "tab[\"ari\"] = tab.groupby([\"hparam\", \"dataset\"]).ari.transform(lambda x: normalize(x))\n",
    "tab = tab.groupby([\"model\", \"dataset\"]).ari.apply(lambda x: bootstrapping(x)).reset_index()\n",
    "tab.loc[tab.ari.isna(), \"ari\"] = tab.loc[tab.ari.isna(), \"ari\"].apply(lambda x: [np.nan,np.nan])\n",
    "tab = pd.DataFrame(tab[\"ari\"].to_list(), columns=['ARI_median', 'ARI_std'], index=[tab.model, tab.dataset]).reset_index()\n",
    "tab[\"hparam\"] = tab.model.apply(lambda x: \" \".join(x.split(\"_\")[1:-1]) if len(x.split(\"_\")) > 1 else x)\n",
    "tab[\"hparam_values\"] = tab.apply(lambda x: transform_num(x), axis=1)\n",
    "tab.head()"
   ]
  },
  {
   "cell_type": "code",
   "execution_count": null,
   "id": "0fd778b9-ae00-4933-9f1a-7fa6051a7d99",
   "metadata": {},
   "outputs": [],
   "source": [
    "tab.hparam.unique()"
   ]
  },
  {
   "cell_type": "code",
   "execution_count": null,
   "id": "f86b34ba-d980-4add-9990-b52662ed4aa7",
   "metadata": {},
   "outputs": [],
   "source": [
    "tab.hparam_values.unique()"
   ]
  },
  {
   "cell_type": "code",
   "execution_count": null,
   "id": "b1bfb1e5-00a8-48c2-9dd0-1e98f57977b3",
   "metadata": {},
   "outputs": [],
   "source": [
    "hparam_of_int = {'train size': \"Train size\", \n",
    "                 'triplet loss': \"Triplet loss\", \n",
    "                 'rec loss': \"Reconstruction loss\", \n",
    "                 'refine cluster': \"Refine cluster\", \n",
    "                 'clustering method': \"Clustering method\"}"
   ]
  },
  {
   "cell_type": "code",
   "execution_count": null,
   "id": "e700a528-600b-462e-89fc-20741d315e48",
   "metadata": {},
   "outputs": [],
   "source": [
    "scace_facet = [max(0.4, dict(tab[[\"hparam\", \"hparam_values\"]].drop_duplicates().hparam.value_counts() / 10)[a]) for a in hparam_of_int]\n",
    "scace_facet"
   ]
  },
  {
   "cell_type": "code",
   "execution_count": null,
   "id": "96f21b0e-439c-4c96-84be-d3080ba451f7",
   "metadata": {},
   "outputs": [],
   "source": [
    "hparam_of_int = {'window size': \"Window size\"}\n",
    "scace_facet = [max(0.4, dict(tab[[\"hparam\", \"hparam_values\"]].drop_duplicates().hparam.value_counts() / 10)[a]) for a in hparam_of_int]\n",
    "scace_facet"
   ]
  },
  {
   "cell_type": "code",
   "execution_count": null,
   "id": "b75758ec-2d22-4d6e-956a-e2835737ed3c",
   "metadata": {},
   "outputs": [],
   "source": [
    "tab.dataset.unique()"
   ]
  },
  {
   "cell_type": "code",
   "execution_count": null,
   "id": "9d0ee94b-c5e7-46ae-86cb-8d8d7bedc829",
   "metadata": {},
   "outputs": [],
   "source": [
    "plot_data = tab.copy()\n",
    "plot_data = plot_data.query(\"dataset in ['LIBD Human DLPFC', 'Tumor Profiler', 'Simulated Data (10)']\").copy()\n",
    "plot_data.dataset = pd.Categorical(plot_data.dataset, [d for d in dataset_name.values() if d in plot_data.dataset.unique()])\n",
    "\n",
    "order = [\"off\", \"on\", \"multi\", \"0\", \"0.01\", \"0.1\", \"0.25\", \"0.5\", \"0.75\", \"1\" ,\"10\", \"100\", \"1000\", \"2000\", \"5000\", \"all\", \"1.5\", \"2\", \n",
    "         \"3\", \"5\", \"7\", \"9\", \"11\", 'kmeans', 'mclust', \"bgm\"]\n",
    "position_dodge_width = 0.6\n",
    "plot_data[\"Dataset\"] = plot_data.dataset\n",
    "plot_data.hparam = plot_data.hparam.astype(str)\n",
    "plot_data = plot_data.query(\"hparam in @hparam_of_int.keys()\")\n",
    "plot_data.hparam = plot_data.hparam.apply(lambda x: hparam_of_int[x])\n",
    "plot_data.hparam = pd.Categorical(plot_data.hparam.values, hparam_of_int.values())\n",
    "plot_data.hparam_values = pd.Categorical(plot_data.hparam_values.astype(str), order)\n",
    "p = (p9.ggplot(plot_data, p9.aes(\"hparam_values\", \"ARI_median\")) \n",
    " + p9.geom_point(p9.aes(color=\"Dataset\"), shape=\"D\", size=3, position=p9.position_dodge(width=position_dodge_width))\n",
    " + p9.geom_line(p9.aes(color=\"dataset\", group=\"dataset\"), linetype=\"dashed\", alpha=0.4, size=1, position=p9.position_dodge(width=position_dodge_width))\n",
    " + p9.theme_bw()\n",
    " + p9.facet_grid(\"~hparam\", scales=\"free_x\", space={\"x\": scace_facet, \"y\":[1]})\n",
    " + scale_color_prism(palette = \"colors\")\n",
    " + p9.ylab(\"ARI\\nz-score\")\n",
    " + p9.xlab(\"Hyperparameter value\")\n",
    " + p9.geom_errorbar(p9.aes(x=\"hparam_values\", ymin=\"ARI_median-ARI_std\",ymax=\"ARI_median+ARI_std\", color=\"Dataset\"), \n",
    "                    width=0.001, alpha=1, size=1,\n",
    "                   position=p9.position_dodge(width=position_dodge_width))\n",
    " + p9.theme(subplots_adjust={'wspace': 0.0}, figure_size=(6, 6), axis_text_x = p9.element_text(angle = 25))\n",
    " + p9.theme(text=p9.element_text(size=15),\n",
    "            strip_text=p9.element_text(size=17),\n",
    "            legend_title=p9.element_text(size=17),\n",
    "            legend_text=p9.element_text(size=16))\n",
    ")\n",
    "p.save(filename = \"figures/ablation_study_ari_only_window.png\", dpi=300)\n",
    "p"
   ]
  },
  {
   "cell_type": "code",
   "execution_count": null,
   "id": "92eee188-ea4a-40fa-a52a-65ed188cca90",
   "metadata": {},
   "outputs": [],
   "source": []
  }
 ],
 "metadata": {
  "kernelspec": {
   "display_name": "nonchev",
   "language": "python",
   "name": "nonchev"
  },
  "language_info": {
   "codemirror_mode": {
    "name": "ipython",
    "version": 3
   },
   "file_extension": ".py",
   "mimetype": "text/x-python",
   "name": "python",
   "nbconvert_exporter": "python",
   "pygments_lexer": "ipython3",
   "version": "3.9.16"
  }
 },
 "nbformat": 4,
 "nbformat_minor": 5
}
