{
 "cells": [
  {
   "cell_type": "code",
   "execution_count": null,
   "id": "c458dce0-5bbf-44ca-b081-a9df0f67ac14",
   "metadata": {},
   "outputs": [],
   "source": [
    "import plotnine as p9\n",
    "import pandas as pd\n",
    "import matplotlib as mpl\n",
    "mpl.rcParams['figure.dpi'] = 300\n",
    "\n",
    "from plotnine_prism import *"
   ]
  },
  {
   "cell_type": "code",
   "execution_count": null,
   "id": "a58c0d65-8543-4c15-9025-545193a55574",
   "metadata": {},
   "outputs": [],
   "source": [
    "time_df = pd.read_csv(\"../simulated_data_run_time/run_time.csv\")\n",
    "time_df[\"train\"] = time_df[\"train\"] * 10\n",
    "#time_df[\"overall\"] = time_df.apply(lambda x: x.prepare_input_for_model + x.train + x.compute_spot_representations, axis=1)"
   ]
  },
  {
   "cell_type": "code",
   "execution_count": null,
   "id": "e0863feb-27e6-4acf-840c-150954dd3ea1",
   "metadata": {},
   "outputs": [],
   "source": [
    "time_df"
   ]
  },
  {
   "cell_type": "code",
   "execution_count": null,
   "id": "19e845d7-9827-4e0c-bf8e-dabcd12c90fe",
   "metadata": {},
   "outputs": [],
   "source": [
    "rename_dict = {\"prepare_input_for_model\": \"Grid building\",\n",
    "              \"train\": \"Train\\n(100 epochs)\",\n",
    "              \"compute_spot_representations\": \"Inference\"}"
   ]
  },
  {
   "cell_type": "code",
   "execution_count": null,
   "id": "29f1e780-8b3d-4b94-80b4-75c91819a937",
   "metadata": {},
   "outputs": [],
   "source": [
    "to_plot = time_df.melt([\"n_points\"], var_name=\"function\", value_name=\"seconds\")\n",
    "to_plot[\"function\"] = to_plot[\"function\"].apply(lambda x: rename_dict[x])\n",
    "to_plot[\"function\"] = pd.Categorical(to_plot[\"function\"], rename_dict.values())\n",
    "to_plot[\"minutes\"] = to_plot[\"seconds\"] / 60\n",
    "to_plot[\"hours\"] = to_plot[\"minutes\"] / 60\n",
    "\n",
    "p = (p9.ggplot(to_plot, p9.aes(\"n_points\", \"minutes\", color=\"function\", group=\"function\")) \n",
    " + p9.geom_point(size=2, shape=\"D\") \n",
    " + p9.geom_line(linetype=\"--\", size=1.5, alpha=0.3)\n",
    " + p9.theme_bw()\n",
    " #+ p9.scale_x_log10()\n",
    " #+ p9.scale_y_log10()\n",
    " + scale_color_prism(palette = \"colors\")\n",
    " + p9.scale_x_continuous(name='Spots', trans='log10', \n",
    "                         breaks=[1_000, 10_000, 100_000, 1_000_000, 10_000_000], \n",
    "                         labels=['$10^3$', '$10^4$', '$10^5$', '$10^6$', '$10^7$'])\n",
    " + p9.scale_y_continuous(name='Time (min)', trans='log10', \n",
    "                         breaks=[0.1, 1, 10, 100, 1000], \n",
    "                         labels=['$10^{-1}$', '$10^0$', '$10^1$', '$10^2$', '$10^3$'])\n",
    " + p9.guides(color=p9.guide_legend(title=\"AESTETIK\"))\n",
    " + p9.theme(figure_size=(6, 4),\n",
    "            #legend_title = p9.element_blank(),\n",
    "            text=p9.element_text(size=12),\n",
    "            strip_text=p9.element_text(size=15),\n",
    "            legend_text=p9.element_text(size=12))\n",
    ")\n",
    "p.save(\"figures/aestetik_run_time.png\", dpi=300)\n",
    "p"
   ]
  },
  {
   "cell_type": "code",
   "execution_count": null,
   "id": "a756213d-4fc5-4ca4-bb2b-1375bcfdedf2",
   "metadata": {},
   "outputs": [],
   "source": []
  },
  {
   "cell_type": "code",
   "execution_count": null,
   "id": "7b47b850-6a86-41a0-87ab-660ea95b917a",
   "metadata": {},
   "outputs": [],
   "source": []
  }
 ],
 "metadata": {
  "kernelspec": {
   "display_name": "nonchev",
   "language": "python",
   "name": "nonchev"
  },
  "language_info": {
   "codemirror_mode": {
    "name": "ipython",
    "version": 3
   },
   "file_extension": ".py",
   "mimetype": "text/x-python",
   "name": "python",
   "nbconvert_exporter": "python",
   "pygments_lexer": "ipython3",
   "version": "3.9.16"
  }
 },
 "nbformat": 4,
 "nbformat_minor": 5
}
