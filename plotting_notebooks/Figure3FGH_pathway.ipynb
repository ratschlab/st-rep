{
 "cells": [
  {
   "cell_type": "code",
   "execution_count": null,
   "id": "1df60e26-6105-468a-9997-6706988f11b7",
   "metadata": {
    "tags": []
   },
   "outputs": [],
   "source": [
    "from aestetik.utils.utils_transcriptomics import preprocess_adata\n",
    "from sklearn.preprocessing import StandardScaler\n",
    "import matplotlib.pyplot as plt\n",
    "import decoupler as dc\n",
    "import squidpy as sq\n",
    "import scanpy as sc\n",
    "import pandas as pd\n",
    "import numpy as np"
   ]
  },
  {
   "cell_type": "code",
   "execution_count": null,
   "id": "58495c0e-d810-4872-947f-3aec42f69503",
   "metadata": {
    "tags": []
   },
   "outputs": [],
   "source": [
    "# Plotting options\n",
    "sc.settings.set_figure_params(dpi=300, frameon=False)\n",
    "sc.set_figure_params(dpi=300)\n",
    "sc.set_figure_params(figsize=(10, 10))\n",
    "plt.rcParams.update({'font.size': 13})"
   ]
  },
  {
   "cell_type": "code",
   "execution_count": null,
   "id": "b4d3666a-766a-46d9-9339-4192d78e7da7",
   "metadata": {
    "tags": []
   },
   "outputs": [],
   "source": [
    "dataset = \"10x_TuPro_v2\"\n",
    "sample = \"MACEGEJ-2-2\"\n",
    "adata = sc.read_h5ad(f\"../{dataset}/out_benchmark/data/h5ad/{sample}.h5ad\")\n",
    "adata.var_names_make_unique()\n",
    "adata.layers[\"log1p\"] = np.log1p(adata.X)\n",
    "adata = preprocess_adata(adata)\n",
    "adata"
   ]
  },
  {
   "cell_type": "code",
   "execution_count": null,
   "id": "a3bb49f9-6563-4cc5-a347-b8aeea88b253",
   "metadata": {
    "tags": []
   },
   "outputs": [],
   "source": [
    "mapping = {2:2, 3:3, 1:4, 4:1}"
   ]
  },
  {
   "cell_type": "code",
   "execution_count": null,
   "id": "9dadf01e-4761-455e-8fda-d7ece4db53fb",
   "metadata": {
    "tags": []
   },
   "outputs": [],
   "source": [
    "training_split = \"MAJOFIJ-2-1_MAJOFIJ-2-2_test_MANOFYB-1-1_MANOFYB-1-2_MELIPIT-1-1_MELIPIT-1-2_MACEGEJ-1-1_MACEGEJ-1-2_MAKYGIW-1-1_MAKYGIW-1-2_MAHEFOG-1-1_MAHEFOG-1-2_MIDEKOG-1-1_MIDEKOG-1-2_MACEGEJ-2-1_MACEGEJ-2-2_MAJOFIJ-1-1_MAJOFIJ-1-2\"\n",
    "\n",
    "clusters = pd.read_csv(f\"../{dataset}/out_benchmark/{training_split}/AESTETIK_evaluate/clusters/model-MACEGEJ-2-2-best_param.csv\")\n",
    "adata.obs[\"AESTETIK_cluster\"] = pd.Categorical([str(mapping[c]) for c in clusters.best_param.values + 1], ordered=True)\n",
    "adata.obs[\"AESTETIK_cluster\"]"
   ]
  },
  {
   "cell_type": "code",
   "execution_count": null,
   "id": "4a58e101-684f-44c9-bee0-6ef954c410c3",
   "metadata": {
    "tags": []
   },
   "outputs": [],
   "source": [
    "adata.obs[[\"AESTETIK_cluster\", \"ground_truth\"]].value_counts()"
   ]
  },
  {
   "cell_type": "code",
   "execution_count": null,
   "id": "361d5b79-eae0-4233-b1f6-5bf3c0618e71",
   "metadata": {
    "tags": []
   },
   "outputs": [],
   "source": [
    "sc.tl.rank_genes_groups(adata, 'AESTETIK_cluster', use_raw=False, layer=\"log1p\", method='wilcoxon', n_genes=50)"
   ]
  },
  {
   "cell_type": "code",
   "execution_count": null,
   "id": "5159df9d-d0b8-48ac-8ee7-bf31836de0ff",
   "metadata": {
    "tags": []
   },
   "outputs": [],
   "source": [
    "sorted_logfoldchanges_arg = (-pd.DataFrame(adata.uns['rank_genes_groups']['logfoldchanges']).values).argsort(axis=0)\n",
    "sorted_logfoldchanges_arg.shape"
   ]
  },
  {
   "cell_type": "code",
   "execution_count": null,
   "id": "43cb60de-b6bf-4c76-96fc-3c011b59fa2b",
   "metadata": {
    "tags": []
   },
   "outputs": [],
   "source": [
    "marker_genes = pd.DataFrame(np.take_along_axis(pd.DataFrame(adata.uns['rank_genes_groups']['names']).values, sorted_logfoldchanges_arg, axis=0), columns=adata.obs[\"AESTETIK_cluster\"].dtype.categories).head(15)\n",
    "marker_genes"
   ]
  },
  {
   "cell_type": "code",
   "execution_count": null,
   "id": "7e7335dd-880d-4feb-a65b-90dd002d82ec",
   "metadata": {
    "tags": []
   },
   "outputs": [],
   "source": [
    "#marker_genes = pd.DataFrame(adata.uns['rank_genes_groups']['names']).head(5)\n",
    "marker_genes_dict = marker_genes.to_dict(orient='list')\n",
    "marker_genes_list = list(set(marker_genes.values.reshape(-1)))\n",
    "marker_genes.columns"
   ]
  },
  {
   "cell_type": "code",
   "execution_count": null,
   "id": "adcbbd16-d5b1-43ad-a960-664675fd394a",
   "metadata": {
    "tags": []
   },
   "outputs": [],
   "source": [
    "plt.rcParams.update({'font.size': 11})\n",
    "sc.pl.matrixplot(adata, marker_genes_dict, groupby='AESTETIK_cluster', \n",
    "                 use_raw=False, cmap='bwr',\n",
    "                 save=f\"{sample}_marker_genes.png\"\n",
    "                )"
   ]
  },
  {
   "cell_type": "code",
   "execution_count": null,
   "id": "34bde3bb-a983-49e9-875d-6d65343686ad",
   "metadata": {
    "tags": []
   },
   "outputs": [],
   "source": [
    "progeny = dc.get_progeny(organism='human', top=500)\n",
    "progeny"
   ]
  },
  {
   "cell_type": "code",
   "execution_count": null,
   "id": "dcdbdd1a-e690-4834-bf44-099b76b2124c",
   "metadata": {
    "tags": []
   },
   "outputs": [],
   "source": [
    "dc.run_mlm(\n",
    "    mat=adata,\n",
    "    net=progeny,\n",
    "    source='source',\n",
    "    target='target',\n",
    "    weight='weight',\n",
    "    verbose=True,\n",
    "    use_raw=False,\n",
    "    min_n = 5\n",
    ")"
   ]
  },
  {
   "cell_type": "code",
   "execution_count": null,
   "id": "78e5f2f9-c7fe-428e-b041-42d81c494444",
   "metadata": {
    "tags": []
   },
   "outputs": [],
   "source": [
    "scaler = StandardScaler()\n",
    "adata.obsm[\"mlm_estimate_norm\"] = pd.DataFrame(scaler.fit_transform(adata.obsm[\"mlm_estimate\"].T).T, columns=adata.obsm[\"mlm_estimate\"].columns, index=adata.obsm[\"mlm_estimate\"].index)\n",
    "acts = dc.get_acts(adata, obsm_key='mlm_estimate_norm')\n",
    "acts"
   ]
  },
  {
   "cell_type": "code",
   "execution_count": null,
   "id": "42c33e95-18ec-4507-bc8f-1df608f96ec9",
   "metadata": {
    "tags": []
   },
   "outputs": [],
   "source": [
    "sc.pl.matrixplot(acts, var_names=acts.var_names, groupby='AESTETIK_cluster', dendrogram=False,\n",
    "                 colorbar_title='Activity\\nz-score', cmap='bwr', \n",
    "                 figsize=(10,2), title=\"Pathway\",\n",
    "                 save=f\"{sample}_pathway_activity.png\"\n",
    "                )"
   ]
  },
  {
   "cell_type": "code",
   "execution_count": null,
   "id": "de734eec-6918-40a6-ae1b-a2cd38cc06c1",
   "metadata": {},
   "outputs": [],
   "source": [
    "plt.rcParams.update({'font.size': 11})\n",
    "pad=20\n",
    "pathway = \"MAPK\"\n",
    "bounds = (adata.obsm[\"spatial\"][:,0].min() - pad, \n",
    "              adata.obsm[\"spatial\"][:,1].min() - pad,\n",
    "               adata.obsm[\"spatial\"][:,0].max() + pad,\n",
    "               adata.obsm[\"spatial\"][:,1].max() + pad)\n",
    "\n",
    "sq.pl.spatial_scatter(\n",
    "            acts,\n",
    "            crop_coord=bounds,\n",
    "            #title=\"Tumor distance\",\n",
    "            img_alpha=0.8,\n",
    "            color=[pathway],\n",
    "            size=4,\n",
    "            use_raw=False,\n",
    "            cmap='bwr',\n",
    "            ncols=3, wspace=0, dpi=300, frameon=False, figsize=(6,5),\n",
    "            vcenter=0,\n",
    "            save=f\"{sample}_{pathway}.png\"\n",
    ")"
   ]
  },
  {
   "cell_type": "code",
   "execution_count": null,
   "id": "a44ef2ea-3938-4fbd-b5bc-31715bd5ac45",
   "metadata": {},
   "outputs": [],
   "source": [
    "plt.rcParams.update({'font.size': 11})\n",
    "gene = \"TYRP1\"\n",
    "pad=20\n",
    "bounds = (adata.obsm[\"spatial\"][:,0].min() - pad, \n",
    "              adata.obsm[\"spatial\"][:,1].min() - pad,\n",
    "               adata.obsm[\"spatial\"][:,0].max() + pad,\n",
    "               adata.obsm[\"spatial\"][:,1].max() + pad)\n",
    "\n",
    "sq.pl.spatial_scatter(\n",
    "            adata,\n",
    "            crop_coord=bounds,\n",
    "            #title=\"Tumor distance\",\n",
    "            img_alpha=0.8,\n",
    "            color=[gene],\n",
    "            size=4,\n",
    "            use_raw=False,\n",
    "            ncols=3, wspace=0, dpi=300, frameon=False, figsize=(6,5),\n",
    "            cmap='bwr',\n",
    "            save=f\"{sample}_{gene}.png\"\n",
    ")"
   ]
  },
  {
   "cell_type": "code",
   "execution_count": null,
   "id": "285009b6-8a23-4410-8d63-506d4eec4463",
   "metadata": {},
   "outputs": [],
   "source": []
  }
 ],
 "metadata": {
  "kernelspec": {
   "display_name": "nonchev",
   "language": "python",
   "name": "nonchev"
  },
  "language_info": {
   "codemirror_mode": {
    "name": "ipython",
    "version": 3
   },
   "file_extension": ".py",
   "mimetype": "text/x-python",
   "name": "python",
   "nbconvert_exporter": "python",
   "pygments_lexer": "ipython3",
   "version": "3.9.16"
  }
 },
 "nbformat": 4,
 "nbformat_minor": 5
}
