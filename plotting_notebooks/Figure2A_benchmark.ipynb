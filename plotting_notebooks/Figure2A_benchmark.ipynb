{
 "cells": [
  {
   "cell_type": "code",
   "execution_count": null,
   "id": "8b78fe54-a8f5-4f78-9b45-5390f6d0f1d4",
   "metadata": {
    "tags": []
   },
   "outputs": [],
   "source": [
    "import matplotlib as mpl\n",
    "mpl.rcParams['figure.dpi'] = 300"
   ]
  },
  {
   "cell_type": "code",
   "execution_count": null,
   "id": "ca8cd2a7-20f2-44f8-8041-44b670ded108",
   "metadata": {
    "tags": []
   },
   "outputs": [],
   "source": [
    "from matplotlib import pyplot as plt\n",
    "from plotnine_prism import *\n",
    "import plotnine as p9\n",
    "import pandas as pd\n",
    "import numpy as np\n",
    "import glob\n",
    "import yaml"
   ]
  },
  {
   "cell_type": "code",
   "execution_count": null,
   "id": "99c37092-5221-441f-8cd0-45294863beb3",
   "metadata": {
    "tags": []
   },
   "outputs": [],
   "source": [
    "with open(\"../model_and_dataset_info.yaml\", \"r\") as stream:\n",
    "    model_and_dataset_info = yaml.safe_load(stream)\n",
    "\n",
    "dataset_name = model_and_dataset_info[\"dataset\"]\n",
    "dataset_name"
   ]
  },
  {
   "cell_type": "code",
   "execution_count": null,
   "id": "0a5454bb-4ca6-4617-9e8e-41c7a19f78a1",
   "metadata": {},
   "outputs": [],
   "source": [
    "perf_report_files = glob.glob(\"../*/out_benchmark/summary/model_performance_bootstrapping.csv\")\n",
    "perf_report_files = [dataset for dataset in perf_report_files if dataset.split(\"/\")[1] in dataset_name.keys()]\n",
    "perf_report_files"
   ]
  },
  {
   "cell_type": "code",
   "execution_count": null,
   "id": "af1e1033-2da4-4e69-bb88-4a83c6793505",
   "metadata": {
    "tags": []
   },
   "outputs": [],
   "source": [
    "data = []\n",
    "for file in perf_report_files:\n",
    "    df = pd.read_csv(file)\n",
    "    data.append(df)\n",
    "data = pd.concat(data)\n",
    "data[\"Dataset\"] = data.dataset\n",
    "data.ARI_median = data.ARI_median.astype(float)\n",
    "data.ARI_std = data.ARI_std.astype(float)\n",
    "data"
   ]
  },
  {
   "cell_type": "code",
   "execution_count": null,
   "id": "e8940e9b-ac53-4564-96b0-38b128f84e91",
   "metadata": {
    "tags": []
   },
   "outputs": [],
   "source": [
    "datasets = ['LIBD Human DLPFC', 'Human Breast Cancer','Tumor Profiler', 'Human Liver Normal', 'Human Liver Cancer']\n",
    "models = ['SpaGCN', 'BayesSpace', 'AESTETIK', 'GraphST', 'STAGATE', 'MUSE', 'Leiden', 'stLearn']\n",
    "\n",
    "\n",
    "tab = data.query(\"model in @models and dataset in @datasets\").copy()\n",
    "tab = tab.query(\"dataset in @datasets\").copy()\n",
    "tab.Dataset = pd.Categorical(tab.Dataset, datasets)\n",
    "\n",
    "tab[\"model_rank\"] = tab.groupby(\"dataset\").ARI_median.rank(ascending=False)\n",
    "tab.model = pd.Categorical(tab.model, tab.groupby(\"model\").model_rank.agg(\"median\").sort_values().index)\n",
    "\n",
    "position_dodge_width = 0.8\n",
    "tab[\"Model\"] = tab.model\n",
    "\n",
    "tab[\"Modality\"] = pd.Categorical(tab[\"modality\"], ['transcriptomics', \n",
    "                                  'transcriptomics + spatial', \n",
    "                                  'transcriptomics + image', \n",
    "                                  'transcriptomics + spatial + image'])"
   ]
  },
  {
   "cell_type": "code",
   "execution_count": null,
   "id": "1f819ac1-3084-44ac-9af3-7f55562fb935",
   "metadata": {
    "tags": []
   },
   "outputs": [],
   "source": [
    "p = (p9.ggplot(tab, p9.aes(\"Dataset\", \"ARI_median\")) \n",
    " + p9.geom_point(p9.aes(color=\"Model\", shape=\"Modality\"), size=3, position=p9.position_dodge(width=position_dodge_width)) \n",
    " + p9.facet_wrap(\"~Dataset\", scales=\"free\", ncol=5)\n",
    " + p9.geom_errorbar(p9.aes(x=\"Dataset\", ymin=\"ARI_median-ARI_std\",ymax=\"ARI_median+ARI_std\", color=\"Model\"), \n",
    "                    width=0.001, alpha=1, size=1,\n",
    "                   position=p9.position_dodge(width=position_dodge_width))\n",
    " + p9.theme_bw()\n",
    " + p9.theme(subplots_adjust={'wspace': 0.15}, figure_size=(20, 5), axis_text_x = p9.element_blank(), \n",
    "            legend_position=\"right\",\n",
    "            text=p9.element_text(size=15),\n",
    "            strip_text=p9.element_text(size=17),\n",
    "            legend_title=p9.element_text(size=17),\n",
    "            legend_text=p9.element_text(size=16))\n",
    " + p9.ylab(\"ARI\")\n",
    " + p9.xlab(\"\")\n",
    " + scale_color_prism(palette = \"colors\")\n",
    " + p9.guides(color=p9.guide_legend(nrow=4, override_aes = p9.aes(shape = \".\")))\n",
    " + p9.scale_y_continuous(breaks=list(np.arange(int(tab['ARI_median'].min()), int(tab['ARI_median'].max())+1, 0.1)))\n",
    ")\n",
    "p.save(\"figures/ari_performance.png\", dpi=300)\n",
    "p"
   ]
  },
  {
   "cell_type": "code",
   "execution_count": null,
   "id": "085c8c6c-27e0-45f8-a9a3-2f96071f6a22",
   "metadata": {},
   "outputs": [],
   "source": []
  }
 ],
 "metadata": {
  "kernelspec": {
   "display_name": "nonchev",
   "language": "python",
   "name": "nonchev"
  },
  "language_info": {
   "codemirror_mode": {
    "name": "ipython",
    "version": 3
   },
   "file_extension": ".py",
   "mimetype": "text/x-python",
   "name": "python",
   "nbconvert_exporter": "python",
   "pygments_lexer": "ipython3",
   "version": "3.9.16"
  }
 },
 "nbformat": 4,
 "nbformat_minor": 5
}
