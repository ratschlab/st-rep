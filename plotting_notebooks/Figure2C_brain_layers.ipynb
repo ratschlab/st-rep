{
 "cells": [
  {
   "cell_type": "code",
   "execution_count": null,
   "id": "8b0cf97a-b34a-4669-972e-1de4bf9bc538",
   "metadata": {},
   "outputs": [],
   "source": [
    "import matplotlib.pyplot as plt\n",
    "plt.rcParams.update({'font.size': 14})\n",
    "\n",
    "import matplotlib as mpl\n",
    "mpl.rcParams['figure.dpi'] = 300\n",
    "import sys\n",
    "sys.path.append(\"../\")\n",
    "from src.custom_plotting_functions import *"
   ]
  },
  {
   "cell_type": "code",
   "execution_count": null,
   "id": "0b551074-1915-4e63-8c08-c1d135bc26f0",
   "metadata": {
    "tags": []
   },
   "outputs": [],
   "source": [
    "dataset_path = \"maynard_human_brain_analysis\"\n",
    "sample = \"151676\"\n",
    "models = ['MUSE', 'Leiden', 'stLearn', 'SpaGCN', 'BayesSpace', 'GraphST', 'STAGATE', 'AESTETIK']\n",
    "grount_truth_ordered = [\"WM\", \"Layer_6\", \"Layer_5\", \"Layer_4\", \"Layer_3\", \"Layer_2\", \"Layer_1\"]\n",
    "get_st_plot(dataset_path, sample, models, ground_truth=False, dot_size=6, grount_truth_ordered=grount_truth_ordered,\n",
    "            out_path=True, pad=20, ncols=4, legend_loc=None, figsize=(5,5))"
   ]
  },
  {
   "cell_type": "code",
   "execution_count": null,
   "id": "bce16029-3b2b-468d-b90f-22ac94dce930",
   "metadata": {},
   "outputs": [],
   "source": []
  }
 ],
 "metadata": {
  "kernelspec": {
   "display_name": "nonchev",
   "language": "python",
   "name": "nonchev"
  },
  "language_info": {
   "codemirror_mode": {
    "name": "ipython",
    "version": 3
   },
   "file_extension": ".py",
   "mimetype": "text/x-python",
   "name": "python",
   "nbconvert_exporter": "python",
   "pygments_lexer": "ipython3",
   "version": "3.9.16"
  }
 },
 "nbformat": 4,
 "nbformat_minor": 5
}
