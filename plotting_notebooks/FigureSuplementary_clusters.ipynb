{
 "cells": [
  {
   "cell_type": "code",
   "execution_count": null,
   "id": "8b0cf97a-b34a-4669-972e-1de4bf9bc538",
   "metadata": {},
   "outputs": [],
   "source": [
    "import matplotlib.pyplot as plt\n",
    "import matplotlib as mpl\n",
    "mpl.rcParams['figure.dpi'] = 300\n",
    "plt.rcParams.update({'font.size': 14})\n",
    "import sys\n",
    "sys.path.append(\"../\")\n",
    "from src.custom_plotting_functions import *"
   ]
  },
  {
   "cell_type": "code",
   "execution_count": null,
   "id": "a891c4ad-a5e5-4238-9528-ee7fe5509e0c",
   "metadata": {
    "tags": []
   },
   "outputs": [],
   "source": [
    "dataset_path = \"maynard_human_brain_analysis\"\n",
    "sample = \"151676\"\n",
    "model = \"AESTETIK\"\n",
    "get_st_modality_plot(dataset_path, sample, model, ground_truth=True, dot_size=6, out_path=True, pad=20, legend_loc=None)"
   ]
  },
  {
   "cell_type": "code",
   "execution_count": null,
   "id": "527e8443-4758-4bb3-8783-ba81b6ddc7b9",
   "metadata": {
    "tags": []
   },
   "outputs": [],
   "source": [
    "dataset_path = \"cosMx_human_liver_normal\"\n",
    "sample = \"159\"\n",
    "models = ['MUSE', 'stLearn', 'SpaGCN', 'BayesSpace', 'GraphST', 'STAGATE', 'AESTETIK']\n",
    "get_st_plot(dataset_path, sample, models, ground_truth=True, dot_size=30,\n",
    "            out_path=True, pad=20, ncols=4, legend_loc=None, figsize=(5,5), \n",
    "            wspace=0.05, ground_truth_name=\"Annotation\")"
   ]
  },
  {
   "cell_type": "code",
   "execution_count": null,
   "id": "df8f0be8-92c7-45e8-83e7-87c6d23edd70",
   "metadata": {
    "tags": []
   },
   "outputs": [],
   "source": [
    "dataset_path = \"cosMx_human_liver_cancer\"\n",
    "sample = \"201\"\n",
    "models = ['MUSE', 'stLearn', 'SpaGCN', 'BayesSpace', 'GraphST', 'STAGATE', 'AESTETIK']\n",
    "get_st_plot(dataset_path, sample, models, ground_truth=True, dot_size=30,\n",
    "            out_path=True, pad=20, ncols=4, legend_loc=None, figsize=(5,5), \n",
    "            wspace=0.05, ground_truth_name=\"Annotation\")"
   ]
  },
  {
   "cell_type": "code",
   "execution_count": null,
   "id": "fdc1ff95-6588-4746-a8d4-739661ec80a8",
   "metadata": {
    "tags": []
   },
   "outputs": [],
   "source": [
    "dataset_path = \"human_breast_cancers\"\n",
    "sample = \"CID44971\"\n",
    "models = ['MUSE', 'stLearn', 'SpaGCN', 'BayesSpace', 'GraphST', 'STAGATE', 'AESTETIK']\n",
    "get_st_plot(dataset_path, sample, models, ground_truth=True, dot_size=10,\n",
    "            out_path=True, pad=20, ncols=4, legend_loc=None, figsize=(5,5), \n",
    "            wspace=0.0, ground_truth_name=\"Manual annotation\")"
   ]
  },
  {
   "cell_type": "code",
   "execution_count": null,
   "id": "7b07b30a-ffc3-424a-9ff5-454757c99396",
   "metadata": {},
   "outputs": [],
   "source": []
  }
 ],
 "metadata": {
  "kernelspec": {
   "display_name": "nonchev",
   "language": "python",
   "name": "nonchev"
  },
  "language_info": {
   "codemirror_mode": {
    "name": "ipython",
    "version": 3
   },
   "file_extension": ".py",
   "mimetype": "text/x-python",
   "name": "python",
   "nbconvert_exporter": "python",
   "pygments_lexer": "ipython3",
   "version": "3.9.16"
  }
 },
 "nbformat": 4,
 "nbformat_minor": 5
}
