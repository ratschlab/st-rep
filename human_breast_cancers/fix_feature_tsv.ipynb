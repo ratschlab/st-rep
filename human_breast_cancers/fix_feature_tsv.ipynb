{
 "cells": [
  {
   "cell_type": "code",
   "execution_count": 1,
   "id": "fd974e16-a2ee-451b-affc-6423556908f2",
   "metadata": {
    "tags": []
   },
   "outputs": [],
   "source": [
    "import pandas as pd"
   ]
  },
  {
   "cell_type": "code",
   "execution_count": 2,
   "id": "6ce39344-af8b-498e-8fb1-e5957de611cc",
   "metadata": {
    "tags": []
   },
   "outputs": [],
   "source": [
    "import glob"
   ]
  },
  {
   "cell_type": "code",
   "execution_count": 92,
   "id": "36a99e53-9885-4fed-8892-b50b32f9c11c",
   "metadata": {
    "tags": []
   },
   "outputs": [
    {
     "data": {
      "text/plain": [
       "['data/human_breast_cancers/filtered_count_matrices/CID4465_filtered_count_matrix',\n",
       " 'data/human_breast_cancers/filtered_count_matrices/1160920F_filtered_count_matrix',\n",
       " 'data/human_breast_cancers/filtered_count_matrices/CID4290_filtered_count_matrix',\n",
       " 'data/human_breast_cancers/filtered_count_matrices/CID44971_filtered_count_matrix',\n",
       " 'data/human_breast_cancers/filtered_count_matrices/CID4535_filtered_count_matrix',\n",
       " 'data/human_breast_cancers/filtered_count_matrices/1142243F_filtered_count_matrix']"
      ]
     },
     "execution_count": 92,
     "metadata": {},
     "output_type": "execute_result"
    }
   ],
   "source": [
    "feature_files = glob.glob(\"data/human_breast_cancers/filtered_count_matrices/*\")\n",
    "feature_files"
   ]
  },
  {
   "cell_type": "code",
   "execution_count": 86,
   "id": "34bca228-1efd-4324-a753-663a13590750",
   "metadata": {
    "tags": []
   },
   "outputs": [],
   "source": [
    "for file in feature_files[1:]:\n",
    "    df = pd.read_csv(file, header=None)\n",
    "    df[1] = [f\"gene_{l}\" for l in range(len(df))]\n",
    "    df[2] = \"Gene Expression\"\n",
    "    df.columns = [\"gene_symbols\", \"gene_ids\", \"feature_types\"]\n",
    "    df.to_csv(file, index=False, header=False, sep=\"\\t\")"
   ]
  },
  {
   "cell_type": "code",
   "execution_count": 93,
   "id": "f1119872-e4b4-4178-b1a6-b3082709263f",
   "metadata": {
    "tags": []
   },
   "outputs": [
    {
     "name": "stdout",
     "output_type": "stream",
     "text": [
      "AnnData object with n_obs × n_vars = 1211 × 19237\n",
      "    var: 'gene_ids', 'feature_types'\n",
      "AnnData object with n_obs × n_vars = 4895 × 28402\n",
      "    var: 'gene_ids', 'feature_types'\n",
      "AnnData object with n_obs × n_vars = 2432 × 19237\n",
      "    var: 'gene_ids', 'feature_types'\n",
      "AnnData object with n_obs × n_vars = 1162 × 19237\n",
      "    var: 'gene_ids', 'feature_types'\n",
      "AnnData object with n_obs × n_vars = 1127 × 19237\n",
      "    var: 'gene_ids', 'feature_types'\n",
      "AnnData object with n_obs × n_vars = 4784 × 28402\n",
      "    var: 'gene_ids', 'feature_types'\n"
     ]
    }
   ],
   "source": [
    "import scanpy as sc\n",
    "for file in feature_files:\n",
    "    adata = sc.read_10x_mtx(file, var_names=\"gene_symbols\")\n",
    "    print(adata)"
   ]
  },
  {
   "cell_type": "code",
   "execution_count": null,
   "id": "9f325f0e-e320-44ef-a1ef-8d0a7c366874",
   "metadata": {},
   "outputs": [],
   "source": []
  }
 ],
 "metadata": {
  "kernelspec": {
   "display_name": "nonchev",
   "language": "python",
   "name": "nonchev"
  },
  "language_info": {
   "codemirror_mode": {
    "name": "ipython",
    "version": 3
   },
   "file_extension": ".py",
   "mimetype": "text/x-python",
   "name": "python",
   "nbconvert_exporter": "python",
   "pygments_lexer": "ipython3",
   "version": "3.9.16"
  }
 },
 "nbformat": 4,
 "nbformat_minor": 5
}
